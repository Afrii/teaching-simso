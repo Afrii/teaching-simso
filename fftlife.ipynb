{
 "metadata": {
  "name": "fftlife"
 },
 "nbformat": 3,
 "nbformat_minor": 0,
 "worksheets": [
  {
   "cells": [
    {
     "cell_type": "code",
     "collapsed": false,
     "input": [
      "\n",
      "from pylab import *\n",
      "from scipy.ndimage import filters\n",
      "import pygame\n",
      "from pygame import surfarray\n",
      "matplotlib.rc(\"image\",cmap=\"gray\")\n",
      "matplotlib.rc(\"image\",interpolation=\"nearest\")\n",
      "pygame.init()\n",
      "OR = logical_or\n",
      "AND = logical_and"
     ],
     "language": "python",
     "metadata": {},
     "outputs": [],
     "prompt_number": 53
    },
    {
     "cell_type": "heading",
     "level": 1,
     "metadata": {},
     "source": [
      "PyGame Animation"
     ]
    },
    {
     "cell_type": "code",
     "collapsed": false,
     "input": [
      "w,h = 512,512\n",
      "screen = pygame.display.set_mode((w,h))\n",
      "surface = pygame.Surface((w,h),depth=8)\n",
      "\n",
      "def animate(images,n=20):\n",
      "    for i,image in enumerate(images):\n",
      "        if i>=n: break\n",
      "        b = array(255*clip(image,0,1),'B')\n",
      "        pygame.surfarray.blit_array(surface,b)\n",
      "        screen.blit(surface,(0,0))\n",
      "        pygame.display.flip()\n",
      "        \n",
      "def iterate(update,init,n=100000):\n",
      "    a = zeros((w,h),'d')\n",
      "    init(a)\n",
      "    for i in range(n):\n",
      "        yield a\n",
      "        update(a)\n",
      "    yield a"
     ],
     "language": "python",
     "metadata": {},
     "outputs": [],
     "prompt_number": 54
    },
    {
     "cell_type": "code",
     "collapsed": false,
     "input": [
      "def random(p):\n",
      "    def f(s): s[:,:] = 1.0*(rand(*s.shape)<p)\n",
      "    return f\n",
      "\n",
      "def blinker(s):\n",
      "    s[:,:] = 0\n",
      "    s[3:6,8] = 1\n",
      "\n",
      "def bugs(s):\n",
      "    a = array(s!=0,'f')\n",
      "    n = 11*11*filters.uniform_filter(a,11,mode='wrap')\n",
      "    s[:,:] = AND(n>=34,OR(n<=45,AND(n<=58,a)))"
     ],
     "language": "python",
     "metadata": {},
     "outputs": [],
     "prompt_number": 55
    },
    {
     "cell_type": "code",
     "collapsed": false,
     "input": [
      "animate(iterate(bugs,random(0.5)),500)"
     ],
     "language": "python",
     "metadata": {},
     "outputs": [],
     "prompt_number": 58
    },
    {
     "cell_type": "heading",
     "level": 1,
     "metadata": {},
     "source": [
      "Conway's Life with FFT"
     ]
    },
    {
     "cell_type": "code",
     "collapsed": false,
     "input": [
      "center = zeros((w,h))\n",
      "center[0,0] = 1\n",
      "surround = zeros((w,h))\n",
      "surround[:3,:3] = 1\n",
      "surround = roll(roll(surround,-1,0),-1,1)\n",
      "image = 1.0*(rand(w,h)>0.5)"
     ],
     "language": "python",
     "metadata": {},
     "outputs": [],
     "prompt_number": 59
    },
    {
     "cell_type": "code",
     "collapsed": false,
     "input": [
      "center_fft = fft2(center)\n",
      "surround_fft = fft2(surround)\n",
      "def life(image):\n",
      "    c = abs(ifft2(center_fft*fft2(image)))\n",
      "    s = abs(ifft2(surround_fft*fft2(image)))-c\n",
      "    c = floor(0.5+c)\n",
      "    s = floor(0.5+s)\n",
      "    image[:,:] = AND(s>=2,AND(s<=3,OR(c,s==3)))"
     ],
     "language": "python",
     "metadata": {},
     "outputs": [],
     "prompt_number": 60
    },
    {
     "cell_type": "code",
     "collapsed": false,
     "input": [
      "image = zeros((w,h))\n",
      "blinker(image)\n",
      "subplot(121); imshow(image[:16,:16].copy())\n",
      "life(image)\n",
      "subplot(122); imshow(image[:16,:16].copy())"
     ],
     "language": "python",
     "metadata": {},
     "outputs": [
      {
       "output_type": "pyout",
       "prompt_number": 61,
       "text": [
        "<matplotlib.image.AxesImage at 0x4a215d0>"
       ]
      },
      {
       "output_type": "display_data",
       "png": "[encoded data removed]"
      }
     ],
     "prompt_number": 61
    },
    {
     "cell_type": "code",
     "collapsed": false,
     "input": [
      "animate(iterate(life,random(0.5)),n=1000)"
     ],
     "language": "python",
     "metadata": {},
     "outputs": [],
     "prompt_number": 62
    },
    {
     "cell_type": "heading",
     "level": 1,
     "metadata": {},
     "source": [
      "SmoothLife with FFT"
     ]
    },
    {
     "cell_type": "code",
     "collapsed": false,
     "input": [
      "from scipy.ndimage import interpolation\n",
      "def make_circle(r):\n",
      "    s = 7\n",
      "    x,y = mgrid[s*-r:s*r+1,s*-r:s*r+1]\n",
      "    g = 1.0*(x**2+y**2<=(s*r)**2)\n",
      "    g = filters.uniform_filter(g,s)\n",
      "    return g[::s,::s]\n",
      "imshow(make_circle(10))"
     ],
     "language": "python",
     "metadata": {},
     "outputs": [
      {
       "output_type": "pyout",
       "prompt_number": 23,
       "text": [
        "<matplotlib.image.AxesImage at 0x581fa90>"
       ]
      },
      {
       "output_type": "display_data",
       "png": "[encoded data removed]"
      }
     ],
     "prompt_number": 23
    },
    {
     "cell_type": "code",
     "collapsed": false,
     "input": [
      "def make_fft_circle(r,size=(w,h)):\n",
      "    w,h = size\n",
      "    out = zeros((w,h))\n",
      "    c = make_circle(r)\n",
      "    cw,ch = c.shape\n",
      "    out[:cw,:ch] = c\n",
      "    return roll(roll(out,-cw//2,0),-ch//2,1)\n",
      "imshow(make_fft_circle(100))"
     ],
     "language": "python",
     "metadata": {},
     "outputs": [
      {
       "output_type": "pyout",
       "prompt_number": 27,
       "text": [
        "<matplotlib.image.AxesImage at 0x6b3b6d0>"
       ]
      },
      {
       "output_type": "display_data",
       "png": "[encoded data removed]"
      }
     ],
     "prompt_number": 27
    },
    {
     "cell_type": "code",
     "collapsed": false,
     "input": [
      "ri = 2\n",
      "ro = 10\n",
      "scenter_fft = fft2(make_fft_circle(ri))\n",
      "ssurround_fft = fft2(make_fft_circle(ro))\n",
      "def slife(image):\n",
      "    c = abs(ifft2(scenter_fft*fft2(image)))\n",
      "    s = abs(ifft2(ssurround_fft*fft2(image)))-c\n",
      "    image[:,:] = (s>3.5) # AND(s>=40,AND(s<=65,OR(c>3.5,s<=100)))\n",
      "    return c,s\n",
      "animate(iterate(slife,random(0.5)),n=10)"
     ],
     "language": "python",
     "metadata": {},
     "outputs": [],
     "prompt_number": 51
    },
    {
     "cell_type": "code",
     "collapsed": false,
     "input": [
      "image = zeros((w,h))\n",
      "random(0.5)(image)\n",
      "c,s = slife(image)\n",
      "print mean(c),mean(s)"
     ],
     "language": "python",
     "metadata": {},
     "outputs": [
      {
       "output_type": "stream",
       "stream": "stdout",
       "text": [
        "7.37033353533 152.108963947\n"
       ]
      }
     ],
     "prompt_number": 37
    },
    {
     "cell_type": "code",
     "collapsed": false,
     "input": [
      "3*152/8"
     ],
     "language": "python",
     "metadata": {},
     "outputs": [
      {
       "output_type": "pyout",
       "prompt_number": 42,
       "text": [
        "57"
       ]
      }
     ],
     "prompt_number": 42
    },
    {
     "cell_type": "code",
     "collapsed": false,
     "input": [],
     "language": "python",
     "metadata": {},
     "outputs": [],
     "prompt_number": 39
    },
    {
     "cell_type": "code",
     "collapsed": false,
     "input": [],
     "language": "python",
     "metadata": {},
     "outputs": []
    }
   ],
   "metadata": {}
  }
 ]
}