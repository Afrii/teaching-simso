{
 "metadata": {
  "name": "21-first-sealed-bid-auctions"
 },
 "nbformat": 3,
 "nbformat_minor": 0,
 "worksheets": [
  {
   "cells": [
    {
     "cell_type": "markdown",
     "metadata": {},
     "source": [
      "Title: First Sealed Bid Auctions\n",
      "Author: Thomas M. Breuel\n",
      "Institution: UniKL"
     ]
    },
    {
     "cell_type": "code",
     "collapsed": false,
     "input": [
      "\n",
      "from pylab import *"
     ],
     "language": "python",
     "metadata": {},
     "outputs": [],
     "prompt_number": 189
    },
    {
     "cell_type": "heading",
     "level": 1,
     "metadata": {},
     "source": [
      "Agent-Based First Sealed Bid Auctions"
     ]
    },
    {
     "cell_type": "markdown",
     "metadata": {},
     "source": [
      "(first seald bid auctions)\n",
      "\n",
      "First sealed bid auctions are the simplest form of auction:\n",
      "\n",
      "- each participant estimates the value of the item based on information from the auctioneer\n",
      "- each participant makes a sealed bid on the item\n",
      "- the auctioneer selects the highest bid and awards the item to the highest bidder"
     ]
    },
    {
     "cell_type": "markdown",
     "metadata": {},
     "source": [
      "(auction protocol)\n",
      "\n",
      "The auctioneer calls the following methods in sequence:\n",
      "\n",
      "- `giveEstimate(estimate)`\n",
      "- `solicitBid()`\n",
      "- winning bid: update `balance` and `value`\n",
      "- losing bid: call `winningBid(paid)`"
     ]
    },
    {
     "cell_type": "markdown",
     "metadata": {},
     "source": [
      "(default strategy)\n",
      "\n",
      "The default strategy of the bidder is to bid a fraction of the estimated value."
     ]
    },
    {
     "cell_type": "markdown",
     "metadata": {},
     "source": [
      "(common value model)\n",
      "\n",
      "In this model, we are looking at _common value auctions_.\n",
      "\n",
      "That is:\n",
      "\n",
      "- each bidder assigns the same value to the object\n",
      "- they receive unbiased but random estimates of the value"
     ]
    },
    {
     "cell_type": "code",
     "collapsed": false,
     "input": [
      "class FSBidder:\n",
      "    def __init__(self,fraction=0.5):\n",
      "        self.balance = 0\n",
      "        self.value = 0\n",
      "        self.fraction = fraction\n",
      "    def giveEstimate(self,estimate):\n",
      "        self.estimate = estimate\n",
      "    def solicitBid(self):\n",
      "        return self.estimate * self.fraction\n",
      "    def winningBid(self,paid,winner):\n",
      "        pass\n",
      "    def gain(self):\n",
      "        return self.value+self.balance"
     ],
     "language": "python",
     "metadata": {},
     "outputs": [],
     "prompt_number": 127
    },
    {
     "cell_type": "code",
     "collapsed": false,
     "input": [
      "class FSBAuctioneer:\n",
      "    def __init__(self,participants,uncertainty=0.1,values=None):\n",
      "        self.participants = participants\n",
      "        self.uncertainty = uncertainty\n",
      "        if values is None: values = lambda: 100.0+10.0*rand()\n",
      "        self.genvalue = values\n",
      "    def auction(self):\n",
      "        value = self.genvalue()\n",
      "        for p in self.participants:\n",
      "            estimate = value+randn()*self.uncertainty*value\n",
      "            p.giveEstimate(estimate)\n",
      "        bids = [clip(p.solicitBid(),0.0,10*value) for p in participants]\n",
      "        winner = argmax(bids)\n",
      "        bid = bids[winner]\n",
      "        winner = self.participants[winner]\n",
      "        winner.balance -= bid\n",
      "        winner.value += value\n",
      "        for p in self.participants:\n",
      "            p.winningBid(bid,p==winner)\n",
      "    def gains(self,N=10000):\n",
      "        for i in range(N): self.auction()\n",
      "        return tuple([p.gain()/N for p in self.participants])"
     ],
     "language": "python",
     "metadata": {},
     "outputs": [],
     "prompt_number": 188
    },
    {
     "cell_type": "markdown",
     "metadata": {},
     "source": [
      "(possible objectives)\n",
      "\n",
      "- maximize wealth individually\n",
      "- be the winner (make more than the other participants in $N$ rounds)\n",
      "- cooperate to maximize wealth"
     ]
    },
    {
     "cell_type": "heading",
     "level": 1,
     "metadata": {},
     "source": [
      "Simple Auctions"
     ]
    },
    {
     "cell_type": "markdown",
     "metadata": {},
     "source": [
      "(simple auctions)\n",
      "\n",
      "- each participant uses a fixed strategy\n",
      "- strategy: bid some fraction of the estimated value\n",
      "- all auctions are independent from each other\n",
      "- participants have no memory of prior bids against each other"
     ]
    },
    {
     "cell_type": "code",
     "collapsed": false,
     "input": [
      "# number of auction rounds\n",
      "N = 10000"
     ],
     "language": "python",
     "metadata": {},
     "outputs": [],
     "prompt_number": 133
    },
    {
     "cell_type": "code",
     "collapsed": false,
     "input": [
      "# symmetric auction\n",
      "participants = [FSBidder(fraction=0.5),FSBidder(fraction=0.5)]\n",
      "print FSBAuctioneer(participants).gains()"
     ],
     "language": "python",
     "metadata": {},
     "outputs": [
      {
       "output_type": "stream",
       "stream": "stdout",
       "text": [
        "(25.046050150255017, 24.475529412717208)\n"
       ]
      }
     ],
     "prompt_number": 134
    },
    {
     "cell_type": "markdown",
     "metadata": {},
     "source": [
      "Symmetric strategies yield symmetric outcomes.\n",
      "\n",
      "**QUESTION** Why is the payoff around 24 / item?"
     ]
    },
    {
     "cell_type": "code",
     "collapsed": false,
     "input": [
      "# asymmetric strategies\n",
      "participants = [FSBidder(),FSBidder(fraction=0.8)]\n",
      "auctioneer = FSBAuctioneer(participants).gains()"
     ],
     "language": "python",
     "metadata": {},
     "outputs": [],
     "prompt_number": 135
    },
    {
     "cell_type": "markdown",
     "metadata": {},
     "source": [
      "Higher bidder gains more."
     ]
    },
    {
     "cell_type": "code",
     "collapsed": false,
     "input": [
      "# negative payoffs for high fractions\n",
      "participants = [FSBidder(fraction=1.0),FSBidder(fraction=1.0)]\n",
      "print FSBAuctioneer(participants).gains()\n"
     ],
     "language": "python",
     "metadata": {},
     "outputs": [
      {
       "output_type": "stream",
       "stream": "stdout",
       "text": [
        "(-2.9739004912811273, -3.005326813454833)\n"
       ]
      }
     ],
     "prompt_number": 136
    },
    {
     "cell_type": "markdown",
     "metadata": {},
     "source": [
      "If the participants bid too high, they both lose money."
     ]
    },
    {
     "cell_type": "code",
     "collapsed": false,
     "input": [
      "# small payoffs for high fractions\n",
      "participants = [FSBidder(fraction=0.9),FSBidder(fraction=0.9)]\n",
      "print FSBAuctioneer(participants).gains()\n"
     ],
     "language": "python",
     "metadata": {},
     "outputs": [
      {
       "output_type": "stream",
       "stream": "stdout",
       "text": [
        "(2.6582303661377868, 2.5352672945583823)\n"
       ]
      }
     ],
     "prompt_number": 137
    },
    {
     "cell_type": "markdown",
     "metadata": {},
     "source": [
      "If both participants bid high but not too high, they both still make a small profit."
     ]
    },
    {
     "cell_type": "code",
     "collapsed": false,
     "input": [
      "# strategy depends on opponents\n",
      "participants = [FSBidder(fraction=0.8),FSBidder(fraction=0.85)]\n",
      "print FSBAuctioneer(participants).gains()\n",
      "\n",
      "participants = [FSBidder(fraction=0.9),FSBidder(fraction=0.95)]\n",
      "print FSBAuctioneer(participants).gains()\n"
     ],
     "language": "python",
     "metadata": {},
     "outputs": [
      {
       "output_type": "stream",
       "stream": "stdout",
       "text": [
        "(4.9943923511150699, 8.0994750832667108)\n",
        "(1.3059873127781669, 0.78455258824138441)"
       ]
      },
      {
       "output_type": "stream",
       "stream": "stdout",
       "text": [
        "\n"
       ]
      }
     ],
     "prompt_number": 138
    },
    {
     "cell_type": "markdown",
     "metadata": {},
     "source": [
      "**HYPOTHESIS** Bidding higher is always the better strategy.\n",
      "\n",
      "**OBSERVATION** The higher bidder doesn't always come out ahead, it depends on both participants. (Why?)"
     ]
    },
    {
     "cell_type": "code",
     "collapsed": false,
     "input": [
      "# effect of uncertainty\n",
      "participants = [FSBidder(fraction=0.8),FSBidder(fraction=0.9)]\n",
      "print FSBAuctioneer(participants,uncertainty=0.2).gains()\n",
      "\n",
      "participants = [FSBidder(fraction=0.8),FSBidder(fraction=0.9)]\n",
      "print FSBAuctioneer(participants,uncertainty=0.0).gains()\n"
     ],
     "language": "python",
     "metadata": {},
     "outputs": [
      {
       "output_type": "stream",
       "stream": "stdout",
       "text": [
        "(3.1277865367401274, 1.4563448973461752)\n",
        "(0, 10.499582897542254)"
       ]
      },
      {
       "output_type": "stream",
       "stream": "stdout",
       "text": [
        "\n"
       ]
      }
     ],
     "prompt_number": 139
    },
    {
     "cell_type": "markdown",
     "metadata": {},
     "source": [
      "**HYPOTHESIS** Bidding higher is always the better strategy.\n",
      "\n",
      "**OBSERVATION** The higher bidder doesn't always come out ahead, it also depends on the accuracy of the value estimate. (Why?)"
     ]
    },
    {
     "cell_type": "code",
     "collapsed": false,
     "input": [
      "# effect of value distribution\n",
      "def values(): return rand()*100.0\n",
      "\n",
      "participants = [FSBidder(fraction=0.8),FSBidder(fraction=0.9)]\n",
      "print FSBAuctioneer(participants).gains()\n",
      "\n",
      "participants = [FSBidder(fraction=0.8),FSBidder(fraction=0.9)]\n",
      "print FSBAuctioneer(participants,values=values).gains()\n"
     ],
     "language": "python",
     "metadata": {},
     "outputs": [
      {
       "output_type": "stream",
       "stream": "stdout",
       "text": [
        "(2.7044286814958496, 6.3899841730313147)\n",
        "(1.2644742119848713, 3.1105612133818328)"
       ]
      },
      {
       "output_type": "stream",
       "stream": "stdout",
       "text": [
        "\n"
       ]
      }
     ],
     "prompt_number": 140
    },
    {
     "cell_type": "markdown",
     "metadata": {},
     "source": [
      "**QUESTION** Are there value distributions for which the order of strategies is different?"
     ]
    },
    {
     "cell_type": "heading",
     "level": 1,
     "metadata": {},
     "source": [
      "Nash Equilibrium"
     ]
    },
    {
     "cell_type": "code",
     "collapsed": false,
     "input": [
      "# different symmetric strategies\n",
      "for fraction in linspace(0.1,1.1,11):\n",
      "    participants = [FSBidder(fraction=fraction),FSBidder(fraction=fraction)]\n",
      "    gains = FSBAuctioneer(participants).gains()\n",
      "    print fraction,gains\n"
     ],
     "language": "python",
     "metadata": {},
     "outputs": [
      {
       "output_type": "stream",
       "stream": "stdout",
       "text": [
        "0.1 (47.562847947353788, 46.380417000917575)\n",
        "0.2"
       ]
      },
      {
       "output_type": "stream",
       "stream": "stdout",
       "text": [
        " (41.225704227030697, 41.588961206268586)\n",
        "0.3"
       ]
      },
      {
       "output_type": "stream",
       "stream": "stdout",
       "text": [
        " (36.118559398203985, 35.592923346795779)\n",
        "0.4"
       ]
      },
      {
       "output_type": "stream",
       "stream": "stdout",
       "text": [
        " (30.369951722083556, 30.295369912215655)\n",
        "0.5"
       ]
      },
      {
       "output_type": "stream",
       "stream": "stdout",
       "text": [
        " (24.752970188689844, 24.803998351399969)\n",
        "0.6"
       ]
      },
      {
       "output_type": "stream",
       "stream": "stdout",
       "text": [
        " (18.992309067881767, 19.535650702905276)\n",
        "0.7"
       ]
      },
      {
       "output_type": "stream",
       "stream": "stdout",
       "text": [
        " (13.538031853436749, 13.818058371822623)\n",
        "0.8"
       ]
      },
      {
       "output_type": "stream",
       "stream": "stdout",
       "text": [
        " (8.1333071004306952, 8.1194391959256151)\n",
        "0.9"
       ]
      },
      {
       "output_type": "stream",
       "stream": "stdout",
       "text": [
        " (2.5177477859080653, 2.5302445925904729)\n",
        "1.0"
       ]
      },
      {
       "output_type": "stream",
       "stream": "stdout",
       "text": [
        " (-2.9415568714316644, -3.0185927546900815)\n",
        "1.1"
       ]
      },
      {
       "output_type": "stream",
       "stream": "stdout",
       "text": [
        " (-8.5938735075340844, -8.3848969165120746)\n"
       ]
      }
     ],
     "prompt_number": 141
    },
    {
     "cell_type": "markdown",
     "metadata": {},
     "source": [
      "Note that if the players are cooperating, they should simply agree to bid as little as possible.\n",
      "They then maximize their gain (of course, the seller of the item loses)."
     ]
    },
    {
     "cell_type": "code",
     "collapsed": false,
     "input": [
      "# unstable strategy\n",
      "participants = [FSBidder(fraction=0.1),FSBidder(fraction=0.1)]\n",
      "print (0.1,0.1),FSBAuctioneer(participants).gains()\n",
      "\n",
      "participants = [FSBidder(fraction=0.1),FSBidder(fraction=0.2)]\n",
      "print (0.1,0.2),FSBAuctioneer(participants).gains()\n"
     ],
     "language": "python",
     "metadata": {},
     "outputs": [
      {
       "output_type": "stream",
       "stream": "stdout",
       "text": [
        "(0.1, 0.1) "
       ]
      },
      {
       "output_type": "stream",
       "stream": "stdout",
       "text": [
        "(46.85341151256025, 47.073270122145324)\n",
        "(0.1, 0.2) "
       ]
      },
      {
       "output_type": "stream",
       "stream": "stdout",
       "text": [
        "(0, 84.017357020643161)\n"
       ]
      }
     ],
     "prompt_number": 142
    },
    {
     "cell_type": "markdown",
     "metadata": {},
     "source": [
      "However, such a strategy requires cooperation, since any one of the players can make more money by increasing their bids."
     ]
    },
    {
     "cell_type": "code",
     "collapsed": false,
     "input": [
      "# stability\n",
      "for fraction in linspace(0.8,1.0,5):\n",
      "    participants = [FSBidder(fraction=fraction),FSBidder(fraction=fraction-0.03)]\n",
      "    print fraction,\n",
      "    print \"  %.2f %.2f\"%FSBAuctioneer(participants).gains(),\n",
      "    participants = [FSBidder(fraction=fraction),FSBidder(fraction=fraction)]\n",
      "    print \"  %.2f %.2f\"%FSBAuctioneer(participants).gains(),\n",
      "    participants = [FSBidder(fraction=fraction),FSBidder(fraction=fraction+0.03)]\n",
      "    print \"  %.2f %.2f\"%FSBAuctioneer(participants).gains()\n"
     ],
     "language": "python",
     "metadata": {},
     "outputs": [
      {
       "output_type": "stream",
       "stream": "stdout",
       "text": [
        "0.8 "
       ]
      },
      {
       "output_type": "stream",
       "stream": "stdout",
       "text": [
        "  10.53 7.34 "
       ]
      },
      {
       "output_type": "stream",
       "stream": "stdout",
       "text": [
        "  8.29 8.03 "
       ]
      },
      {
       "output_type": "stream",
       "stream": "stdout",
       "text": [
        "  6.00 8.34\n",
        "0.85 "
       ]
      },
      {
       "output_type": "stream",
       "stream": "stdout",
       "text": [
        "  6.97 5.21 "
       ]
      },
      {
       "output_type": "stream",
       "stream": "stdout",
       "text": [
        "  5.34 5.34 "
       ]
      },
      {
       "output_type": "stream",
       "stream": "stdout",
       "text": [
        "  3.83 4.89\n",
        "0.9 "
       ]
      },
      {
       "output_type": "stream",
       "stream": "stdout",
       "text": [
        "  3.58 3.03 "
       ]
      },
      {
       "output_type": "stream",
       "stream": "stdout",
       "text": [
        "  2.59 2.55 "
       ]
      },
      {
       "output_type": "stream",
       "stream": "stdout",
       "text": [
        "  1.72 1.64\n",
        "0.95 "
       ]
      },
      {
       "output_type": "stream",
       "stream": "stdout",
       "text": [
        "  0.31 0.88 "
       ]
      },
      {
       "output_type": "stream",
       "stream": "stdout",
       "text": [
        "  -0.16 -0.21 "
       ]
      },
      {
       "output_type": "stream",
       "stream": "stdout",
       "text": [
        "  -0.57 -1.73\n",
        "1.0 "
       ]
      },
      {
       "output_type": "stream",
       "stream": "stdout",
       "text": [
        "  -2.96 -1.42 "
       ]
      },
      {
       "output_type": "stream",
       "stream": "stdout",
       "text": [
        "  -3.00 -3.11 "
       ]
      },
      {
       "output_type": "stream",
       "stream": "stdout",
       "text": [
        "  -2.87 -4.85\n"
       ]
      }
     ],
     "prompt_number": 143
    },
    {
     "cell_type": "markdown",
     "metadata": {},
     "source": [
      "Note that around `fraction=0.9`, participant 2 is worse off by increasing their bid."
     ]
    },
    {
     "cell_type": "markdown",
     "metadata": {},
     "source": [
      "(Nash equilibrium)\n",
      "\n",
      "- non-cooperative game\n",
      "- each player knows all the choices of all the other players\n",
      "- it's the choice of strategy for each player where no player gains anything by changing their strategy\n",
      "\n",
      "For games with continuuous parameters, we need to check:\n",
      "\n",
      "- local optimum\n",
      "- global optimum\n",
      "\n",
      "It's (supposedly) rational for all players to choose the Nash equilibrium."
     ]
    },
    {
     "cell_type": "heading",
     "level": 1,
     "metadata": {},
     "source": [
      "Repeated Auctions"
     ]
    },
    {
     "cell_type": "markdown",
     "metadata": {},
     "source": [
      "(so far)\n",
      "\n",
      "- non-cooperative auctions\n",
      "- no memory\n",
      "- fixed strategy (bid fraction of estimated value)\n",
      "- two participants\n",
      "\n",
      "**QUESTION** Is bidding a fraction of the estimate the best possible strategy in that situation? Can we do better?"
     ]
    },
    {
     "cell_type": "markdown",
     "metadata": {},
     "source": [
      "(adaptive strategies)\n",
      "\n",
      "- repeated auctions\n",
      "- one fixed player, one adaptive player\n",
      "- players can observe some of the results from previous auctions\n",
      "\n",
      "Can the adaptive player beat the fixed player?"
     ]
    },
    {
     "cell_type": "markdown",
     "metadata": {},
     "source": [
      "(adaptive bidder)\n",
      "\n",
      "- estimate the strategy used by the fixed bidder by averaging the actual fraction of past winning bids\n",
      "- update our fraction as we go along\n",
      "- the fact that we estimate the fraction based on the winning bid lets us learn a fraction that wins\n",
      "- that is, our estimate is automatically a little higher than the fraction used by competitors"
     ]
    },
    {
     "cell_type": "code",
     "collapsed": false,
     "input": [
      "# adaptive bidder\n",
      "class FSBidderWithStats:\n",
      "    def __init__(self,fraction=0.5):\n",
      "        self.balance = 0\n",
      "        self.value = 0\n",
      "        self.fraction = fraction\n",
      "        self.fractions = [fraction]\n",
      "    def giveEstimate(self,estimate):\n",
      "        self.estimate = estimate\n",
      "    def solicitBid(self):\n",
      "        return self.estimate * mean(self.fractions)\n",
      "    def gain(self):\n",
      "        return self.value+self.balance\n",
      "    def winningBid(self,paid,winner):\n",
      "        if not winner: self.fractions.append(paid/self.estimate)"
     ],
     "language": "python",
     "metadata": {},
     "outputs": [],
     "prompt_number": 147
    },
    {
     "cell_type": "code",
     "collapsed": false,
     "input": [
      "# adaptation\n",
      "participants = [FSBidder(fraction=0.7),FSBidder(fraction=0.9)]\n",
      "print FSBAuctioneer(participants).gains()\n",
      "participants = [FSBidder(fraction=0.7),FSBidder(fraction=0.5)]\n",
      "print FSBAuctioneer(participants).gains()\n",
      "participants = [FSBidder(fraction=0.7),FSBidderWithStats(fraction=0.5)]\n",
      "print FSBAuctioneer(participants).gains()"
     ],
     "language": "python",
     "metadata": {},
     "outputs": [
      {
       "output_type": "stream",
       "stream": "stdout",
       "text": [
        "(0.83877758422253579, 9.3970038070321191)\n",
        "(30.981639597716683, 0.43279590752191527)"
       ]
      },
      {
       "output_type": "stream",
       "stream": "stdout",
       "text": [
        "\n",
        "(0.98756326063714372, 8.62877231800144)"
       ]
      },
      {
       "output_type": "stream",
       "stream": "stdout",
       "text": [
        "\n"
       ]
      }
     ],
     "prompt_number": 153
    },
    {
     "cell_type": "markdown",
     "metadata": {},
     "source": [
      "The adaptive bidder performs almost as well as a good fixed strategy."
     ]
    },
    {
     "cell_type": "code",
     "collapsed": false,
     "input": [
      "# adaptation vs all fixed strategies\n",
      "for fraction in linspace(0.1,1.1,11):\n",
      "    participants = [FSBidder(fraction=fraction),FSBidderWithStats(fraction=0.05)]\n",
      "    auctioneer = FSBAuctioneer(participants,uncertainty=0.05)\n",
      "    print fraction,\n",
      "    print \"  %.2f %.2f\"%auctioneer.gains(),\n",
      "    print \"  %.3f\"%mean(auctioneer.participants[-1].fractions)\n"
     ],
     "language": "python",
     "metadata": {},
     "outputs": [
      {
       "output_type": "stream",
       "stream": "stdout",
       "text": [
        "0.1 "
       ]
      },
      {
       "output_type": "stream",
       "stream": "stdout",
       "text": [
        "  4.45 88.64   0.115\n",
        "0.2 "
       ]
      },
      {
       "output_type": "stream",
       "stream": "stdout",
       "text": [
        "  6.80 74.84   0.226\n",
        "0.3 "
       ]
      },
      {
       "output_type": "stream",
       "stream": "stdout",
       "text": [
        "  4.82 64.91   0.340\n",
        "0.4 "
       ]
      },
      {
       "output_type": "stream",
       "stream": "stdout",
       "text": [
        "  5.35 53.04   0.451\n",
        "0.5 "
       ]
      },
      {
       "output_type": "stream",
       "stream": "stdout",
       "text": [
        "  4.16 42.55   0.563\n",
        "0.6 "
       ]
      },
      {
       "output_type": "stream",
       "stream": "stdout",
       "text": [
        "  3.50 31.78   0.675\n",
        "0.7 "
       ]
      },
      {
       "output_type": "stream",
       "stream": "stdout",
       "text": [
        "  1.81 20.98   0.795\n",
        "0.8 "
       ]
      },
      {
       "output_type": "stream",
       "stream": "stdout",
       "text": [
        "  1.15 10.03   0.908\n",
        "0.9 "
       ]
      },
      {
       "output_type": "stream",
       "stream": "stdout",
       "text": [
        "  0.25 -1.62   1.028\n",
        "1.0 "
       ]
      },
      {
       "output_type": "stream",
       "stream": "stdout",
       "text": [
        "  -0.50 -10.81   1.124\n",
        "1.1 "
       ]
      },
      {
       "output_type": "stream",
       "stream": "stdout",
       "text": [
        "  -1.30 -22.30   1.242\n"
       ]
      }
     ],
     "prompt_number": 156
    },
    {
     "cell_type": "markdown",
     "metadata": {},
     "source": [
      "Adaptation wins over any of the fixed strategies, until it actually starts losing money. (I.e. it succeeds at always winning the auction, but beyond some point, that becomes itself a losing strategy.)"
     ]
    },
    {
     "cell_type": "code",
     "collapsed": false,
     "input": [
      "# adaptive bidder\n",
      "class FSBidderWithStats1(FSBidderWithStats):\n",
      "    def solicitBid(self):\n",
      "        return self.estimate * clip(mean(self.fractions),0.0,0.95)\n"
     ],
     "language": "python",
     "metadata": {},
     "outputs": [],
     "prompt_number": 163
    },
    {
     "cell_type": "markdown",
     "metadata": {},
     "source": [
      "Here is a simple fix for that behavior: we just limit our bids to up to 95% of the estimated value."
     ]
    },
    {
     "cell_type": "code",
     "collapsed": false,
     "input": [
      "# test of improved adaptive bidder\n",
      "for fraction in linspace(0.1,1.1,11):\n",
      "    participants = [FSBidder(fraction=fraction),FSBidderWithStats1(fraction=0.05)]\n",
      "    auctioneer = FSBAuctioneer(participants,uncertainty=0.05)\n",
      "    print fraction,\n",
      "    print \"  %.2f %.2f\"%auctioneer.gains(),\n",
      "    print \"  %.3f\"%mean(auctioneer.participants[-1].fractions)\n"
     ],
     "language": "python",
     "metadata": {},
     "outputs": [
      {
       "output_type": "stream",
       "stream": "stdout",
       "text": [
        "0.1 "
       ]
      },
      {
       "output_type": "stream",
       "stream": "stdout",
       "text": [
        "  5.86 87.39   0.114\n",
        "0.2 "
       ]
      },
      {
       "output_type": "stream",
       "stream": "stdout",
       "text": [
        "  6.34 75.27   0.226\n",
        "0.3 "
       ]
      },
      {
       "output_type": "stream",
       "stream": "stdout",
       "text": [
        "  5.76 64.15   0.339\n",
        "0.4 "
       ]
      },
      {
       "output_type": "stream",
       "stream": "stdout",
       "text": [
        "  3.42 54.47   0.456\n",
        "0.5 "
       ]
      },
      {
       "output_type": "stream",
       "stream": "stdout",
       "text": [
        "  2.71 43.22   0.571\n",
        "0.6 "
       ]
      },
      {
       "output_type": "stream",
       "stream": "stdout",
       "text": [
        "  2.84 32.04   0.678\n",
        "0.7 "
       ]
      },
      {
       "output_type": "stream",
       "stream": "stdout",
       "text": [
        "  1.82 21.00   0.794\n",
        "0.8 "
       ]
      },
      {
       "output_type": "stream",
       "stream": "stdout",
       "text": [
        "  1.07 9.74   0.910\n",
        "0.9 "
       ]
      },
      {
       "output_type": "stream",
       "stream": "stdout",
       "text": [
        "  1.40 3.02   0.989\n",
        "1.0 "
       ]
      },
      {
       "output_type": "stream",
       "stream": "stdout",
       "text": [
        "  -1.15 0.18   1.030\n",
        "1.1 "
       ]
      },
      {
       "output_type": "stream",
       "stream": "stdout",
       "text": [
        "  -10.48 -0.05   1.106\n"
       ]
      }
     ],
     "prompt_number": 164
    },
    {
     "cell_type": "code",
     "collapsed": false,
     "input": [
      "# plot of adaptation\n",
      "participants = [FSBidder(fraction=0.5),FSBidderWithStats1(fraction=0.05)]\n",
      "auctioneer = FSBAuctioneer(participants,uncertainty=0.05)\n",
      "print auctioneer.gains()\n",
      "plot(participants[-1].fractions)"
     ],
     "language": "python",
     "metadata": {},
     "outputs": [
      {
       "output_type": "stream",
       "stream": "stdout",
       "text": [
        "(3.8519426934014058, 42.773409141151085)\n"
       ]
      },
      {
       "output_type": "pyout",
       "prompt_number": 166,
       "text": [
        "[<matplotlib.lines.Line2D at 0x3ab1850>]"
       ]
      },
      {
       "output_type": "display_data",
       "png": "[encoded data removed]"
      }
     ],
     "prompt_number": 166
    },
    {
     "cell_type": "heading",
     "level": 1,
     "metadata": {},
     "source": [
      "Competing Adaptive Strategies"
     ]
    },
    {
     "cell_type": "code",
     "collapsed": false,
     "input": [
      "# competing adaptive strategies\n",
      "participants = [FSBidderWithStats1(fraction=0.5),FSBidderWithStats1(fraction=0.5)]\n",
      "auctioneer = FSBAuctioneer(participants,uncertainty=0.05)\n",
      "print auctioneer.gains()\n",
      "plot(participants[-1].fractions)"
     ],
     "language": "python",
     "metadata": {},
     "outputs": [
      {
       "output_type": "stream",
       "stream": "stdout",
       "text": [
        "(11.154282816574774, 11.438737988877245)\n"
       ]
      },
      {
       "output_type": "pyout",
       "prompt_number": 170,
       "text": [
        "[<matplotlib.lines.Line2D at 0x4245a50>]"
       ]
      },
      {
       "output_type": "display_data",
       "png": "[encoded data removed]"
      }
     ],
     "prompt_number": 170
    },
    {
     "cell_type": "code",
     "collapsed": false,
     "input": [
      "class FSBidderWithRecentStats:\n",
      "    def __init__(self,fraction=0.5,n=100):\n",
      "        self.balance = 0\n",
      "        self.value = 0\n",
      "        self.fraction = fraction\n",
      "        self.fractions = [fraction]\n",
      "        self.n = n\n",
      "    def giveEstimate(self,estimate):\n",
      "        self.estimate = estimate\n",
      "    def solicitBid(self):\n",
      "        return self.estimate * clip(mean(self.fractions[-self.n:]),0.0,0.95)\n",
      "    def gain(self):\n",
      "        return self.value+self.balance\n",
      "    def winningBid(self,paid,winner):\n",
      "        self.fractions.append(paid/self.estimate)"
     ],
     "language": "python",
     "metadata": {},
     "outputs": [],
     "prompt_number": 178
    },
    {
     "cell_type": "code",
     "collapsed": false,
     "input": [
      "for i in range(10):\n",
      "    f = rand()\n",
      "    participants = [FSBidderWithStats1(fraction=f),FSBidderWithRecentStats(fraction=0.5,n=100)]\n",
      "    auctioneer = FSBAuctioneer(participants,uncertainty=0.05)\n",
      "    print f,auctioneer.gains()"
     ],
     "language": "python",
     "metadata": {},
     "outputs": [
      {
       "output_type": "stream",
       "stream": "stdout",
       "text": [
        "0.542693379516 "
       ]
      },
      {
       "output_type": "stream",
       "stream": "stdout",
       "text": [
        "(2.2953636057602185, 4.4370653816073666)\n",
        "0.545817985077 "
       ]
      },
      {
       "output_type": "stream",
       "stream": "stdout",
       "text": [
        "(2.2124630362098978, 3.5822433890168091)\n",
        "0.285740235955 "
       ]
      },
      {
       "output_type": "stream",
       "stream": "stdout",
       "text": [
        "(2.5270076684182263, 10.028541109284967)\n",
        "0.917042394666 "
       ]
      },
      {
       "output_type": "stream",
       "stream": "stdout",
       "text": [
        "(1.2906892779864196, 1.1694819147293747)\n",
        "0.470134245119 "
       ]
      },
      {
       "output_type": "stream",
       "stream": "stdout",
       "text": [
        "(2.5745039631260762, 8.6174775481959696)\n",
        "0.0393306405753 "
       ]
      },
      {
       "output_type": "stream",
       "stream": "stdout",
       "text": [
        "(2.6016069576736096, 15.866097785471462)\n",
        "0.664688800413 "
       ]
      },
      {
       "output_type": "stream",
       "stream": "stdout",
       "text": [
        "(1.6637764736915239, 1.6833229566980152)\n",
        "0.236237950157 "
       ]
      },
      {
       "output_type": "stream",
       "stream": "stdout",
       "text": [
        "(2.5485795745390263, 12.542663780520273)\n",
        "0.105325383753 "
       ]
      },
      {
       "output_type": "stream",
       "stream": "stdout",
       "text": [
        "(2.5670102613544992, 15.101581712167315)\n",
        "0.48242404405 "
       ]
      },
      {
       "output_type": "stream",
       "stream": "stdout",
       "text": [
        "(2.3341666573915223, 4.851132146539376)\n"
       ]
      }
     ],
     "prompt_number": 180
    },
    {
     "cell_type": "code",
     "collapsed": false,
     "input": [
      "for i in range(10):\n",
      "    participants = [FSBidderWithRecentStats(n=1000),FSBidderWithRecentStats(n=100)]\n",
      "    auctioneer = FSBAuctioneer(participants,uncertainty=0.05)\n",
      "    print auctioneer.gains()"
     ],
     "language": "python",
     "metadata": {},
     "outputs": [
      {
       "output_type": "stream",
       "stream": "stdout",
       "text": [
        "(2.3483242827920652, 5.5615220678795945)\n",
        "(2.6404491310826734, 6.2063000845514003)"
       ]
      },
      {
       "output_type": "stream",
       "stream": "stdout",
       "text": [
        "\n",
        "(2.8985364078111537, 7.255093843464099)"
       ]
      },
      {
       "output_type": "stream",
       "stream": "stdout",
       "text": [
        "\n",
        "(2.5460355648233728, 5.8108087458081661)"
       ]
      },
      {
       "output_type": "stream",
       "stream": "stdout",
       "text": [
        "\n",
        "(2.8078323078731948, 7.3020683965789619)"
       ]
      },
      {
       "output_type": "stream",
       "stream": "stdout",
       "text": [
        "\n",
        "(2.7111313048674668, 6.8114992524878701)"
       ]
      },
      {
       "output_type": "stream",
       "stream": "stdout",
       "text": [
        "\n",
        "(2.5803744778328808, 6.120880305799143)"
       ]
      },
      {
       "output_type": "stream",
       "stream": "stdout",
       "text": [
        "\n",
        "(2.4087971034037357, 5.9557109573238529)"
       ]
      },
      {
       "output_type": "stream",
       "stream": "stdout",
       "text": [
        "\n",
        "(2.5988532452402637, 6.7430292821612676)"
       ]
      },
      {
       "output_type": "stream",
       "stream": "stdout",
       "text": [
        "\n",
        "(2.6608506408558985, 6.58550212834687)"
       ]
      },
      {
       "output_type": "stream",
       "stream": "stdout",
       "text": [
        "\n"
       ]
      }
     ],
     "prompt_number": 182
    },
    {
     "cell_type": "heading",
     "level": 1,
     "metadata": {},
     "source": [
      "Questions / Exercises"
     ]
    },
    {
     "cell_type": "heading",
     "level": 2,
     "metadata": {},
     "source": [
      "Analysis of Non-Iterated Common Value Auctions"
     ]
    },
    {
     "cell_type": "markdown",
     "metadata": {},
     "source": [
      "We considered first-sealed-bid common value auctions without iteration above (that is, a series of auctions with two particiants that don't know each other and have no memory).\n",
      "\n",
      "- Enumerate the different parameters and assumptions describing those auctions.\n",
      "- Is a bid proportional to the estimate value the most general useful fixed strategy?\n",
      "- If not, are there better fixed strategies (where a strategy is a function `solicitBid(estimate)`)\n",
      "- Create an agent that attempts to automatically determine the best fixed strategy for a given set of auction parameters.\n",
      "\n",
      "Additional questions to think about / experiment with:\n",
      "\n",
      "- Note that not only the parameters of the value distribution can be chosen, but the value distribution itself.\n",
      "- What happens when we pick a uniform value distribution? A Cauchy value distribution?\n",
      "- What happens when we limit values and bids to be non-negative? Do negative values make sense?\n",
      "\n",
      "Use agent-based models (like the one above) to explicitly formulate and test hypotheses. Present your analysis in the form of a worksheet."
     ]
    },
    {
     "cell_type": "heading",
     "level": 2,
     "metadata": {},
     "source": [
      "Agent-Based Nash Equilibrium"
     ]
    },
    {
     "cell_type": "markdown",
     "metadata": {},
     "source": [
      "Assuming the simple `FSBidder` classes, write code that tries to approximate a Nash equilibrium for a given auction and set of auction parameters. That is, it should determine the fixed fractional bid for each bidder for which equilibrium is reached. Assume that the solution is symmetric (i.e., that it's the same fraction for both bidders).\n",
      "\n",
      "- Your code need not be efficient; you can run many simulations.\n",
      "- You do have to deal with the fact somehow that the estimates you get out of simulations are noisy."
     ]
    },
    {
     "cell_type": "heading",
     "level": 2,
     "metadata": {},
     "source": [
      "Non-Iterated Private Value Auctions"
     ]
    },
    {
     "cell_type": "markdown",
     "metadata": {},
     "source": [
      "Repeat the above analysis for first-sealed-bid auctions, but with _private values_. That is, instead of sampling a common value for all the participants and rewarding participants based on that common value, draw a separate value for each participant from the distribution. As before, clearly lay out hypotheses and test them with agent-based models. Present your analysis in the form of a worksheet.\n",
      "\n",
      "Your answer need not be as detailed as your analysis for common value auctions, but try to come up with results that provide useful insights into private value auctions through the use of agent-based models."
     ]
    },
    {
     "cell_type": "code",
     "collapsed": false,
     "input": [],
     "language": "python",
     "metadata": {},
     "outputs": []
    }
   ],
   "metadata": {}
  }
 ]
}