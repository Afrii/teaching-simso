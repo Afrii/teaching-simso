{
 "metadata": {
  "name": "21-first-sealed-bid-auctions"
 },
 "nbformat": 3,
 "nbformat_minor": 0,
 "worksheets": [
  {
   "cells": [
    {
     "cell_type": "markdown",
     "metadata": {},
     "source": [
      "Title: First Sealed Bid Auctions\n",
      "Author: Thomas M. Breuel\n",
      "Institution: UniKL"
     ]
    },
    {
     "cell_type": "code",
     "collapsed": false,
     "input": [
      "\n",
      "from pylab import *"
     ],
     "language": "python",
     "metadata": {},
     "outputs": [],
     "prompt_number": 190
    },
    {
     "cell_type": "heading",
     "level": 1,
     "metadata": {},
     "source": [
      "Agent-Based First Sealed Bid Auctions"
     ]
    },
    {
     "cell_type": "markdown",
     "metadata": {},
     "source": [
      "first sealed bid auctions:\n",
      "\n",
      "First sealed bid auctions are the simplest form of auction:\n",
      "\n",
      "- each participant estimates the value of the item based on information from the auctioneer\n",
      "- each participant makes a sealed bid on the item\n",
      "- the auctioneer selects the highest bid and awards the item to the highest bidder"
     ]
    },
    {
     "cell_type": "markdown",
     "metadata": {},
     "source": [
      "auction protocol:\n",
      "\n",
      "The auctioneer calls the following methods in sequence:\n",
      "\n",
      "- `giveEstimate(estimate)`\n",
      "- `solicitBid()`\n",
      "- winning bid: update `balance` and `value`\n",
      "- losing bid: call `winningBid(paid)`"
     ]
    },
    {
     "cell_type": "markdown",
     "metadata": {},
     "source": [
      "default strategy:\n",
      "\n",
      "The default strategy of the bidder is to bid a fraction of the estimated value."
     ]
    },
    {
     "cell_type": "markdown",
     "metadata": {},
     "source": [
      "common value model:\n",
      "\n",
      "In this model, we are looking at _common value auctions_.\n",
      "\n",
      "That is:\n",
      "\n",
      "- each bidder assigns the same value to the object\n",
      "- they receive unbiased but random estimates of the value"
     ]
    },
    {
     "cell_type": "code",
     "collapsed": false,
     "input": [
      "class FSBidder:\n",
      "    def __init__(self,fraction=0.5):\n",
      "        self.balance = 0\n",
      "        self.value = 0\n",
      "        self.fraction = fraction\n",
      "    def giveEstimate(self,estimate):\n",
      "        self.estimate = estimate\n",
      "    def solicitBid(self):\n",
      "        return self.estimate * self.fraction\n",
      "    def winningBid(self,paid,winner):\n",
      "        pass\n",
      "    def gain(self):\n",
      "        return self.value+self.balance"
     ],
     "language": "python",
     "metadata": {},
     "outputs": [],
     "prompt_number": 191
    },
    {
     "cell_type": "code",
     "collapsed": false,
     "input": [
      "class FSBAuctioneer:\n",
      "    def __init__(self,participants,uncertainty=0.1,values=None):\n",
      "        self.participants = participants\n",
      "        self.uncertainty = uncertainty\n",
      "        if values is None: values = lambda: 100.0+10.0*rand()\n",
      "        self.genvalue = values\n",
      "    def auction(self):\n",
      "        value = self.genvalue()\n",
      "        for p in self.participants:\n",
      "            estimate = value+randn()*self.uncertainty*value\n",
      "            p.giveEstimate(estimate)\n",
      "        bids = [clip(p.solicitBid(),0.0,10*value) for p in participants]\n",
      "        winner = argmax(bids)\n",
      "        bid = bids[winner]\n",
      "        winner = self.participants[winner]\n",
      "        winner.balance -= bid\n",
      "        winner.value += value\n",
      "        for p in self.participants:\n",
      "            p.winningBid(bid,p==winner)\n",
      "    def gains(self,N=10000):\n",
      "        for i in range(N): self.auction()\n",
      "        return tuple([p.gain()/N for p in self.participants])"
     ],
     "language": "python",
     "metadata": {},
     "outputs": [],
     "prompt_number": 192
    },
    {
     "cell_type": "markdown",
     "metadata": {},
     "source": [
      "(possible objectives)\n",
      "\n",
      "- maximize wealth individually\n",
      "- be the winner (make more than the other participants in $N$ rounds)\n",
      "- cooperate to maximize wealth"
     ]
    },
    {
     "cell_type": "heading",
     "level": 1,
     "metadata": {},
     "source": [
      "Simple Auctions"
     ]
    },
    {
     "cell_type": "markdown",
     "metadata": {},
     "source": [
      "(simple auctions)\n",
      "\n",
      "- each participant uses a fixed strategy\n",
      "- strategy: bid some fraction of the estimated value\n",
      "- all auctions are independent from each other\n",
      "- participants have no memory of prior bids against each other"
     ]
    },
    {
     "cell_type": "code",
     "collapsed": false,
     "input": [
      "# number of auction rounds\n",
      "N = 10000"
     ],
     "language": "python",
     "metadata": {},
     "outputs": [],
     "prompt_number": 193
    },
    {
     "cell_type": "code",
     "collapsed": false,
     "input": [
      "# symmetric auction\n",
      "participants = [FSBidder(fraction=0.5),FSBidder(fraction=0.5)]\n",
      "print FSBAuctioneer(participants).gains()"
     ],
     "language": "python",
     "metadata": {},
     "outputs": [
      {
       "output_type": "stream",
       "stream": "stdout",
       "text": [
        "(24.868080931969367, 24.697395708112065)\n"
       ]
      }
     ],
     "prompt_number": 194
    },
    {
     "cell_type": "markdown",
     "metadata": {},
     "source": [
      "Symmetric strategies yield symmetric outcomes.\n",
      "\n",
      "**QUESTION** Why is the payoff around 24 / item?"
     ]
    },
    {
     "cell_type": "code",
     "collapsed": false,
     "input": [
      "# asymmetric strategies\n",
      "participants = [FSBidder(),FSBidder(fraction=0.8)]\n",
      "print FSBAuctioneer(participants).gains()"
     ],
     "language": "python",
     "metadata": {},
     "outputs": [
      {
       "output_type": "stream",
       "stream": "stdout",
       "text": [
        "(0.045950372397365734, 20.846089074031369)\n"
       ]
      }
     ],
     "prompt_number": 195
    },
    {
     "cell_type": "markdown",
     "metadata": {},
     "source": [
      "Higher bidder gains more."
     ]
    },
    {
     "cell_type": "code",
     "collapsed": false,
     "input": [
      "# negative payoffs for high fractions\n",
      "participants = [FSBidder(fraction=1.0),FSBidder(fraction=1.0)]\n",
      "print FSBAuctioneer(participants).gains()\n"
     ],
     "language": "python",
     "metadata": {},
     "outputs": [
      {
       "output_type": "stream",
       "stream": "stdout",
       "text": [
        "(-2.9740161831421603, -3.0075112556659618)\n"
       ]
      }
     ],
     "prompt_number": 196
    },
    {
     "cell_type": "markdown",
     "metadata": {},
     "source": [
      "If the participants bid too high, they both lose money."
     ]
    },
    {
     "cell_type": "code",
     "collapsed": false,
     "input": [
      "# small payoffs for high fractions\n",
      "participants = [FSBidder(fraction=0.9),FSBidder(fraction=0.9)]\n",
      "print FSBAuctioneer(participants).gains()\n"
     ],
     "language": "python",
     "metadata": {},
     "outputs": [
      {
       "output_type": "stream",
       "stream": "stdout",
       "text": [
        "(2.6389559714615811, 2.5638315299245704)\n"
       ]
      }
     ],
     "prompt_number": 197
    },
    {
     "cell_type": "markdown",
     "metadata": {},
     "source": [
      "If both participants bid high but not too high, they both still make a small profit."
     ]
    },
    {
     "cell_type": "code",
     "collapsed": false,
     "input": [
      "# strategy depends on opponents\n",
      "participants = [FSBidder(fraction=0.8),FSBidder(fraction=0.85)]\n",
      "print FSBAuctioneer(participants).gains()\n",
      "\n",
      "participants = [FSBidder(fraction=0.9),FSBidder(fraction=0.95)]\n",
      "print FSBAuctioneer(participants).gains()\n"
     ],
     "language": "python",
     "metadata": {},
     "outputs": [
      {
       "output_type": "stream",
       "stream": "stdout",
       "text": [
        "(4.8238313020857344, 8.1663335215651323)\n",
        "(1.3561667955572076, 0.58699994218066565)"
       ]
      },
      {
       "output_type": "stream",
       "stream": "stdout",
       "text": [
        "\n"
       ]
      }
     ],
     "prompt_number": 198
    },
    {
     "cell_type": "markdown",
     "metadata": {},
     "source": [
      "**HYPOTHESIS** Bidding higher is always the better strategy.\n",
      "\n",
      "**OBSERVATION** The higher bidder doesn't always come out ahead, it depends on both participants. (Why?)"
     ]
    },
    {
     "cell_type": "code",
     "collapsed": false,
     "input": [
      "# effect of uncertainty\n",
      "participants = [FSBidder(fraction=0.8),FSBidder(fraction=0.9)]\n",
      "print FSBAuctioneer(participants,uncertainty=0.2).gains()\n",
      "\n",
      "participants = [FSBidder(fraction=0.8),FSBidder(fraction=0.9)]\n",
      "print FSBAuctioneer(participants,uncertainty=0.0).gains()\n"
     ],
     "language": "python",
     "metadata": {},
     "outputs": [
      {
       "output_type": "stream",
       "stream": "stdout",
       "text": [
        "(3.2677625396087593, 1.7790844026373933)\n",
        "(0, 10.49870639319548)"
       ]
      },
      {
       "output_type": "stream",
       "stream": "stdout",
       "text": [
        "\n"
       ]
      }
     ],
     "prompt_number": 199
    },
    {
     "cell_type": "markdown",
     "metadata": {},
     "source": [
      "**HYPOTHESIS** Bidding higher is always the better strategy.\n",
      "\n",
      "**OBSERVATION** The higher bidder doesn't always come out ahead, it also depends on the accuracy of the value estimate. (Why?)"
     ]
    },
    {
     "cell_type": "code",
     "collapsed": false,
     "input": [
      "# effect of value distribution\n",
      "def values(): return rand()*100.0\n",
      "\n",
      "participants = [FSBidder(fraction=0.8),FSBidder(fraction=0.9)]\n",
      "print FSBAuctioneer(participants).gains()\n",
      "\n",
      "participants = [FSBidder(fraction=0.8),FSBidder(fraction=0.9)]\n",
      "print FSBAuctioneer(participants,values=values).gains()\n"
     ],
     "language": "python",
     "metadata": {},
     "outputs": [
      {
       "output_type": "stream",
       "stream": "stdout",
       "text": [
        "(2.7588602679667558, 6.2259375117512885)\n",
        "(1.2447756191551234, 3.1303866547008337)"
       ]
      },
      {
       "output_type": "stream",
       "stream": "stdout",
       "text": [
        "\n"
       ]
      }
     ],
     "prompt_number": 200
    },
    {
     "cell_type": "markdown",
     "metadata": {},
     "source": [
      "**QUESTION** Are there value distributions for which the order of strategies is different?"
     ]
    },
    {
     "cell_type": "heading",
     "level": 1,
     "metadata": {},
     "source": [
      "Nash Equilibrium"
     ]
    },
    {
     "cell_type": "code",
     "collapsed": false,
     "input": [
      "# different symmetric strategies\n",
      "for fraction in linspace(0.1,1.1,11):\n",
      "    participants = [FSBidder(fraction=fraction),FSBidder(fraction=fraction)]\n",
      "    gains = FSBAuctioneer(participants).gains()\n",
      "    print fraction,gains\n"
     ],
     "language": "python",
     "metadata": {},
     "outputs": [
      {
       "output_type": "stream",
       "stream": "stdout",
       "text": [
        "0.1 (46.859423258231914, 47.056438617941616)\n",
        "0.2"
       ]
      },
      {
       "output_type": "stream",
       "stream": "stdout",
       "text": [
        " (40.930243835629398, 41.876834014461281)\n",
        "0.3"
       ]
      },
      {
       "output_type": "stream",
       "stream": "stdout",
       "text": [
        " (36.072790356088838, 35.65768238812516)\n",
        "0.4"
       ]
      },
      {
       "output_type": "stream",
       "stream": "stdout",
       "text": [
        " (30.330413639497849, 30.323879726443398)\n",
        "0.5"
       ]
      },
      {
       "output_type": "stream",
       "stream": "stdout",
       "text": [
        " (25.394484130337275, 24.145714064596763)\n",
        "0.6"
       ]
      },
      {
       "output_type": "stream",
       "stream": "stdout",
       "text": [
        " (19.182136520422141, 19.330187338508708)\n",
        "0.7"
       ]
      },
      {
       "output_type": "stream",
       "stream": "stdout",
       "text": [
        " (13.68050179347687, 13.674060513012146)\n",
        "0.8"
       ]
      },
      {
       "output_type": "stream",
       "stream": "stdout",
       "text": [
        " (8.2394011634957796, 8.0746473329929866)\n",
        "0.9"
       ]
      },
      {
       "output_type": "stream",
       "stream": "stdout",
       "text": [
        " (2.5960990092790803, 2.552865130140999)\n",
        "1.0"
       ]
      },
      {
       "output_type": "stream",
       "stream": "stdout",
       "text": [
        " (-2.8837855062480551, -2.8976846017991194)\n",
        "1.1"
       ]
      },
      {
       "output_type": "stream",
       "stream": "stdout",
       "text": [
        " (-8.6459163976106801, -8.5852007384903679)\n"
       ]
      }
     ],
     "prompt_number": 201
    },
    {
     "cell_type": "markdown",
     "metadata": {},
     "source": [
      "Note that if the players are cooperating, they should simply agree to bid as little as possible.\n",
      "They then maximize their gain (of course, the seller of the item loses)."
     ]
    },
    {
     "cell_type": "code",
     "collapsed": false,
     "input": [
      "# unstable strategy\n",
      "participants = [FSBidder(fraction=0.1),FSBidder(fraction=0.1)]\n",
      "print (0.1,0.1),FSBAuctioneer(participants).gains()\n",
      "\n",
      "participants = [FSBidder(fraction=0.1),FSBidder(fraction=0.2)]\n",
      "print (0.1,0.2),FSBAuctioneer(participants).gains()\n"
     ],
     "language": "python",
     "metadata": {},
     "outputs": [
      {
       "output_type": "stream",
       "stream": "stdout",
       "text": [
        "(0.1, 0.1) "
       ]
      },
      {
       "output_type": "stream",
       "stream": "stdout",
       "text": [
        "(46.702872563423881, 47.1858351541836)\n",
        "(0.1, 0.2) "
       ]
      },
      {
       "output_type": "stream",
       "stream": "stdout",
       "text": [
        "(0, 84.005480421922641)\n"
       ]
      }
     ],
     "prompt_number": 202
    },
    {
     "cell_type": "markdown",
     "metadata": {},
     "source": [
      "However, such a strategy requires cooperation, since any one of the players can make more money by increasing their bids."
     ]
    },
    {
     "cell_type": "code",
     "collapsed": false,
     "input": [
      "# stability\n",
      "for fraction in linspace(0.8,1.0,5):\n",
      "    participants = [FSBidder(fraction=fraction),FSBidder(fraction=fraction-0.03)]\n",
      "    print fraction,\n",
      "    print \"  %.2f %.2f\"%FSBAuctioneer(participants).gains(),\n",
      "    participants = [FSBidder(fraction=fraction),FSBidder(fraction=fraction)]\n",
      "    print \"  %.2f %.2f\"%FSBAuctioneer(participants).gains(),\n",
      "    participants = [FSBidder(fraction=fraction),FSBidder(fraction=fraction+0.03)]\n",
      "    print \"  %.2f %.2f\"%FSBAuctioneer(participants).gains()\n"
     ],
     "language": "python",
     "metadata": {},
     "outputs": [
      {
       "output_type": "stream",
       "stream": "stdout",
       "text": [
        "0.8 "
       ]
      },
      {
       "output_type": "stream",
       "stream": "stdout",
       "text": [
        "  10.57 7.25 "
       ]
      },
      {
       "output_type": "stream",
       "stream": "stdout",
       "text": [
        "  8.32 7.94 "
       ]
      },
      {
       "output_type": "stream",
       "stream": "stdout",
       "text": [
        "  6.00 8.48\n",
        "0.85 "
       ]
      },
      {
       "output_type": "stream",
       "stream": "stdout",
       "text": [
        "  6.89 5.35 "
       ]
      },
      {
       "output_type": "stream",
       "stream": "stdout",
       "text": [
        "  5.29 5.38 "
       ]
      },
      {
       "output_type": "stream",
       "stream": "stdout",
       "text": [
        "  3.85 4.99\n",
        "0.9 "
       ]
      },
      {
       "output_type": "stream",
       "stream": "stdout",
       "text": [
        "  3.61 3.16 "
       ]
      },
      {
       "output_type": "stream",
       "stream": "stdout",
       "text": [
        "  2.50 2.69 "
       ]
      },
      {
       "output_type": "stream",
       "stream": "stdout",
       "text": [
        "  1.67 1.61\n",
        "0.95 "
       ]
      },
      {
       "output_type": "stream",
       "stream": "stdout",
       "text": [
        "  0.28 0.83 "
       ]
      },
      {
       "output_type": "stream",
       "stream": "stdout",
       "text": [
        "  -0.26 -0.20 "
       ]
      },
      {
       "output_type": "stream",
       "stream": "stdout",
       "text": [
        "  -0.55 -1.73\n",
        "1.0 "
       ]
      },
      {
       "output_type": "stream",
       "stream": "stdout",
       "text": [
        "  -2.98 -1.52 "
       ]
      },
      {
       "output_type": "stream",
       "stream": "stdout",
       "text": [
        "  -2.97 -2.93 "
       ]
      },
      {
       "output_type": "stream",
       "stream": "stdout",
       "text": [
        "  -2.70 -4.97\n"
       ]
      }
     ],
     "prompt_number": 203
    },
    {
     "cell_type": "markdown",
     "metadata": {},
     "source": [
      "Note that around `fraction=0.9`, participant 2 is worse off by increasing their bid."
     ]
    },
    {
     "cell_type": "markdown",
     "metadata": {},
     "source": [
      "(Nash equilibrium)\n",
      "\n",
      "- non-cooperative game\n",
      "- each player knows all the choices of all the other players\n",
      "- it's the choice of strategy for each player where no player gains anything by changing their strategy\n",
      "\n",
      "For games with continuuous parameters, we need to check:\n",
      "\n",
      "- local optimum\n",
      "- global optimum\n",
      "\n",
      "It's (supposedly) rational for all players to choose the Nash equilibrium."
     ]
    },
    {
     "cell_type": "heading",
     "level": 1,
     "metadata": {},
     "source": [
      "Repeated Auctions"
     ]
    },
    {
     "cell_type": "markdown",
     "metadata": {},
     "source": [
      "(so far)\n",
      "\n",
      "- non-cooperative auctions\n",
      "- no memory\n",
      "- fixed strategy (bid fraction of estimated value)\n",
      "- two participants\n",
      "\n",
      "**QUESTION** Is bidding a fraction of the estimate the best possible strategy in that situation? Can we do better?"
     ]
    },
    {
     "cell_type": "markdown",
     "metadata": {},
     "source": [
      "(adaptive strategies)\n",
      "\n",
      "- repeated auctions\n",
      "- one fixed player, one adaptive player\n",
      "- players can observe some of the results from previous auctions\n",
      "\n",
      "Can the adaptive player beat the fixed player?"
     ]
    },
    {
     "cell_type": "markdown",
     "metadata": {},
     "source": [
      "(adaptive bidder)\n",
      "\n",
      "- estimate the strategy used by the fixed bidder by averaging the actual fraction of past winning bids\n",
      "- update our fraction as we go along\n",
      "- the fact that we estimate the fraction based on the winning bid lets us learn a fraction that wins\n",
      "- that is, our estimate is automatically a little higher than the fraction used by competitors"
     ]
    },
    {
     "cell_type": "code",
     "collapsed": false,
     "input": [
      "# adaptive bidder\n",
      "class FSBidderWithStats:\n",
      "    def __init__(self,fraction=0.5):\n",
      "        self.balance = 0\n",
      "        self.value = 0\n",
      "        self.fraction = fraction\n",
      "        self.fractions = [fraction]\n",
      "    def giveEstimate(self,estimate):\n",
      "        self.estimate = estimate\n",
      "    def solicitBid(self):\n",
      "        return self.estimate * mean(self.fractions)\n",
      "    def gain(self):\n",
      "        return self.value+self.balance\n",
      "    def winningBid(self,paid,winner):\n",
      "        if not winner: self.fractions.append(paid/self.estimate)"
     ],
     "language": "python",
     "metadata": {},
     "outputs": [],
     "prompt_number": 204
    },
    {
     "cell_type": "code",
     "collapsed": false,
     "input": [
      "# adaptation\n",
      "participants = [FSBidder(fraction=0.7),FSBidder(fraction=0.9)]\n",
      "print FSBAuctioneer(participants).gains()\n",
      "participants = [FSBidder(fraction=0.7),FSBidder(fraction=0.5)]\n",
      "print FSBAuctioneer(participants).gains()\n",
      "participants = [FSBidder(fraction=0.7),FSBidderWithStats(fraction=0.5)]\n",
      "print FSBAuctioneer(participants).gains()"
     ],
     "language": "python",
     "metadata": {},
     "outputs": [
      {
       "output_type": "stream",
       "stream": "stdout",
       "text": [
        "(0.89109407065113988, 9.4605019546218099)\n",
        "(30.877465914995586, 0.51291892834194075)"
       ]
      },
      {
       "output_type": "stream",
       "stream": "stdout",
       "text": [
        "\n",
        "(0.63863819792715981, 6.9224323901677502)"
       ]
      },
      {
       "output_type": "stream",
       "stream": "stdout",
       "text": [
        "\n"
       ]
      }
     ],
     "prompt_number": 205
    },
    {
     "cell_type": "markdown",
     "metadata": {},
     "source": [
      "The adaptive bidder performs almost as well as a good fixed strategy."
     ]
    },
    {
     "cell_type": "code",
     "collapsed": false,
     "input": [
      "# adaptation vs all fixed strategies\n",
      "for fraction in linspace(0.1,1.1,11):\n",
      "    participants = [FSBidder(fraction=fraction),FSBidderWithStats(fraction=0.05)]\n",
      "    auctioneer = FSBAuctioneer(participants,uncertainty=0.05)\n",
      "    print fraction,\n",
      "    print \"  %.2f %.2f\"%auctioneer.gains(),\n",
      "    print \"  %.3f\"%mean(auctioneer.participants[-1].fractions)\n"
     ],
     "language": "python",
     "metadata": {},
     "outputs": [
      {
       "output_type": "stream",
       "stream": "stdout",
       "text": [
        "0.1 "
       ]
      },
      {
       "output_type": "stream",
       "stream": "stdout",
       "text": [
        "  5.61 87.58   0.114\n",
        "0.2 "
       ]
      },
      {
       "output_type": "stream",
       "stream": "stdout",
       "text": [
        "  7.30 74.45   0.225\n",
        "0.3 "
       ]
      },
      {
       "output_type": "stream",
       "stream": "stdout",
       "text": [
        "  5.28 64.57   0.340\n",
        "0.4 "
       ]
      },
      {
       "output_type": "stream",
       "stream": "stdout",
       "text": [
        "  5.45 53.09   0.449\n",
        "0.5 "
       ]
      },
      {
       "output_type": "stream",
       "stream": "stdout",
       "text": [
        "  4.83 42.11   0.562\n",
        "0.6 "
       ]
      },
      {
       "output_type": "stream",
       "stream": "stdout",
       "text": [
        "  3.02 31.82   0.677\n",
        "0.7 "
       ]
      },
      {
       "output_type": "stream",
       "stream": "stdout",
       "text": [
        "  1.81 20.96   0.795\n",
        "0.8 "
       ]
      },
      {
       "output_type": "stream",
       "stream": "stdout",
       "text": [
        "  1.45 10.41   0.900\n",
        "0.9 "
       ]
      },
      {
       "output_type": "stream",
       "stream": "stdout",
       "text": [
        "  0.37 -0.65   1.017\n",
        "1.0 "
       ]
      },
      {
       "output_type": "stream",
       "stream": "stdout",
       "text": [
        "  -0.44 -11.75   1.133\n",
        "1.1 "
       ]
      },
      {
       "output_type": "stream",
       "stream": "stdout",
       "text": [
        "  -1.60 -20.84   1.233\n"
       ]
      }
     ],
     "prompt_number": 206
    },
    {
     "cell_type": "markdown",
     "metadata": {},
     "source": [
      "Adaptation wins over any of the fixed strategies, until it actually starts losing money. (I.e. it succeeds at always winning the auction, but beyond some point, that becomes itself a losing strategy.)"
     ]
    },
    {
     "cell_type": "code",
     "collapsed": false,
     "input": [
      "# adaptive bidder\n",
      "class FSBidderWithStats1(FSBidderWithStats):\n",
      "    def solicitBid(self):\n",
      "        return self.estimate * clip(mean(self.fractions),0.0,0.95)\n"
     ],
     "language": "python",
     "metadata": {},
     "outputs": [],
     "prompt_number": 207
    },
    {
     "cell_type": "markdown",
     "metadata": {},
     "source": [
      "Here is a simple fix for that behavior: we just limit our bids to up to 95% of the estimated value."
     ]
    },
    {
     "cell_type": "code",
     "collapsed": false,
     "input": [
      "# test of improved adaptive bidder\n",
      "for fraction in linspace(0.1,1.1,11):\n",
      "    participants = [FSBidder(fraction=fraction),FSBidderWithStats1(fraction=0.05)]\n",
      "    auctioneer = FSBAuctioneer(participants,uncertainty=0.05)\n",
      "    print fraction,\n",
      "    print \"  %.2f %.2f\"%auctioneer.gains(),\n",
      "    print \"  %.3f\"%mean(auctioneer.participants[-1].fractions)\n"
     ],
     "language": "python",
     "metadata": {},
     "outputs": [
      {
       "output_type": "stream",
       "stream": "stdout",
       "text": [
        "0.1 "
       ]
      },
      {
       "output_type": "stream",
       "stream": "stdout",
       "text": [
        "  5.71 87.45   0.114\n",
        "0.2 "
       ]
      },
      {
       "output_type": "stream",
       "stream": "stdout",
       "text": [
        "  5.82 75.72   0.227\n",
        "0.3 "
       ]
      },
      {
       "output_type": "stream",
       "stream": "stdout",
       "text": [
        "  6.45 63.66   0.338\n",
        "0.4 "
       ]
      },
      {
       "output_type": "stream",
       "stream": "stdout",
       "text": [
        "  4.05 53.91   0.454\n",
        "0.5 "
       ]
      },
      {
       "output_type": "stream",
       "stream": "stdout",
       "text": [
        "  4.16 42.56   0.564\n",
        "0.6 "
       ]
      },
      {
       "output_type": "stream",
       "stream": "stdout",
       "text": [
        "  2.67 31.87   0.682\n",
        "0.7 "
       ]
      },
      {
       "output_type": "stream",
       "stream": "stdout",
       "text": [
        "  1.54 20.69   0.800\n",
        "0.8 "
       ]
      },
      {
       "output_type": "stream",
       "stream": "stdout",
       "text": [
        "  1.12 9.93   0.908\n",
        "0.9 "
       ]
      },
      {
       "output_type": "stream",
       "stream": "stdout",
       "text": [
        "  1.43 2.91   0.990\n",
        "1.0 "
       ]
      },
      {
       "output_type": "stream",
       "stream": "stdout",
       "text": [
        "  -1.20 0.16   1.030\n",
        "1.1 "
       ]
      },
      {
       "output_type": "stream",
       "stream": "stdout",
       "text": [
        "  -10.57 -0.04   1.106\n"
       ]
      }
     ],
     "prompt_number": 208
    },
    {
     "cell_type": "code",
     "collapsed": false,
     "input": [
      "# plot of adaptation\n",
      "participants = [FSBidder(fraction=0.5),FSBidderWithStats1(fraction=0.05)]\n",
      "auctioneer = FSBAuctioneer(participants,uncertainty=0.05)\n",
      "print auctioneer.gains()\n",
      "plot(participants[-1].fractions)"
     ],
     "language": "python",
     "metadata": {},
     "outputs": [
      {
       "output_type": "stream",
       "stream": "stdout",
       "text": [
        "(3.0639228444711732, 43.028826531685169)\n"
       ]
      },
      {
       "output_type": "pyout",
       "prompt_number": 209,
       "text": [
        "[<matplotlib.lines.Line2D at 0x43e1ad0>]"
       ]
      },
      {
       "output_type": "display_data",
       "png": "[encoded data removed]"
      }
     ],
     "prompt_number": 209
    },
    {
     "cell_type": "heading",
     "level": 1,
     "metadata": {},
     "source": [
      "Competing Adaptive Strategies"
     ]
    },
    {
     "cell_type": "code",
     "collapsed": false,
     "input": [
      "# competing adaptive strategies\n",
      "participants = [FSBidderWithStats1(fraction=0.5),FSBidderWithStats1(fraction=0.5)]\n",
      "auctioneer = FSBAuctioneer(participants,uncertainty=0.05)\n",
      "print auctioneer.gains()\n",
      "plot(participants[-1].fractions)"
     ],
     "language": "python",
     "metadata": {},
     "outputs": [
      {
       "output_type": "stream",
       "stream": "stdout",
       "text": [
        "(11.678262824813881, 11.764510709039063)\n"
       ]
      },
      {
       "output_type": "pyout",
       "prompt_number": 210,
       "text": [
        "[<matplotlib.lines.Line2D at 0x4f9cad0>]"
       ]
      },
      {
       "output_type": "display_data",
       "png": "[encoded data removed]"
      }
     ],
     "prompt_number": 210
    },
    {
     "cell_type": "code",
     "collapsed": false,
     "input": [
      "class FSBidderWithRecentStats:\n",
      "    def __init__(self,fraction=0.5,n=100):\n",
      "        self.balance = 0\n",
      "        self.value = 0\n",
      "        self.fraction = fraction\n",
      "        self.fractions = [fraction]\n",
      "        self.n = n\n",
      "    def giveEstimate(self,estimate):\n",
      "        self.estimate = estimate\n",
      "    def solicitBid(self):\n",
      "        return self.estimate * clip(mean(self.fractions[-self.n:]),0.0,0.95)\n",
      "    def gain(self):\n",
      "        return self.value+self.balance\n",
      "    def winningBid(self,paid,winner):\n",
      "        self.fractions.append(paid/self.estimate)"
     ],
     "language": "python",
     "metadata": {},
     "outputs": [],
     "prompt_number": 211
    },
    {
     "cell_type": "code",
     "collapsed": false,
     "input": [
      "for i in range(10):\n",
      "    f = rand()\n",
      "    participants = [FSBidderWithStats1(fraction=f),FSBidderWithRecentStats(fraction=0.5,n=100)]\n",
      "    auctioneer = FSBAuctioneer(participants,uncertainty=0.05)\n",
      "    print f,auctioneer.gains()"
     ],
     "language": "python",
     "metadata": {},
     "outputs": [
      {
       "output_type": "stream",
       "stream": "stdout",
       "text": [
        "0.298958784683 "
       ]
      },
      {
       "output_type": "stream",
       "stream": "stdout",
       "text": [
        "(2.3599382304020242, 10.496134879240977)\n",
        "0.174149108002 "
       ]
      },
      {
       "output_type": "stream",
       "stream": "stdout",
       "text": [
        "(2.5326416900687456, 12.742573483894661)\n",
        "0.0434126693325 "
       ]
      },
      {
       "output_type": "stream",
       "stream": "stdout",
       "text": [
        "(2.5829150443016986, 12.15148132157023)\n",
        "0.264893924412 "
       ]
      },
      {
       "output_type": "stream",
       "stream": "stdout",
       "text": [
        "(2.5599803929331872, 11.7563266189927)\n",
        "0.392771062266 "
       ]
      },
      {
       "output_type": "stream",
       "stream": "stdout",
       "text": [
        "(2.5391035587089252, 11.664054523601465)\n",
        "0.901390270218 "
       ]
      },
      {
       "output_type": "stream",
       "stream": "stdout",
       "text": [
        "(1.2213032106005703, 1.2255022453857412)\n",
        "0.738000964179 "
       ]
      },
      {
       "output_type": "stream",
       "stream": "stdout",
       "text": [
        "(1.4617586328497738, 1.4259323777246988)\n",
        "0.362883017765 "
       ]
      },
      {
       "output_type": "stream",
       "stream": "stdout",
       "text": [
        "(2.4808759641525731, 10.361542634060955)\n",
        "0.535201917114 "
       ]
      },
      {
       "output_type": "stream",
       "stream": "stdout",
       "text": [
        "(2.3544250472773798, 3.7183754099088024)\n",
        "0.31314846005 "
       ]
      },
      {
       "output_type": "stream",
       "stream": "stdout",
       "text": [
        "(2.5217747608623133, 12.720551912219635)\n"
       ]
      }
     ],
     "prompt_number": 212
    },
    {
     "cell_type": "code",
     "collapsed": false,
     "input": [
      "for i in range(10):\n",
      "    participants = [FSBidderWithRecentStats(n=1000),FSBidderWithRecentStats(n=100)]\n",
      "    auctioneer = FSBAuctioneer(participants,uncertainty=0.05)\n",
      "    print auctioneer.gains()"
     ],
     "language": "python",
     "metadata": {},
     "outputs": [
      {
       "output_type": "stream",
       "stream": "stdout",
       "text": [
        "(2.7434600125520783, 6.6032355295393383)\n",
        "(2.5811071053871535, 6.5731864326515934)"
       ]
      },
      {
       "output_type": "stream",
       "stream": "stdout",
       "text": [
        "\n",
        "(2.745010668207315, 6.3405336787135225)"
       ]
      },
      {
       "output_type": "stream",
       "stream": "stdout",
       "text": [
        "\n",
        "(2.5540896005935094, 6.4856089587364112)"
       ]
      },
      {
       "output_type": "stream",
       "stream": "stdout",
       "text": [
        "\n",
        "(2.5905043973753403, 6.6829001796019494)"
       ]
      },
      {
       "output_type": "stream",
       "stream": "stdout",
       "text": [
        "\n",
        "(2.6294132249560729, 6.9438791771320156)"
       ]
      },
      {
       "output_type": "stream",
       "stream": "stdout",
       "text": [
        "\n",
        "(2.8996478737312135, 6.9960880495022399)"
       ]
      },
      {
       "output_type": "stream",
       "stream": "stdout",
       "text": [
        "\n",
        "(2.7584225132618334, 6.4864116822432143)"
       ]
      },
      {
       "output_type": "stream",
       "stream": "stdout",
       "text": [
        "\n",
        "(2.7391120390326598, 6.9330406621626928)"
       ]
      },
      {
       "output_type": "stream",
       "stream": "stdout",
       "text": [
        "\n",
        "(2.679416773950722, 6.4994738174572584)"
       ]
      },
      {
       "output_type": "stream",
       "stream": "stdout",
       "text": [
        "\n"
       ]
      }
     ],
     "prompt_number": 213
    },
    {
     "cell_type": "heading",
     "level": 1,
     "metadata": {},
     "source": [
      "Questions / Exercises"
     ]
    },
    {
     "cell_type": "heading",
     "level": 2,
     "metadata": {},
     "source": [
      "Analysis of Non-Iterated Common Value Auctions"
     ]
    },
    {
     "cell_type": "markdown",
     "metadata": {},
     "source": [
      "We considered first-sealed-bid common value auctions without iteration above (that is, a series of auctions with two particiants that don't know each other and have no memory).\n",
      "\n",
      "- Enumerate the different parameters and assumptions describing those auctions.\n",
      "- Is a bid proportional to the estimate value the most general useful fixed strategy?\n",
      "- If not, are there better fixed strategies (where a strategy is a function `solicitBid(estimate)`)\n",
      "- Create an agent that attempts to automatically determine the best fixed strategy for a given set of auction parameters.\n",
      "\n",
      "Additional questions to think about / experiment with:\n",
      "\n",
      "- Note that not only the parameters of the value distribution can be chosen, but the value distribution itself.\n",
      "- What happens when we pick a uniform value distribution? A Cauchy value distribution?\n",
      "- What happens when we limit values and bids to be non-negative? Do negative values make sense?\n",
      "\n",
      "Use agent-based models (like the one above) to explicitly formulate and test hypotheses. Present your analysis in the form of a worksheet."
     ]
    },
    {
     "cell_type": "heading",
     "level": 2,
     "metadata": {},
     "source": [
      "Agent-Based Nash Equilibrium"
     ]
    },
    {
     "cell_type": "markdown",
     "metadata": {},
     "source": [
      "Assuming the simple `FSBidder` classes, write code that tries to approximate a Nash equilibrium for a given auction and set of auction parameters. That is, it should determine the fixed fractional bid for each bidder for which equilibrium is reached. Assume that the solution is symmetric (i.e., that it's the same fraction for both bidders).\n",
      "\n",
      "- Your code need not be efficient; you can run many simulations.\n",
      "- You do have to deal with the fact somehow that the estimates you get out of simulations are noisy."
     ]
    },
    {
     "cell_type": "heading",
     "level": 2,
     "metadata": {},
     "source": [
      "Non-Iterated Private Value Auctions"
     ]
    },
    {
     "cell_type": "markdown",
     "metadata": {},
     "source": [
      "Repeat the above analysis for first-sealed-bid auctions, but with _private values_. That is, instead of sampling a common value for all the participants and rewarding participants based on that common value, draw a separate value for each participant from the distribution. As before, clearly lay out hypotheses and test them with agent-based models. Present your analysis in the form of a worksheet.\n",
      "\n",
      "Your answer need not be as detailed as your analysis for common value auctions, but try to come up with results that provide useful insights into private value auctions through the use of agent-based models."
     ]
    },
    {
     "cell_type": "code",
     "collapsed": false,
     "input": [],
     "language": "python",
     "metadata": {},
     "outputs": [],
     "prompt_number": 213
    }
   ],
   "metadata": {}
  }
 ]
}