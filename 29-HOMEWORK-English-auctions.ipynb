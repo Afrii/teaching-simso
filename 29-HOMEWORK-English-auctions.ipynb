{
 "metadata": {
  "name": "29-HOMEWORK-English-auctions"
 },
 "nbformat": 3,
 "nbformat_minor": 0,
 "worksheets": [
  {
   "cells": [
    {
     "cell_type": "code",
     "collapsed": false,
     "input": [
      "from pylab import *"
     ],
     "language": "python",
     "metadata": {},
     "outputs": [],
     "prompt_number": 1
    },
    {
     "cell_type": "heading",
     "level": 1,
     "metadata": {},
     "source": [
      "Homework: English Auctions"
     ]
    },
    {
     "cell_type": "markdown",
     "metadata": {},
     "source": [
      "English auctions:\n",
      "\n",
      "English auctions are the kind of auctions we are most familiar with.\n",
      "\n",
      "- an item is shown\n",
      "- the auctioneer solitics bids from all participants\n",
      "- participants can choose to make a bid higher by some increment or can choose not to bid\n",
      "- the highest bid wins"
     ]
    },
    {
     "cell_type": "markdown",
     "metadata": {},
     "source": [
      "Private Value Model:\n",
      "\n",
      "How is the value of the item determined?\n",
      "\n",
      "- We assume that there is a base value normally distributed according to $V \\sim G(\\mu,\\sigma)$\n",
      "- There is an additional (optional) private value variation with distribution $V_p = V + Q$ where $Q \\sim G(0,\\sigma_p)$\n",
      "- Each participant receives an estimate of their private value $\\tilde{V_p} = V_p + \\nu$ where $\\nu \\sim G(0,\\sigma_u)$\n",
      "\n",
      "(Remember: $V \\sim G(\\mu,\\sigma)$ means that the _random variable_ $V$ is distributed with a Gaussian with parameters $\\mu$ and $\\sigma$.)"
     ]
    },
    {
     "cell_type": "markdown",
     "metadata": {},
     "source": [
      "Profit:\n",
      "\n",
      "The profit of every participant over time is the difference of:\n",
      "\n",
      "- the private value gained\n",
      "- the money paid in bids"
     ]
    },
    {
     "cell_type": "markdown",
     "metadata": {},
     "source": [
      "Here is the auction protocol:\n",
      "\n",
      "- initially generate the Auctioneer with a list of bidders\n",
      "- at the start of each auction\n",
      "    - the auctioneer generates a base value for the item\n",
      "    - the auctioneer generates private values and estimates of private values\n",
      "    - auctioneer calls `giveEstimate` with an estimate of the private value\n",
      "    - auctioneer calls `startBidding` with the number of participants\n",
      "- the auction proceeds in rounds\n",
      "    - auctioneer calls `solicitBid(last,incr)` for each bidder in a randomly permuted order\n",
      "    - `last` is the last bid, `incr` is the required increment\n",
      "    - bidder can return None (no bid) or a bid `>=last+bid`\n",
      "    - immediately after each bidder, the last bid is announced with `announce(amount,bidder)`\n",
      "    - when no bidder bids, the auction is over\n",
      "- when the auction is over\n",
      "    - the auctioneer ads the actual private value to the winning bidder's value\n",
      "    - the auctioneer subtracts the bid amount from the winning bidder's balance"
     ]
    },
    {
     "cell_type": "code",
     "collapsed": false,
     "input": [
      "# simple bidder\n",
      "class Bidder:\n",
      "    def __init__(self):\n",
      "        self.value = 0\n",
      "        self.balance = 0\n",
      "    def gain(self):\n",
      "        return self.value+self.balance\n",
      "    def giveEstimate(self,estimate):\n",
      "        # called before bidding to inform the bidder of the estimate\n",
      "    def startBidding(self,n):\n",
      "        # starts the bidding and informs the bidder of the number of participants\n",
      "    def announce(self,bid,bidder):\n",
      "        # announces a bid received from some participant (including this one)\n",
      "    def solicitBid(self,last,incr):\n",
      "        # called by the auctioneer to solicit a bid from this bidder"
     ],
     "language": "python",
     "metadata": {},
     "outputs": [
      {
       "ename": "IndentationError",
       "evalue": "expected an indented block (<ipython-input-2-935d8ee8ff65>, line 10)",
       "output_type": "pyerr",
       "traceback": [
        "\u001b[0;36m  File \u001b[0;32m\"<ipython-input-2-935d8ee8ff65>\"\u001b[0;36m, line \u001b[0;32m10\u001b[0m\n\u001b[0;31m    def startBidding(self,n):\u001b[0m\n\u001b[0m      ^\u001b[0m\n\u001b[0;31mIndentationError\u001b[0m\u001b[0;31m:\u001b[0m expected an indented block\n"
       ]
      }
     ],
     "prompt_number": 2
    },
    {
     "cell_type": "code",
     "collapsed": false,
     "input": [
      "# auctioneer for an English auction\n",
      "class Auctioneer:\n",
      "    def __init__(self,participants,mu=100.0,sigma=20.0,psigma=0.0,uncertainty=10.0,increment=1.0):\n",
      "        \"\"\"mu,sigma: base value distribution, psigma: sigma of private value distribution\n",
      "        relative to base value, uncertainty: standard deviation of estimate relative\n",
      "        to private value, increment: minimum bid increment\"\"\"\n",
      "        raise Exception(\"unimplemented\")\n",
      "    def auction(self,verbose=0):\n",
      "        # implement the auction protocol\n",
      "        raise Exception(\"unimplemented\")\n",
      "    def gains(self,N=100):\n",
      "        for i in range(N): self.auction()\n",
      "        return tuple([p.gain()/N for p in self.participants])"
     ],
     "language": "python",
     "metadata": {},
     "outputs": []
    },
    {
     "cell_type": "markdown",
     "metadata": {},
     "source": [
      "**EXERCISE 1** Complete the implementations of the `Bidder` and `Auctioneer` classes to implement an English auction. Demonstrate that your implementation works correctly. Your default bidder should bid up to a fraction (given as a parameter, its strategy) of its estimate of its private value."
     ]
    },
    {
     "cell_type": "markdown",
     "metadata": {},
     "source": [
      "**EXERCISE 2** Use your implementation of the English auction to show that the winning bid is approximately equal to the private value of the second highest bidder, assuming a complete private\n",
      "value auction."
     ]
    },
    {
     "cell_type": "markdown",
     "metadata": {},
     "source": [
      "**EXERCISE 3** Write a smarter version of `Bidder` that works for the default parameters used in the `Auctioneer` class above to outperform any `Bidder` that bids a fixed percentage of its estimated private value."
     ]
    }
   ],
   "metadata": {}
  }
 ]
}