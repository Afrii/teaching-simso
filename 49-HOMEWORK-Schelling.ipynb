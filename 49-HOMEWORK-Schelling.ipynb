{
 "metadata": {
  "name": "49-HOMEWORK-Schelling"
 },
 "nbformat": 3,
 "nbformat_minor": 0,
 "worksheets": [
  {
   "cells": [
    {
     "cell_type": "heading",
     "level": 1,
     "metadata": {},
     "source": [
      "Exercise 1"
     ]
    },
    {
     "cell_type": "markdown",
     "metadata": {},
     "source": [
      "(a) The Schelling model yields an array with a spatial distribution of populations. Propose, implement, and justify a quantitative measure of segregation. Your measure should assume values between 0 (no seggregration) and 1 (complete seggregation), and increase with increasing seggregation.\n",
      "\n",
      "(b) Completely random distributions of people will give non-zero seggregation. Characterize the variation of your seggregation measure through simulations for different proportions of red, blue, and empty sites."
     ]
    },
    {
     "cell_type": "heading",
     "level": 1,
     "metadata": {},
     "source": [
      "Exercise 2"
     ]
    },
    {
     "cell_type": "markdown",
     "metadata": {},
     "source": [
      "Determine how the results of the Schelling model are affected by different parameter choices.\n",
      "\n",
      "(a) How does the seggregation measure depend on the threshold?\n",
      "\n",
      "(b) Does your seggregation measure increase or decrease if the ratio of black to white sites differs from 1? What is the influence of the ratio of occupied to unoccupied sites?\n",
      "\n",
      "(c) What happens if the two populations have different thresholds? What if one population is entirely indifferent to its environment while the other population has a preference? Does that result depend on whether the majority or minority population is indifferent?"
     ]
    },
    {
     "cell_type": "heading",
     "level": 1,
     "metadata": {},
     "source": [
      "Exercise 3"
     ]
    },
    {
     "cell_type": "markdown",
     "metadata": {},
     "source": [
      "The Schelling model uses a spatial model. Try to extend the Schelling model to a non-spatial model of racial biases in hiring. Assume that there are $N$ companies or job areas with a total of $M$ employees. Define reasonable dynamics that express different kinds of biases in companies hiring candidates and in candidates selecting companies. As before, define quantitative measures of racial bias or diversity in hiring. Try to answer the following questions:\n",
      "\n",
      "- What is the \"natural\" level of variation even for completely race-blind dynamics?\n",
      "- Can a lack of diversity be brought about solely by candidate preferences?\n",
      "- If a set of companies starts out without diversity, how long does it take to relax to a state that would be likely under race-blind dynamics?"
     ]
    },
    {
     "cell_type": "code",
     "collapsed": false,
     "input": [],
     "language": "python",
     "metadata": {},
     "outputs": []
    }
   ],
   "metadata": {}
  }
 ]
}