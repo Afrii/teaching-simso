{
 "metadata": {
  "name": "32-manufacturing-efficiency-and-markets"
 },
 "nbformat": 3,
 "nbformat_minor": 0,
 "worksheets": [
  {
   "cells": [
    {
     "cell_type": "markdown",
     "metadata": {},
     "source": [
      "Title: Markets and Efficiency\n",
      "Author: Thomas Breuel\n",
      "Institution: UniKL"
     ]
    },
    {
     "cell_type": "heading",
     "level": 1,
     "metadata": {},
     "source": [
      "Markets Select for Efficiency"
     ]
    },
    {
     "cell_type": "markdown",
     "metadata": {},
     "source": [
      "- Let's start with a collection of $N=10$ manufacturers.\n",
      "- Each manufacturer produces a product with some unit cost.\n",
      "- Initially, all manufacturers produce products at the same rate per unit time.\n",
      "\n"
     ]
    },
    {
     "cell_type": "code",
     "collapsed": false,
     "input": [
      "# 10 manufacturers of equal size\n",
      "N = 10\n",
      "capacities = ones(N)"
     ],
     "language": "python",
     "metadata": {},
     "outputs": [],
     "prompt_number": 1
    },
    {
     "cell_type": "code",
     "collapsed": false,
     "input": [
      "# a range of unit costs\n",
      "unit_costs = maximum(randn(N)*20.0+100.0,0.0)"
     ],
     "language": "python",
     "metadata": {},
     "outputs": [],
     "prompt_number": 2
    },
    {
     "cell_type": "markdown",
     "metadata": {},
     "source": [
      "Although the numbering for the manufacturers is arbitrary, we sort them by their unit costs; this makes it easier to see how the most efficient manufacturer (`rates[0]`) succeeds.\n",
      "\n"
     ]
    },
    {
     "cell_type": "code",
     "collapsed": false,
     "input": [
      "unit_costs = numpy.sort(unit_costs)"
     ],
     "language": "python",
     "metadata": {},
     "outputs": [],
     "prompt_number": 3
    },
    {
     "cell_type": "markdown",
     "metadata": {},
     "source": [
      "There is also a set of $M$ customers, with a wide range of redemption values for the product produced by the manufacturers.\n",
      "\n"
     ]
    },
    {
     "cell_type": "code",
     "collapsed": false,
     "input": [
      "M = 100\n",
      "redemptions = rand(M)*200.0"
     ],
     "language": "python",
     "metadata": {},
     "outputs": [],
     "prompt_number": 4
    },
    {
     "cell_type": "heading",
     "level": 1,
     "metadata": {},
     "source": [
      "Supply and Demand Curves"
     ]
    },
    {
     "cell_type": "markdown",
     "metadata": {},
     "source": [
      "We can find the market equilibrium price by looking at the supply and demand curves.\n",
      "\n"
     ]
    },
    {
     "cell_type": "code",
     "collapsed": false,
     "input": [
      "def sdcurves():\n",
      "    prices = linspace(0.0,200.0,10000)\n",
      "    supply = [sum(capacities*(unit_costs<=p)) for p in prices]\n",
      "    demand = [sum(redemptions>=p) for p in prices]\n",
      "    plot(prices,supply)\n",
      "    plot(prices,demand)\n",
      "sdcurves()"
     ],
     "language": "python",
     "metadata": {},
     "outputs": [
      {
       "output_type": "display_data",
       "png": "[encoded data removed]"
      }
     ],
     "prompt_number": 5
    },
    {
     "cell_type": "markdown",
     "metadata": {},
     "source": [
      "Supply and demand:\n",
      "\n",
      "- all manufacturers together can (initially) only produce 10 units\n",
      "- the market price is the price at which there is demand for 10 units\n",
      "- that is where the supply and demand curves cross (clearing price)\n",
      "- we're assuming that this price is determined by market mechanisms\n",
      "  - double auctions\n",
      "  - market research\n",
      "  - intelligent agents"
     ]
    },
    {
     "cell_type": "code",
     "collapsed": false,
     "input": [
      "# computing the market clearing price\n",
      "def clearing():\n",
      "    prices = linspace(0.0,200.0,10001)\n",
      "    supply = [sum(capacities*(unit_costs<=p)) for p in prices]\n",
      "    demand = [sum(redemptions>=p) for p in prices]\n",
      "    return prices[find(array(supply)>=array(demand))[0]]\n",
      "clearing()"
     ],
     "language": "python",
     "metadata": {},
     "outputs": [
      {
       "output_type": "pyout",
       "prompt_number": 6,
       "text": [
        "172.84"
       ]
      }
     ],
     "prompt_number": 6
    },
    {
     "cell_type": "heading",
     "level": 1,
     "metadata": {},
     "source": [
      "Investment and Growth"
     ]
    },
    {
     "cell_type": "markdown",
     "metadata": {},
     "source": [
      "Long-term investment:\n",
      "\n",
      "- Each month, manufacturers sell their products to customers.\n",
      "- Manufacturers use the profits from their sales to increase production rates.\n",
      "- Losses result in decreases in production rates."
     ]
    },
    {
     "cell_type": "code",
     "collapsed": false,
     "input": [
      "growth_rate = 1e-2\n",
      "prices = []\n",
      "capacity_history = []\n",
      "for month in range(1000):\n",
      "    capacity_history.append(capacities.copy())\n",
      "    c = clearing()\n",
      "    capacities += (c-unit_costs)*growth_rate\n",
      "    capacities = maximum(capacities,0.0)\n",
      "    prices.append(c)\n",
      "prices = array(prices)\n",
      "capacity_history = array(capacity_history)"
     ],
     "language": "python",
     "metadata": {},
     "outputs": [],
     "prompt_number": 7
    },
    {
     "cell_type": "heading",
     "level": 1,
     "metadata": {},
     "source": [
      "Price, Profit, Dominance"
     ]
    },
    {
     "cell_type": "code",
     "collapsed": false,
     "input": [
      "# prices decrease over time\n",
      "plot(prices)"
     ],
     "language": "python",
     "metadata": {},
     "outputs": [
      {
       "output_type": "pyout",
       "prompt_number": 8,
       "text": [
        "[<matplotlib.lines.Line2D at 0x3b16f10>]"
       ]
      },
      {
       "output_type": "display_data",
       "png": "[encoded data removed]"
      }
     ],
     "prompt_number": 8
    },
    {
     "cell_type": "markdown",
     "metadata": {},
     "source": [
      "Competition has concentrated the entire production in the most efficient manufacturer.\n",
      "\n"
     ]
    },
    {
     "cell_type": "code",
     "collapsed": false,
     "input": [
      "plot(capacities)"
     ],
     "language": "python",
     "metadata": {},
     "outputs": [
      {
       "output_type": "pyout",
       "prompt_number": 9,
       "text": [
        "[<matplotlib.lines.Line2D at 0x3b60210>]"
       ]
      },
      {
       "output_type": "display_data",
       "png": "[encoded data removed]"
      }
     ],
     "prompt_number": 9
    },
    {
     "cell_type": "markdown",
     "metadata": {},
     "source": [
      "Since we only have a single supplier, the supply curve now looks like this.\n",
      "\n"
     ]
    },
    {
     "cell_type": "code",
     "collapsed": false,
     "input": [
      "sdcurves()"
     ],
     "language": "python",
     "metadata": {},
     "outputs": [
      {
       "output_type": "display_data",
       "png": "[encoded data removed]"
      }
     ],
     "prompt_number": 10
    },
    {
     "cell_type": "markdown",
     "metadata": {},
     "source": [
      "The unit cost of the most efficient manufacturer approximately equals the clearing cost.\n",
      "\n"
     ]
    },
    {
     "cell_type": "code",
     "collapsed": false,
     "input": [
      "print unit_costs[0]\n",
      "print clearing()"
     ],
     "language": "python",
     "metadata": {},
     "outputs": [
      {
       "output_type": "stream",
       "stream": "stdout",
       "text": [
        "65.6811933215\n",
        "65.7"
       ]
      },
      {
       "output_type": "stream",
       "stream": "stdout",
       "text": [
        "\n"
       ]
      }
     ],
     "prompt_number": 11
    },
    {
     "cell_type": "markdown",
     "metadata": {},
     "source": [
      "The rate at which the most efficient manufacturer produces equals the total demand at its unit production cost.\n",
      "\n"
     ]
    },
    {
     "cell_type": "code",
     "collapsed": false,
     "input": [
      "print sum(redemptions>clearing())\n",
      "print capacities[0]"
     ],
     "language": "python",
     "metadata": {},
     "outputs": [
      {
       "output_type": "stream",
       "stream": "stdout",
       "text": [
        "65\n",
        "65.0966667845\n"
       ]
      }
     ],
     "prompt_number": 12
    },
    {
     "cell_type": "code",
     "collapsed": false,
     "input": [
      "imshow(capacity_history[::20].T,cmap=cm.Blues)"
     ],
     "language": "python",
     "metadata": {},
     "outputs": [
      {
       "output_type": "pyout",
       "prompt_number": 13,
       "text": [
        "<matplotlib.image.AxesImage at 0x3e16490>"
       ]
      },
      {
       "output_type": "display_data",
       "png": "[encoded data removed]"
      }
     ],
     "prompt_number": 13
    },
    {
     "cell_type": "code",
     "collapsed": false,
     "input": [
      "plot(sum(capacity_history,axis=1))\n",
      "plot(capacity_history[:,0])\n",
      "plot(capacity_history[:,1])\n",
      "plot(capacity_history[:,2])"
     ],
     "language": "python",
     "metadata": {},
     "outputs": [
      {
       "output_type": "pyout",
       "prompt_number": 14,
       "text": [
        "[<matplotlib.lines.Line2D at 0x3f61310>]"
       ]
      },
      {
       "output_type": "display_data",
       "png": "[encoded data removed]"
      }
     ],
     "prompt_number": 14
    },
    {
     "cell_type": "markdown",
     "metadata": {},
     "source": [
      "Important Points:\n",
      "\n",
      "- when only one manufacturer is left, the market switches to a monopoly strategy\n",
      "- when there is overcapacity, manufacturers might choose to minimize their losses"
     ]
    },
    {
     "cell_type": "markdown",
     "metadata": {},
     "source": [
      "**QUESTIONS**\n",
      "\n",
      "- Is this simulation correct / realistic?\n",
      "- Where does the overcapacity come from?\n",
      "- What would the simulation look like with selling at a loss?\n",
      "- What would the simulation look like with monopoly economics?"
     ]
    },
    {
     "cell_type": "markdown",
     "metadata": {},
     "source": [
      "**EXTENSION**\n",
      "\n",
      "In real life, all manufacturers improve their processes over time. Assume there is a minimum unit cost and that manufacturers move towards that at some rate from their starting rate (i.e., the difference between their unit cost and the minimum cost decreases by some percentage every month). Now there are two growth rates: the growth of manufacturing capacity, and the rate (possibly manufacturer dependent) at which manufacturers improve manufacturing costs.\n",
      "\n",
      "- Are there tradeoffs between rates that don't result in a monopoly in the short term?\n",
      "- If manufacturers can invest in either adding capacity or improving costs (R&amp;D), what tradeoff is best?"
     ]
    },
    {
     "cell_type": "code",
     "collapsed": false,
     "input": [],
     "language": "python",
     "metadata": {},
     "outputs": [],
     "prompt_number": 14
    }
   ],
   "metadata": {}
  }
 ]
}