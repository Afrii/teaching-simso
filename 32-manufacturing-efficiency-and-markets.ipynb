{
 "metadata": {
  "name": "32-manufacturing-efficiency-and-markets"
 },
 "nbformat": 3,
 "nbformat_minor": 0,
 "worksheets": [
  {
   "cells": [
    {
     "cell_type": "heading",
     "level": 1,
     "metadata": {},
     "source": [
      "Markets Select for Efficiency"
     ]
    },
    {
     "cell_type": "markdown",
     "metadata": {},
     "source": [
      "- Let's start with a collection of $N=10$ manufacturers.\n",
      "- Each manufacturer produces a product with some unit cost.\n",
      "- Initially, all manufacturers produce products at the same rate per unit time.\n",
      "\n"
     ]
    },
    {
     "cell_type": "code",
     "collapsed": false,
     "input": [
      "N = 10\n",
      "rates = ones(N)\n",
      "unit_costs = maximum(randn(N)*20.0+100.0,0.0)\n",
      "unit_costs = numpy.sort(unit_costs)"
     ],
     "language": "python",
     "metadata": {},
     "outputs": [],
     "prompt_number": 13
    },
    {
     "cell_type": "markdown",
     "metadata": {},
     "source": [
      "There is also a set of $M$ customers, with a wide range of redemption values for the product produced by the manufacturers.\n",
      "\n"
     ]
    },
    {
     "cell_type": "code",
     "collapsed": false,
     "input": [
      "M = 100\n",
      "redemptions = rand(M)*200.0"
     ],
     "language": "python",
     "metadata": {},
     "outputs": [],
     "prompt_number": 14
    },
    {
     "cell_type": "heading",
     "level": 1,
     "metadata": {},
     "source": [
      "Supply and Demand Curves"
     ]
    },
    {
     "cell_type": "markdown",
     "metadata": {},
     "source": [
      "We can find the market equilibrium price by looking at the supply and demand curves.\n",
      "\n"
     ]
    },
    {
     "cell_type": "code",
     "collapsed": false,
     "input": [
      "def sdcurves():\n",
      "    prices = linspace(0.0,200.0,1000)\n",
      "    supply = [sum(rates*(unit_costs<=p)) for p in prices]\n",
      "    demand = [sum(redemptions>=p) for p in prices]\n",
      "    plot(prices,supply)\n",
      "    plot(prices,demand)\n",
      "sdcurves()"
     ],
     "language": "python",
     "metadata": {},
     "outputs": [
      {
       "output_type": "display_data",
       "png": "[encoded data removed]"
      }
     ],
     "prompt_number": 15
    },
    {
     "cell_type": "heading",
     "level": 1,
     "metadata": {},
     "source": [
      "Market Clearing Price"
     ]
    },
    {
     "cell_type": "code",
     "collapsed": false,
     "input": [
      "# computing the market clearing price\n",
      "def clearing():\n",
      "    prices = linspace(0.0,200.0,1001)\n",
      "    supply = [sum(rates*(unit_costs<=p)) for p in prices]\n",
      "    demand = [sum(redemptions>=p) for p in prices]\n",
      "    return prices[find(array(supply)>=array(demand))[0]]\n",
      "clearing()"
     ],
     "language": "python",
     "metadata": {},
     "outputs": [
      {
       "output_type": "pyout",
       "prompt_number": 16,
       "text": [
        "181.60000000000002"
       ]
      }
     ],
     "prompt_number": 16
    },
    {
     "cell_type": "heading",
     "level": 1,
     "metadata": {},
     "source": [
      "Investment and Growth"
     ]
    },
    {
     "cell_type": "markdown",
     "metadata": {},
     "source": [
      "Long-term investment:\n",
      "\n",
      "- Each month, manufacturers sell their products to customers.\n",
      "- Manufacturers use the profits from their sales to increase production rates.\n",
      "- Losses result in decreases in production rates."
     ]
    },
    {
     "cell_type": "code",
     "collapsed": false,
     "input": [
      "growth_rate = 1e-2\n",
      "prices = []\n",
      "for month in range(500):\n",
      "    c = clearing()\n",
      "    rates += (c-unit_costs)*growth_rate\n",
      "    rates = maximum(rates,0.0)\n",
      "    prices.append(c)"
     ],
     "language": "python",
     "metadata": {},
     "outputs": [],
     "prompt_number": 17
    },
    {
     "cell_type": "heading",
     "level": 1,
     "metadata": {},
     "source": [
      "Price, Profit, Dominance"
     ]
    },
    {
     "cell_type": "code",
     "collapsed": false,
     "input": [
      "# prices decrease over time\n",
      "plot(prices)"
     ],
     "language": "python",
     "metadata": {},
     "outputs": [
      {
       "output_type": "pyout",
       "prompt_number": 18,
       "text": [
        "[<matplotlib.lines.Line2D at 0x4536990>]"
       ]
      },
      {
       "output_type": "display_data",
       "png": "[encoded data removed]"
      }
     ],
     "prompt_number": 18
    },
    {
     "cell_type": "markdown",
     "metadata": {},
     "source": [
      "Competition has concentrated the entire production in the most efficient manufacturer.\n",
      "\n"
     ]
    },
    {
     "cell_type": "code",
     "collapsed": false,
     "input": [
      "plot(rates)"
     ],
     "language": "python",
     "metadata": {},
     "outputs": [
      {
       "output_type": "pyout",
       "prompt_number": 19,
       "text": [
        "[<matplotlib.lines.Line2D at 0x4552fd0>]"
       ]
      },
      {
       "output_type": "display_data",
       "png": "[encoded data removed]"
      }
     ],
     "prompt_number": 19
    },
    {
     "cell_type": "markdown",
     "metadata": {},
     "source": [
      "Since we only have a single supplier, the supply curve now looks like this.\n",
      "\n"
     ]
    },
    {
     "cell_type": "code",
     "collapsed": false,
     "input": [
      "sdcurves()"
     ],
     "language": "python",
     "metadata": {},
     "outputs": [
      {
       "output_type": "display_data",
       "png": "[encoded data removed]"
      }
     ],
     "prompt_number": 25
    },
    {
     "cell_type": "markdown",
     "metadata": {},
     "source": [
      "The unit cost of the most efficient manufacturer approximately equals the clearing cost.\n",
      "\n"
     ]
    },
    {
     "cell_type": "code",
     "collapsed": false,
     "input": [
      "print unit_costs[0]\n",
      "print clearing()"
     ],
     "language": "python",
     "metadata": {},
     "outputs": [
      {
       "output_type": "stream",
       "stream": "stdout",
       "text": [
        "46.7812777603\n",
        "46.8\n"
       ]
      }
     ],
     "prompt_number": 26
    },
    {
     "cell_type": "markdown",
     "metadata": {},
     "source": [
      "The rate at which the most efficient manufacturer produces equals the total demand at its unit production cost.\n",
      "\n"
     ]
    },
    {
     "cell_type": "code",
     "collapsed": false,
     "input": [
      "print sum(redemptions>clearing())\n",
      "print rates[0]"
     ],
     "language": "python",
     "metadata": {},
     "outputs": [
      {
       "output_type": "stream",
       "stream": "stdout",
       "text": [
        "78\n",
        "78.0176111987\n"
       ]
      }
     ],
     "prompt_number": 24
    }
   ],
   "metadata": {}
  }
 ]
}