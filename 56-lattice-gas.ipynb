{
 "metadata": {
  "name": "56-lattice-gas"
 },
 "nbformat": 3,
 "nbformat_minor": 0,
 "worksheets": [
  {
   "cells": [
    {
     "cell_type": "code",
     "collapsed": false,
     "input": [
      "\n",
      "matplotlib.rc(\"image\",cmap=\"gray\")\n",
      "matplotlib.rc(\"image\",interpolation=\"nearest\")\n",
      "\n",
      "import pygame\n",
      "w,h = 300,200\n",
      "\n",
      "screen = pygame.display.set_mode((w,h))\n",
      "#pygame.display.set_palette([(i,i,i) for i in range(256)])\n",
      "surface = pygame.Surface((w,h),depth=8)\n",
      "surface.set_palette([(i,i,i) for i in range(256)])\n",
      "# for i in range(256): surface.set_palette_at(i,(i,i,i))\n",
      "\n",
      "def animate(images,n=1000000):\n",
      "    for i,image in enumerate(images):\n",
      "        if i>=n: break\n",
      "        b = array(255*clip(image,0,1),'B')\n",
      "        pygame.surfarray.blit_array(surface,b[:w,:h])\n",
      "        screen.blit(surface,(0,0))\n",
      "        pygame.display.flip()\n",
      "    return image\n",
      "\n",
      "AND = logical_and\n",
      "OR = logical_or\n",
      "NOT = logical_not"
     ],
     "language": "python",
     "metadata": {},
     "outputs": [],
     "prompt_number": 2
    },
    {
     "cell_type": "heading",
     "level": 1,
     "metadata": {},
     "source": [
      "Lattice Gas Simulations"
     ]
    },
    {
     "cell_type": "markdown",
     "metadata": {},
     "source": [
      "Lattice gases are simple cellular automata models of gases and fluid dynamics.\n",
      "\n",
      "The basic model is as follows:\n",
      "\n",
      "- particles move on a 2D grid\n",
      "- particles can move in one of four directions\n",
      "- if exactly two particles meet head-on, they bounce off in perpendicular dierctions\n",
      "- all other particle meetings result in no changes"
     ]
    },
    {
     "cell_type": "code",
     "collapsed": false,
     "input": [
      "particles = array([rand(w,h)<0.01 for i in range(4)])"
     ],
     "language": "python",
     "metadata": {},
     "outputs": [],
     "prompt_number": 3
    },
    {
     "cell_type": "code",
     "collapsed": false,
     "input": [
      "dirs = [(-1,0),(1,0),(-1,1),(1,1)]"
     ],
     "language": "python",
     "metadata": {},
     "outputs": [],
     "prompt_number": 4
    },
    {
     "cell_type": "code",
     "collapsed": false,
     "input": [
      "def loop(n,interact=0):\n",
      "    for t in range(n):\n",
      "        for i,d in enumerate(dirs): \n",
      "            if i%2==t%2:\n",
      "                particles[i] = roll(particles[i],*d)\n",
      "        if interact:\n",
      "            swap = OR(AND(AND(particles[0],particles[1]),NOT(OR(particles[2],particles[3]))),\n",
      "                      AND(AND(particles[2],particles[3]),NOT(OR(particles[0],particles[1]))))\n",
      "            particles[:,:,:] = where(swap,particles[array([2,3,0,1])],particles)\n",
      "        yield 0.25*sum(particles,axis=0)"
     ],
     "language": "python",
     "metadata": {},
     "outputs": [],
     "prompt_number": 5
    },
    {
     "cell_type": "markdown",
     "metadata": {},
     "source": [
      "Let's look at the interaction of two particles. The particles move along the vertical, collide, and change direction. As a result, we have _conservation_ of momentum and mass."
     ]
    },
    {
     "cell_type": "code",
     "collapsed": false,
     "input": [
      "figsize(9,9)\n",
      "particles = zeros((4,16,16))\n",
      "particles[0,10,7] = 1\n",
      "particles[1,5,7] = 1\n",
      "for k,image in enumerate(loop(8,1)):\n",
      "    subplot(1,8,k+1); imshow(8*particles[0]+4*particles[1]+2*particles[2]+particles[3]); title(str(k)); axis(\"off\")"
     ],
     "language": "python",
     "metadata": {},
     "outputs": [
      {
       "output_type": "display_data",
       "png": "[encoded data removed]"
      }
     ],
     "prompt_number": 6
    },
    {
     "cell_type": "markdown",
     "metadata": {},
     "source": [
      "We can now simulate a large collection of particles.\n",
      "\n"
     ]
    },
    {
     "cell_type": "code",
     "collapsed": false,
     "input": [
      "particles = array([rand(w,h)<0.2 for i in range(4)])\n",
      "particles[:,77:177,11:111] = 0\n",
      "_=animate(loop(1000,1))"
     ],
     "language": "python",
     "metadata": {},
     "outputs": [],
     "prompt_number": 7
    },
    {
     "cell_type": "markdown",
     "metadata": {},
     "source": [
      "Generally, in fluid dynamics, we look at densities and other average quantities.\n",
      "\n",
      "We can obtain these by smoothing the particle density in our cellular automata simulation."
     ]
    },
    {
     "cell_type": "code",
     "collapsed": false,
     "input": [
      "from scipy.ndimage import filters\n",
      "def density(n,interact=1,hi=0.2,lo=0.0):\n",
      "    for t,image in enumerate(loop(n,interact)):\n",
      "        result = filters.gaussian_filter(image,10.0)\n",
      "        if t%10000==0: print t,amin(result),amax(result)\n",
      "        yield clip((result-lo)/(hi-lo),0.0,1.0)"
     ],
     "language": "python",
     "metadata": {},
     "outputs": [],
     "prompt_number": 10
    },
    {
     "cell_type": "code",
     "collapsed": false,
     "input": [
      "particles = array([rand(w,h)<0.2 for i in range(4)])\n",
      "particles[:,77:177,11:111] = 0\n",
      "_=animate(density(5000,1,hi=0.32))"
     ],
     "language": "python",
     "metadata": {},
     "outputs": [
      {
       "output_type": "stream",
       "stream": "stdout",
       "text": [
        "0 0.0 0.215240833478\n"
       ]
      }
     ],
     "prompt_number": 11
    },
    {
     "cell_type": "markdown",
     "metadata": {},
     "source": [
      "More on Lattice Gases:\n",
      "\n",
      "- simulations on 2D square grids are anisotropic\n",
      "- simulations on 2D hexagonal grids are isotropic at large scales\n",
      "- simulations on 3D cubic grids are anisotropic\n",
      "- more complex rules possible for more realistic simulations\n",
      "- turbulence, other phenomena observable"
     ]
    },
    {
     "cell_type": "code",
     "collapsed": false,
     "input": [],
     "language": "python",
     "metadata": {},
     "outputs": []
    }
   ],
   "metadata": {}
  }
 ]
}