{
 "metadata": {
  "name": "56-lattice-gas"
 },
 "nbformat": 3,
 "nbformat_minor": 0,
 "worksheets": [
  {
   "cells": [
    {
     "cell_type": "code",
     "collapsed": false,
     "input": [
      "matplotlib.rc(\"image\",cmap=\"gray\")\n",
      "matplotlib.rc(\"image\",interpolation=\"nearest\")"
     ],
     "language": "python",
     "metadata": {},
     "outputs": [],
     "prompt_number": 164
    },
    {
     "cell_type": "code",
     "collapsed": false,
     "input": [
      "AND = logical_and\n",
      "OR = logical_or\n",
      "NOT = logical_not"
     ],
     "language": "python",
     "metadata": {},
     "outputs": [],
     "prompt_number": 165
    },
    {
     "cell_type": "code",
     "collapsed": false,
     "input": [
      "w,h = 256,256\n",
      "particles = array([rand(w,h)<0.01 for i in range(4)])"
     ],
     "language": "python",
     "metadata": {},
     "outputs": [],
     "prompt_number": 174
    },
    {
     "cell_type": "code",
     "collapsed": false,
     "input": [
      "dirs = [(-1,0),(1,0),(-1,1),(1,1)]"
     ],
     "language": "python",
     "metadata": {},
     "outputs": [],
     "prompt_number": 175
    },
    {
     "cell_type": "code",
     "collapsed": false,
     "input": [
      "\n",
      "import pygame\n",
      "screen = pygame.display.set_mode((w,h))\n",
      "#pygame.display.set_palette([(i,i,i) for i in range(256)])\n",
      "surface = pygame.Surface((w,h),depth=8)\n",
      "surface.set_palette([(i,i,i) for i in range(256)])\n",
      "# for i in range(256): surface.set_palette_at(i,(i,i,i))\n",
      "\n",
      "def animate(images,n=1000000):\n",
      "    for i,image in enumerate(images):\n",
      "        if i>=n: break\n",
      "        b = array(255*clip(image,0,1),'B')\n",
      "        pygame.surfarray.blit_array(surface,b[:w,:h])\n",
      "        screen.blit(surface,(0,0))\n",
      "        pygame.display.flip()\n",
      "    return image"
     ],
     "language": "python",
     "metadata": {},
     "outputs": [],
     "prompt_number": 176
    },
    {
     "cell_type": "code",
     "collapsed": false,
     "input": [
      "def test(n):\n",
      "    for i in range(10):\n",
      "        yield i"
     ],
     "language": "python",
     "metadata": {},
     "outputs": [],
     "prompt_number": 177
    },
    {
     "cell_type": "code",
     "collapsed": false,
     "input": [
      "def loop(n,interact=0):\n",
      "    for t in range(n):\n",
      "        for i,d in enumerate(dirs): \n",
      "            if i%2==t%2:\n",
      "                particles[i] = roll(particles[i],*d)\n",
      "        if interact:\n",
      "            swap = OR(AND(AND(particles[0],particles[1]),NOT(OR(particles[2],particles[3]))),\n",
      "                      AND(AND(particles[2],particles[3]),NOT(OR(particles[0],particles[1]))))\n",
      "            particles[:,:,:] = where(swap,particles[array([2,3,0,1])],particles)\n",
      "        yield 0.25*sum(particles,axis=0)"
     ],
     "language": "python",
     "metadata": {},
     "outputs": [],
     "prompt_number": 178
    },
    {
     "cell_type": "markdown",
     "metadata": {},
     "source": [
      "Let's look at the interaction of two particles. \n",
      "\n",
      "The particles move along the vertical, collide, and change direction.\n",
      "\n",
      "As a result, we have _conservation_ of momentum and mass."
     ]
    },
    {
     "cell_type": "code",
     "collapsed": false,
     "input": [
      "figsize(9,9)\n",
      "particles = zeros((4,16,16))\n",
      "particles[0,10,7] = 1\n",
      "particles[1,5,7] = 1\n",
      "for k,image in enumerate(loop(8,1)):\n",
      "    subplot(1,8,k+1); imshow(8*particles[0]+4*particles[1]+2*particles[2]+particles[3]); title(str(k)); axis(\"off\")"
     ],
     "language": "python",
     "metadata": {},
     "outputs": [
      {
       "output_type": "display_data",
       "png": "[encoded data removed]"
      }
     ],
     "prompt_number": 179
    },
    {
     "cell_type": "markdown",
     "metadata": {},
     "source": [
      "We can now simulate a large collection of particles.\n",
      "\n"
     ]
    },
    {
     "cell_type": "code",
     "collapsed": false,
     "input": [
      "particles = array([rand(w,h)<0.2 for i in range(4)])\n",
      "particles[:,77:177,11:111] = 0\n",
      "_=animate(loop(1000,1))"
     ],
     "language": "python",
     "metadata": {},
     "outputs": [],
     "prompt_number": 185
    },
    {
     "cell_type": "code",
     "collapsed": false,
     "input": [
      "def density(n,interact=1,hi=0.2,lo=0.0):\n",
      "    for t,image in enumerate(loop(n,interact)):\n",
      "        result = filters.gaussian_filter(image,10.0)\n",
      "        if t%100==0: print t,amin(result),amax(result)\n",
      "        yield clip((result-lo)/(hi-lo),0.0,1.0)"
     ],
     "language": "python",
     "metadata": {},
     "outputs": [],
     "prompt_number": 186
    },
    {
     "cell_type": "code",
     "collapsed": false,
     "input": [
      "particles = array([rand(w,h)<0.2 for i in range(4)])\n",
      "particles[:,77:177,11:111] = 0\n",
      "_=animate(density(5000,1,hi=0.32))"
     ],
     "language": "python",
     "metadata": {},
     "outputs": [
      {
       "output_type": "stream",
       "stream": "stdout",
       "text": [
        "0 0.0 0.218730051657\n",
        "100"
       ]
      },
      {
       "output_type": "stream",
       "stream": "stdout",
       "text": [
        " 0.0963829744031 0.216498223112\n",
        "200"
       ]
      },
      {
       "output_type": "stream",
       "stream": "stdout",
       "text": [
        " 0.118490028739 0.318739424237\n",
        "300"
       ]
      },
      {
       "output_type": "stream",
       "stream": "stdout",
       "text": [
        " 0.0877344600456 0.270459163541\n",
        "400"
       ]
      },
      {
       "output_type": "stream",
       "stream": "stdout",
       "text": [
        " 0.0443705680986 0.251698402174\n",
        "500"
       ]
      },
      {
       "output_type": "stream",
       "stream": "stdout",
       "text": [
        " 0.0418411742884 0.290990628994\n",
        "600"
       ]
      },
      {
       "output_type": "stream",
       "stream": "stdout",
       "text": [
        " 0.109901093714 0.270293644672\n",
        "700"
       ]
      },
      {
       "output_type": "stream",
       "stream": "stdout",
       "text": [
        " 0.0586241203545 0.319472105122\n",
        "800"
       ]
      },
      {
       "output_type": "stream",
       "stream": "stdout",
       "text": [
        " 0.0809624577883 0.289552506521\n",
        "900"
       ]
      },
      {
       "output_type": "stream",
       "stream": "stdout",
       "text": [
        " 0.130458023549 0.241316118646\n",
        "1000"
       ]
      },
      {
       "output_type": "stream",
       "stream": "stdout",
       "text": [
        " 0.0954447871362 0.251072675805\n",
        "1100"
       ]
      },
      {
       "output_type": "stream",
       "stream": "stdout",
       "text": [
        " 0.0318022560879 0.244580660618\n",
        "1200"
       ]
      }
     ],
     "prompt_number": "*"
    },
    {
     "cell_type": "code",
     "collapsed": false,
     "input": [],
     "language": "python",
     "metadata": {},
     "outputs": []
    }
   ],
   "metadata": {}
  }
 ]
}