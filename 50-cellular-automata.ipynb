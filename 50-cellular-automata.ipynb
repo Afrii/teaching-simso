{
 "metadata": {
  "name": "50-cellular-automata"
 },
 "nbformat": 3,
 "nbformat_minor": 0,
 "worksheets": [
  {
   "cells": [
    {
     "cell_type": "heading",
     "level": 1,
     "metadata": {},
     "source": [
      "Cellular Automata - So Far"
     ]
    },
    {
     "cell_type": "markdown",
     "metadata": {},
     "source": [
      "elementary cellular automaton:\n",
      "\n",
      "- 1D array of cells\n",
      "- 2 states\n",
      "- update based on state of cell and immediate neighbors\n",
      "- 8 possible updates\n",
      "- $2^8$ possible rules"
     ]
    },
    {
     "cell_type": "markdown",
     "metadata": {},
     "source": [
      "behavioral classes of cellular automata:\n",
      "\n",
      "- class 1: quick evolution to homogeneous state, information is destroyed quickly\n",
      "- class 2: reaches stable state quickly, information may be preserved, local changes remain local\n",
      "- class 3: pseudo-random or chaotic evolution, information destroyed, local changes spread\n",
      "- class 4: complex patterns evolve, structures may survive a long time"
     ]
    },
    {
     "cell_type": "markdown",
     "metadata": {},
     "source": [
      "Rule 110:\n",
      "\n",
      "- elementary cellular automaton\n",
      "- capable of universal computation"
     ]
    },
    {
     "cell_type": "markdown",
     "metadata": {},
     "source": [
      "Conway's Game of Life:\n",
      "\n",
      "- totalistic rules (depends only on number of neighbors)\n",
      "- capable of self-replication\n",
      "- capable of universal computation\n",
      "- rule: B3/S23 (birth: 3, survival: 2,3 neighbors)"
     ]
    },
    {
     "cell_type": "markdown",
     "metadata": {},
     "source": [
      "Social Science Models:\n",
      "\n",
      "- gossip model - spreading of information, disease\n",
      "- majority model - social conformance\n",
      "- Schelling model - segregation"
     ]
    },
    {
     "cell_type": "markdown",
     "metadata": {},
     "source": [
      "Physics / Chemistry Models:\n",
      "\n",
      "- Greenberg-Hastings model - reaction diffusion (more later)"
     ]
    },
    {
     "cell_type": "heading",
     "level": 1,
     "metadata": {},
     "source": [
      "More on Cellular Automata"
     ]
    },
    {
     "cell_type": "markdown",
     "metadata": {},
     "source": [
      "Today:\n",
      "\n",
      "- Hashlife\n",
      "- cellular automata and convolutions\n",
      "- FFT Life\n",
      "- LargerThanLife\n",
      "- RealLife\n",
      "- SmoothLife\n",
      "- PDEs vs Cellular Automata"
     ]
    },
    {
     "cell_type": "markdown",
     "metadata": {},
     "source": [
      "Today:\n",
      "\n",
      "- WireWorld\n",
      "- Langton's Ant\n",
      "- Langton's Loops, Evoloops\n",
      "- Lattice Gases"
     ]
    },
    {
     "cell_type": "markdown",
     "metadata": {},
     "source": [
      "Kinds of Cellular Automata:\n",
      "\n",
      "totalistic:\n",
      "\n",
      "- next generation depends only on total number of neighbors\n",
      "\n",
      "stochastic:\n",
      "\n",
      "- finite state $\\rightarrow$ Markov chains, locally interacting markov chains\n",
      "- discrete state, stochastic state transitions\n",
      "\n",
      "asynchronous:\n",
      "\n",
      "- updates in regular cellular automata are all parallel, synchronous\n",
      "- asynchronous updates tend to destroy structure\n",
      "- http://en.wikipedia.org/wiki/Asynchronous_cellular_automaton\n",
      "- synchronous behavior can be achieved by extending the cellular automaton"
     ]
    },
    {
     "cell_type": "heading",
     "level": 1,
     "metadata": {},
     "source": [
      "Implementations of Life"
     ]
    },
    {
     "cell_type": "markdown",
     "metadata": {},
     "source": [
      "Hashlife:\n",
      "\n",
      "- efficient way of computing large scale, long-term evolution\n",
      "    - http://en.wikipedia.org/wiki/Hashlife\n",
      "    - http://www.drdobbs.com/jvm/an-algorithm-for-compressing-space-and-t/184406478\n",
      "- decompose grid in a quad-tree like structure\n",
      "- compute hash codes for nodes\n",
      "- compute long term evolution for nodes and store it\n",
      "- (demo)"
     ]
    },
    {
     "cell_type": "markdown",
     "metadata": {},
     "source": [
      "Life Generalizations:\n",
      "\n",
      "- totalistic cellular automata and filtering\n",
      "- large area totalistic automata, LargerThanLife, RealLife\n",
      "- separable filters\n",
      "- FFT and non-separable, smooth filters\n",
      "- SmoothLife\n",
      "- integro-differential equations"
     ]
    },
    {
     "cell_type": "markdown",
     "metadata": {},
     "source": [
      "PDEs and Cellular Automata:\n",
      "\n",
      "- cellular automata can approximate differential equations\n",
      "- effectively, simulate numerical solution to PDEs\n",
      "\n",
      "Reverse:\n",
      "\n",
      "- differential equations can simulate cellular automata\n",
      "- Omohundro (1983): construction with $C^\\infty$ bump functions\n",
      "- probably better, more natural constructions possible"
     ]
    },
    {
     "cell_type": "heading",
     "level": 1,
     "metadata": {},
     "source": [
      "Other Cellular Automata"
     ]
    },
    {
     "cell_type": "markdown",
     "metadata": {},
     "source": [
      "WireWorld:\n",
      "\n",
      "- simple cellular automaton capable of universal computation\n",
      "- rules divide the world into fixed \"wires\" and \"insulators\"\n",
      "- wire is in one of three states: empty, electron head, electron tail\n",
      "- rules are sufficient to build: clock generators, logic gates\n",
      "- out of these, entire circuits and processors can be built\n",
      "- no self-replication because no wires can be added (but can start out with infinite structure)\n",
      "- can built Langton's Ant, Turing-complete wireworld computer"
     ]
    },
    {
     "cell_type": "markdown",
     "metadata": {},
     "source": [
      "Langton's Ant:\n",
      "\n",
      "- simple 2D turing machine\n",
      "- state: head position, direction\n",
      "- transition rules:\n",
      "    - at a white square, turn $90^o$ right, flip color, move forward\n",
      "    - at a black square, turn $90^o$ left, flip color, move forward\n",
      "- complex behavior: simple patterns, then chaos, then \"highway\"\n",
      "- Gajardo (2000): Langton's ant is computationally universal"
     ]
    },
    {
     "cell_type": "markdown",
     "metadata": {},
     "source": [
      "Self-Reproducing Loops:\n",
      "\n",
      "- \"self-reproduction\" was one of the first motivations for cellular automata\n",
      "- difficult in Conway's game of life (easier in some variants)\n",
      "- other cellular automata variants make it easier"
     ]
    },
    {
     "cell_type": "markdown",
     "metadata": {},
     "source": [
      "Langton's Loops:\n",
      "\n",
      "- 8 state cellular automaton\n",
      "- states represent walls, background, information storage in the loop\n",
      "- states inside the loop instruct the construction of loop extensions\n",
      "- specific instructions result in self-replication"
     ]
    },
    {
     "cell_type": "markdown",
     "metadata": {},
     "source": [
      "Self-Replicating Loops:\n",
      "\n",
      "- original: self-replication\n",
      "- Byl's loop, Chou-Reggia loop: simpler loops w/o sheaths\n",
      "- Perrier loop: self-replication plus Turing completeness\n",
      "- Tempesti loop: self-replicaton plus internal structure\n",
      "- SDSR loop: self-replication and death\n",
      "- Evoloop: self-replication and mutation, demonstrates evolution"
     ]
    }
   ],
   "metadata": {}
  }
 ]
}