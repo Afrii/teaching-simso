{
 "metadata": {
  "name": "20-auctions"
 },
 "nbformat": 3,
 "nbformat_minor": 0,
 "worksheets": [
  {
   "cells": [
    {
     "cell_type": "markdown",
     "metadata": {},
     "source": [
      "Title: Auctions\n",
      "Author: Thomas M. Breuel\n",
      "Institution: UniKL"
     ]
    },
    {
     "cell_type": "heading",
     "level": 1,
     "metadata": {},
     "source": [
      "Auctions"
     ]
    },
    {
     "cell_type": "markdown",
     "metadata": {},
     "source": [
      "You want to sell your car. How do you do it?"
     ]
    },
    {
     "cell_type": "markdown",
     "metadata": {},
     "source": [
      "Different methods:\n",
      "\n",
      "- fixed price\n",
      "- haggling / negotiation\n",
      "- auction"
     ]
    },
    {
     "cell_type": "markdown",
     "metadata": {},
     "source": [
      "How do you set a price?"
     ]
    },
    {
     "cell_type": "markdown",
     "metadata": {},
     "source": [
      "Value distribution:\n",
      "\n",
      "- maximize your profit\n",
      "- your car may have different value to different people\n",
      "- you don't know what that value is\n",
      "- you want to identify a buyer to whom your car is most valuable"
     ]
    },
    {
     "cell_type": "markdown",
     "metadata": {},
     "source": [
      "Different value:\n",
      "\n",
      "- How useful is your car to someone?\n",
      "    - What are they going to do with it?\n",
      "    - What costs are they going to have?\n",
      "- How expensive is it for them to obtain the money to pay for it?\n",
      "    - Loans cost money.\n",
      "    - Money has different kinds of utility to different people.\n",
      "- What errors do they make in estimating value?"
     ]
    },
    {
     "cell_type": "markdown",
     "metadata": {},
     "source": [
      "Questions:\n",
      "\n",
      "- What sales method should you use?\n",
      "- What's the ideal amount you could get?\n",
      "- How much of that ideal amount can you expect to get?\n",
      "- How much of a bargain does the seller get, if any?"
     ]
    },
    {
     "cell_type": "markdown",
     "metadata": {},
     "source": [
      "Ideal amount:\n",
      "\n",
      "- large population of potential buyers\n",
      "- the car has a different value to each of them\n",
      "- identify the potential buyer to whom the car has the highest value\n",
      "- offer a price slightly below that value"
     ]
    },
    {
     "cell_type": "markdown",
     "metadata": {},
     "source": [
      "Problem:\n",
      "\n",
      "- We don't know the value that each buyer assigns to the car.\n",
      "- How do we get them to reveal it?\n",
      "- If we just ask, they are going to low-ball the estimate.\n",
      "- \"Oh, that piece of junk? You're lucky if I don't charge you for hauling it away.\""
     ]
    },
    {
     "cell_type": "markdown",
     "metadata": {},
     "source": [
      "Additional constraints:\n",
      "\n",
      "- Usually, there are time constraints.\n",
      "- Buying a car later is less valuable than buying it now (discount).\n",
      "- Discounting may involve hard time limits (buy/sell within a given period or pay a high cost).\n",
      "- Buying may involve competition.\n",
      "- Buying may involve sequential decision making: buy this or run the risk of not getting something like it later.\n",
      "- Limited information, uncertainty, and error in judging the price.\n",
      "- Size of the subpopulation of buyers we actually reach / who participate."
     ]
    },
    {
     "cell_type": "markdown",
     "metadata": {},
     "source": [
      "Game theory:\n",
      "\n",
      "- Game theory analyzes these situations through abstraction and simplification.\n",
      "- Some useful results under strong assumptions about distributions/information.\n",
      "- Results often don't apply to the real world.\n",
      "- People behaving \"suboptimally\"? Or do they account for more real-world phenomena?"
     ]
    },
    {
     "cell_type": "markdown",
     "metadata": {},
     "source": [
      "Auctions are used because sellers don't know what value buyers attach to the item being sold."
     ]
    },
    {
     "cell_type": "markdown",
     "metadata": {},
     "source": [
      "Often buyers are uncertain about the value of items too, and they use the auction itself (i.e., other bids) to improve their estimate of the value.\n",
      "\n",
      "Bids give useful information about value because even if the item isn't useful to you, they may suggest that in the worst case, you can at least re-sell the item for the price of another bidder, limiting your loss."
     ]
    },
    {
     "cell_type": "markdown",
     "metadata": {},
     "source": [
      "Values:\n",
      "\n",
      "- common value - the item has the same value to all bidders (although their estimate of that value may differ)\n",
      "- private value - the item has different values for different bidders (and their estimates may not be accurate either)"
     ]
    },
    {
     "cell_type": "markdown",
     "metadata": {},
     "source": [
      "common auction types:\n",
      "\n",
      "- English auction\n",
      "- Dutch auction\n",
      "- first price sealed bid\n",
      "- second price sealed bid"
     ]
    },
    {
     "cell_type": "markdown",
     "metadata": {},
     "source": [
      "Dutch auction is strategically equivalent to first price sealed bid auctions."
     ]
    },
    {
     "cell_type": "markdown",
     "metadata": {},
     "source": [
      "_Dutch auction is strategically equivalent to first price sealed bid auctions._\n",
      "\n",
      "- As the price descends, you bid once it reaches your first-price-sealed-bid.\n",
      "- At that point, the auction ends and nobody can derive any information from your bid."
     ]
    },
    {
     "cell_type": "markdown",
     "metadata": {},
     "source": [
      "English auction with private values is equivalent to second price sealed bid auctions."
     ]
    },
    {
     "cell_type": "markdown",
     "metadata": {},
     "source": [
      "_English auction with private values is equivalent to second price sealed bid auctions._\n",
      "\n",
      "- With private values, you should only bid up to what the item is worth to you; observing others gives you no information.\n",
      "- With second price auctions, that's when the last person drops out.\n",
      "- This _only_ works if other people's bids give you no information about the value to you."
     ]
    },
    {
     "cell_type": "markdown",
     "metadata": {},
     "source": [
      "Revenue vs efficiency:\n",
      "\n",
      "- What maximizes the revenue for the seller?\n",
      "- What maximizes the _efficieny_, i.e., which auction type ensures that the item ends up in the hands of the bidder to whom it is most valuable?\n",
      "\n",
      "E.g., consider auctions of public assets to private industry."
     ]
    },
    {
     "cell_type": "markdown",
     "metadata": {},
     "source": [
      "common assumptions:\n",
      "\n",
      "- independece - values of bidders are independently distributed\n",
      "- risk neutrality - all bidders maximize expected profits\n",
      "- no budget constraints - all bidders can pay up to their expected values\n",
      "- symmetry - all values are distributed the same way"
     ]
    },
    {
     "cell_type": "markdown",
     "metadata": {},
     "source": [
      "common implicit assumptions:\n",
      "\n",
      "- optimality and rationality - all bidders use optimal strategies and behave rationally\n",
      "- one-shot auctions - bidders treat each auction as a separate event without memory\n",
      "- infinite computational resources - may matter in the computation of some optimal strategies\n",
      "- full knowledge of parameters and distributions - those that are part of the model as given\n",
      "\n",
      "If there are irrational actors, others can take advantage of them with otherwise suboptimal strategies. C.f. ro-sham-bo tournaments."
     ]
    },
    {
     "cell_type": "markdown",
     "metadata": {},
     "source": [
      "other issues:\n",
      "\n",
      "- reserve prices (and commitment not to resell)\n",
      "- multiple object auctions (parallel or sequential, identical or nonidentical)\n",
      "- entry fees\n",
      "- uncertain number of bidders\n",
      "- time limits and random rejection of bids\n",
      "- public information (should seller reveal information?)\n",
      "- noise (which differences matter which don't?)\n",
      "- quantization (steps in Dutch auction, quantization of currency)\n",
      "- cooperation/collusion among bidders (some or all)\n",
      "- cost of time / number of bids (add cost for each bid)"
     ]
    },
    {
     "cell_type": "markdown",
     "metadata": {},
     "source": [
      "Many of these issues have been addressed in auction theory under very specific assumptions, but there is little known in general how they interact or what consequences they have."
     ]
    },
    {
     "cell_type": "code",
     "collapsed": false,
     "input": [],
     "language": "python",
     "metadata": {},
     "outputs": []
    }
   ],
   "metadata": {}
  }
 ]
}