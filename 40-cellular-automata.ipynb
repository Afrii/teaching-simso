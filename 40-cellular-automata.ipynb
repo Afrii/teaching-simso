{
 "metadata": {
  "name": "40-cellular-automata"
 },
 "nbformat": 3,
 "nbformat_minor": 0,
 "worksheets": [
  {
   "cells": [
    {
     "cell_type": "code",
     "collapsed": false,
     "input": [
      "import time, sys\n",
      "from IPython.display import clear_output\n",
      "matplotlib.rc('image',interpolation='nearest')\n",
      "import random as pyrand"
     ],
     "language": "python",
     "metadata": {},
     "outputs": [],
     "prompt_number": 57
    },
    {
     "cell_type": "heading",
     "level": 1,
     "metadata": {},
     "source": [
      "Cellular Automata"
     ]
    },
    {
     "cell_type": "markdown",
     "metadata": {},
     "source": [
      "Cellular Automata:\n",
      "\n",
      "- many processors\n",
      "- parallel updates\n",
      "- local interactions\n"
     ]
    },
    {
     "cell_type": "markdown",
     "metadata": {},
     "source": [
      "Cellular Automata (in particular):\n",
      "\n",
      "- processors on a 1D, 2D or 3D grid\n",
      "- interactions between grid neighbors\n",
      "- discrete internal state\n",
      "- processors are finite state machines depending on internal state and state of neighbors"
     ]
    },
    {
     "cell_type": "markdown",
     "metadata": {},
     "source": [
      "Cellular Automata Applications:\n",
      "\n",
      "- direct models of physical processes (e.g., crystal growth, fluid dynamics)\n",
      "- models of biological systems\n",
      "- models of self-replicating systems\n",
      "- fundamental questions in computation and parallel computation\n",
      "- computational universality"
     ]
    },
    {
     "cell_type": "markdown",
     "metadata": {},
     "source": [
      "Related Models:\n",
      "\n",
      "- difference equations: discrete space/time, continuous values\n",
      "- differential equations: continuous space/time, local neighborhoods\n",
      "- economic models: arbitrary neighborhoods/communications\n",
      "- intelligent agent models: full computational power at each node"
     ]
    },
    {
     "cell_type": "heading",
     "level": 1,
     "metadata": {},
     "source": [
      "Rule 110"
     ]
    },
    {
     "cell_type": "markdown",
     "metadata": {},
     "source": [
      "1D Cellular Automata:\n",
      "\n",
      "- infinite or circular 1D array of processors\n",
      "- each processor updates its state in parallel depending on its own state and the state of its two neighbors"
     ]
    },
    {
     "cell_type": "markdown",
     "metadata": {},
     "source": [
      "<img src='http://mathworld.wolfram.com/images/eps-gif/ElementaryCA30_1000.gif'>"
     ]
    },
    {
     "cell_type": "markdown",
     "metadata": {},
     "source": [
      "Update Rules:\n",
      "\n",
      "- there are two states per processor\n",
      "- there are $2^3=8$ possible states for the a processor and its two neighbors\n",
      "- there are $2^8=256$ ways of assigning output bits to the eight states"
     ]
    },
    {
     "cell_type": "markdown",
     "metadata": {},
     "source": [
      "<img src='http://mathworld.wolfram.com/images/eps-gif/ElementaryCARules_900.gif'>"
     ]
    },
    {
     "cell_type": "markdown",
     "metadata": {},
     "source": [
      "Let's implement a general Rule-$n$ function:\n",
      "\n"
     ]
    },
    {
     "cell_type": "code",
     "collapsed": false,
     "input": [
      "def rule1d(a,n=110):\n",
      "    a = (a!=0)\n",
      "    a = 4*roll(a,1)+2*a+roll(a,-1)\n",
      "    return bitwise_and(right_shift(n,a),1)"
     ],
     "language": "python",
     "metadata": {},
     "outputs": [],
     "prompt_number": 108
    },
    {
     "cell_type": "code",
     "collapsed": false,
     "input": [
      "a = zeros(200)\n",
      "a[100] = 1\n",
      "result = [a]\n",
      "for i in range(150): a = rule1d(a); result.append(a)\n",
      "result = array(result)\n",
      "imshow(result)"
     ],
     "language": "python",
     "metadata": {},
     "outputs": [
      {
       "output_type": "pyout",
       "prompt_number": 109,
       "text": [
        "<matplotlib.image.AxesImage at 0x95a5910>"
       ]
      },
      {
       "output_type": "display_data",
       "png": "[encoded data removed]"
      }
     ],
     "prompt_number": 109
    },
    {
     "cell_type": "markdown",
     "metadata": {},
     "source": [
      "Rule 110:\n",
      "\n",
      "- Rule 110 is special because it is _computationally universal_ (Turing equivalent)\n",
      "- Equivalence proof based on cyclic tag systems.\n",
      "- Rule 110 can likely be implemented in very simple physical systems (molecules, crystals, etc.)\n",
      "- This suggests that computational universality may be widespread in the natural world.\n"
     ]
    },
    {
     "cell_type": "heading",
     "level": 1,
     "metadata": {},
     "source": [
      "Parity"
     ]
    },
    {
     "cell_type": "markdown",
     "metadata": {},
     "source": [
      "Parity Model:\n",
      "\n",
      "- simple 2D cellular automaton\n",
      "- count the number of \"on\" pixels in a _von Neuman neighborhood_\n",
      "- the output is the parity of the count\n",
      "- interesting model of some simple physical systems"
     ]
    },
    {
     "cell_type": "markdown",
     "metadata": {},
     "source": [
      "von Neumann neighborhood:\n",
      "\n",
      "<img src=\"http://upload.wikimedia.org/wikipedia/commons/thumb/b/ba/Vierer-Nachbarschaft.png/220px-Vierer-Nachbarschaft.png\">"
     ]
    },
    {
     "cell_type": "markdown",
     "metadata": {},
     "source": [
      "Toroidal Space:\n",
      "\n",
      "- we identify the left/right and top/bottom edges of the image\n",
      "- this gives us a space that's the equivalent of a torus"
     ]
    },
    {
     "cell_type": "code",
     "collapsed": false,
     "input": [
      "def count_neighbors4(a):\n",
      "    \"\"\"Count the number of neighbors in a von Neumann neighborhood on a torus.\"\"\"\n",
      "    return roll(a,-1,0)+roll(a,1,0)+roll(a,-1,1)+roll(a,1,1)"
     ],
     "language": "python",
     "metadata": {},
     "outputs": [],
     "prompt_number": 117
    },
    {
     "cell_type": "code",
     "collapsed": false,
     "input": [
      "a = zeros((10,10),'i')\n",
      "a[4:7,4:7] = 1\n",
      "count_neighbors4(a)"
     ],
     "language": "python",
     "metadata": {},
     "outputs": [
      {
       "output_type": "pyout",
       "prompt_number": 119,
       "text": [
        "array([[0, 0, 0, 0, 0, 0, 0, 0, 0, 0],\n",
        "       [0, 0, 0, 0, 0, 0, 0, 0, 0, 0],\n",
        "       [0, 0, 0, 0, 0, 0, 0, 0, 0, 0],\n",
        "       [0, 0, 0, 0, 1, 1, 1, 0, 0, 0],\n",
        "       [0, 0, 0, 1, 2, 3, 2, 1, 0, 0],\n",
        "       [0, 0, 0, 1, 3, 4, 3, 1, 0, 0],\n",
        "       [0, 0, 0, 1, 2, 3, 2, 1, 0, 0],\n",
        "       [0, 0, 0, 0, 1, 1, 1, 0, 0, 0],\n",
        "       [0, 0, 0, 0, 0, 0, 0, 0, 0, 0],\n",
        "       [0, 0, 0, 0, 0, 0, 0, 0, 0, 0]], dtype=int32)"
       ]
      }
     ],
     "prompt_number": 119
    },
    {
     "cell_type": "markdown",
     "metadata": {},
     "source": [
      "Here is the update equation for a single time step:\n",
      "\n",
      "- count the number of neighbors\n",
      "- the output is the count mod 2\n",
      "\n"
     ]
    },
    {
     "cell_type": "code",
     "collapsed": false,
     "input": [
      "def parity_step(a):\n",
      "    return count_neighbors4(a)%2"
     ],
     "language": "python",
     "metadata": {},
     "outputs": [],
     "prompt_number": 112
    },
    {
     "cell_type": "code",
     "collapsed": false,
     "input": [
      "# animation helper function\n",
      "def animate(sequence,t=0.1,steps=100,every=1,cmap=cm.gray):\n",
      "    gray()\n",
      "    f, ax = plt.subplots()\n",
      "    for i,a in enumerate(sequence):\n",
      "      if i>=steps: break\n",
      "      if i%every!=0: continue\n",
      "      ax.imshow(a,interpolation='nearest',cmap=cmap)\n",
      "      ax.set_title(\"step %d\"%i)\n",
      "      time.sleep(t)\n",
      "      clear_output()\n",
      "      display(f)\n",
      "      ax.cla()\n",
      "    plt.close()\n",
      "def recur(a,f,n=1000000):\n",
      "    for i in range(n):\n",
      "        yield a\n",
      "        a = f(a)"
     ],
     "language": "python",
     "metadata": {},
     "outputs": [],
     "prompt_number": 120
    },
    {
     "cell_type": "code",
     "collapsed": false,
     "input": [
      "a = zeros((100,100),'i')\n",
      "a[49:52,49:52] = 1\n",
      "animate(recur(a,parity_step),steps=50)"
     ],
     "language": "python",
     "metadata": {},
     "outputs": [
      {
       "output_type": "display_data",
       "png": "[encoded data removed]",
       "text": [
        "<matplotlib.figure.Figure at 0x8b133d0>"
       ]
      }
     ],
     "prompt_number": 116
    },
    {
     "cell_type": "code",
     "collapsed": false,
     "input": [
      "a = (rand(100,100)>0.9)\n",
      "animate(recur(a,parity_step))"
     ],
     "language": "python",
     "metadata": {},
     "outputs": [
      {
       "output_type": "display_data",
       "png": "[encoded data removed]",
       "text": [
        "<matplotlib.figure.Figure at 0x97aea90>"
       ]
      }
     ],
     "prompt_number": 114
    },
    {
     "cell_type": "heading",
     "level": 1,
     "metadata": {},
     "source": [
      "Conway's Game of Life"
     ]
    },
    {
     "cell_type": "markdown",
     "metadata": {},
     "source": [
      "Simple 2D cellular automaton:\n",
      "\n",
      "Mimics simple ecological model:\n",
      "\n",
      "- Any live cell with fewer than two live neighbours dies, as if caused by under-population.\n",
      "- Any live cell with two or three live neighbours lives on to the next generation.\n",
      "- Any live cell with more than three live neighbours dies, as if by overcrowding.\n",
      "- Any dead cell with exactly three live neighbours becomes a live cell, as if by reproduction."
     ]
    },
    {
     "cell_type": "markdown",
     "metadata": {},
     "source": [
      "Motivation:\n",
      "\n",
      "von Neumann: \n",
      "\n",
      "Can we build a machine that is self-replicating?\n",
      "\n",
      "Conway:\n",
      "\n",
      "Let's simplify this to one of the simplest kind of machine.\n"
     ]
    },
    {
     "cell_type": "markdown",
     "metadata": {},
     "source": [
      "Important results:\n",
      "\n",
      "- First widely studied cellular automaton.\n",
      "- Proven to be Turing universal (can implement Turing machine directly).\n",
      "- Implements self-replication.\n",
      "- Complex patterns can emerge from chance starting configurations."
     ]
    },
    {
     "cell_type": "markdown",
     "metadata": {},
     "source": [
      "Moore neighborhood:\n",
      "\n",
      "<img src=\"http://upload.wikimedia.org/wikipedia/en/4/41/Moore_d.gif\">"
     ]
    },
    {
     "cell_type": "code",
     "collapsed": false,
     "input": [
      "def count_neighbors(a):\n",
      "    \"\"\"Count the number of neighbors in a Moore neighborhood.\"\"\"\n",
      "    neighbors = zeros(a.shape,'i')\n",
      "    for i in range(-1,2):\n",
      "        for j in range(-1,2):\n",
      "            if i==0 and j==0: continue\n",
      "            neighbors += (roll(roll(a,i,0),j,1)!=0)\n",
      "    return neighbors"
     ],
     "language": "python",
     "metadata": {},
     "outputs": [],
     "prompt_number": 66
    },
    {
     "cell_type": "code",
     "collapsed": false,
     "input": [
      "a = zeros((6,6),'i')\n",
      "a[2,2] = 1\n",
      "a[2,3] = 1\n",
      "a[3,2] = 1\n",
      "a[4,4] = 1\n",
      "a[5,5] = 1\n",
      "count_neighbors(a)"
     ],
     "language": "python",
     "metadata": {},
     "outputs": [
      {
       "output_type": "pyout",
       "prompt_number": 67,
       "text": [
        "array([[1, 0, 0, 0, 1, 1],\n",
        "       [0, 1, 2, 2, 1, 0],\n",
        "       [0, 2, 2, 2, 1, 0],\n",
        "       [0, 2, 2, 4, 2, 1],\n",
        "       [1, 1, 1, 2, 1, 2],\n",
        "       [1, 0, 0, 1, 2, 1]], dtype=int32)"
       ]
      }
     ],
     "prompt_number": 67
    },
    {
     "cell_type": "code",
     "collapsed": false,
     "input": [
      "def AND(a,b): return minimum(a,b)\n",
      "def OR(a,b): return maximum(a,b)"
     ],
     "language": "python",
     "metadata": {},
     "outputs": [],
     "prompt_number": 68
    },
    {
     "cell_type": "code",
     "collapsed": false,
     "input": [
      "def life_step(a):\n",
      "    n = count_neighbors(a)\n",
      "    return OR(AND(AND(n>=2,n<=3),a),n==3)"
     ],
     "language": "python",
     "metadata": {},
     "outputs": [],
     "prompt_number": 69
    },
    {
     "cell_type": "code",
     "collapsed": false,
     "input": [
      "a = (rand(100,100)>0.9)\n",
      "animate(recur(a,life_step))"
     ],
     "language": "python",
     "metadata": {},
     "outputs": [
      {
       "output_type": "display_data",
       "png": "[encoded data removed]",
       "text": [
        "<matplotlib.figure.Figure at 0x5cc5a10>"
       ]
      }
     ],
     "prompt_number": 70
    },
    {
     "cell_type": "markdown",
     "metadata": {},
     "source": [
      "Game of Life - Glider Gun:\n",
      "\n",
      "http://www.youtube.com/watch?v=GrIO5RJ76D0"
     ]
    },
    {
     "cell_type": "markdown",
     "metadata": {},
     "source": [
      "Game of Life - Turing Machine:\n",
      "\n",
      "http://www.youtube.com/watch?v=My8AsV7bA94"
     ]
    },
    {
     "cell_type": "markdown",
     "metadata": {},
     "source": [
      "Game of Life - In Game of Life:\n",
      "\n",
      "http://www.youtube.com/watch?v=xP5-iIeKXE8"
     ]
    },
    {
     "cell_type": "heading",
     "level": 1,
     "metadata": {},
     "source": [
      "Gossip Model"
     ]
    },
    {
     "cell_type": "markdown",
     "metadata": {},
     "source": [
      "Gossip Model:\n",
      "\n",
      "The gossip model is a pretty common model used in the social sciences and epidemiology. \n",
      "\n",
      "- individuals know a secret\n",
      "- secrets can be told to \"neighbors\" with some probability\n",
      "- in a cellular automaton, the neighbors are given by the grid structure"
     ]
    },
    {
     "cell_type": "code",
     "collapsed": false,
     "input": [
      "def gossip(a,p=0.2):\n",
      "    result = roll(a,-1,0) * (rand(*a.shape)<p)\n",
      "    result += roll(a,1,0) * (rand(*a.shape)<p)\n",
      "    result += roll(a,-1,1) * (rand(*a.shape)<p)\n",
      "    result += roll(a,1,1) * (rand(*a.shape)<p)\n",
      "    return maximum(a,minimum(result,1))"
     ],
     "language": "python",
     "metadata": {},
     "outputs": [],
     "prompt_number": 71
    },
    {
     "cell_type": "code",
     "collapsed": false,
     "input": [
      "a = zeros((100,100),'i')\n",
      "a[50,50] = 1\n",
      "animate(recur(a,gossip))"
     ],
     "language": "python",
     "metadata": {},
     "outputs": [
      {
       "output_type": "display_data",
       "png": "[encoded data removed]",
       "text": [
        "<matplotlib.figure.Figure at 0x6075110>"
       ]
      }
     ],
     "prompt_number": 72
    },
    {
     "cell_type": "code",
     "collapsed": false,
     "input": [
      "a = zeros((100,100),'i')\n",
      "a[50,50] = 1\n",
      "animate(recur(a,lambda a:gossip(a,p=0.5)))"
     ],
     "language": "python",
     "metadata": {},
     "outputs": [
      {
       "output_type": "display_data",
       "png": "[encoded data removed]",
       "text": [
        "<matplotlib.figure.Figure at 0x605f4d0>"
       ]
      }
     ],
     "prompt_number": 73
    },
    {
     "cell_type": "code",
     "collapsed": false,
     "input": [
      "a = zeros((100,100),'i')\n",
      "a[50,50] = 1\n",
      "animate(recur(a,lambda a:gossip(a,p=0.01)),steps=3000,every=100)"
     ],
     "language": "python",
     "metadata": {},
     "outputs": [
      {
       "output_type": "display_data",
       "png": "[encoded data removed]",
       "text": [
        "<matplotlib.figure.Figure at 0x7080cd0>"
       ]
      }
     ],
     "prompt_number": 74
    },
    {
     "cell_type": "code",
     "collapsed": false,
     "input": [
      "def gossip(a,p=0.2,fp=0.05):\n",
      "    result = roll(a,-1,0) * (rand(*a.shape)<p)\n",
      "    result += roll(a,1,0) * (rand(*a.shape)<p)\n",
      "    result += roll(a,-1,1) * (rand(*a.shape)<p)\n",
      "    result += roll(a,1,1) * (rand(*a.shape)<p)\n",
      "    forget = rand(*a.shape)<fp\n",
      "    return where(forget,0,maximum(a,minimum(result,1)))"
     ],
     "language": "python",
     "metadata": {},
     "outputs": [],
     "prompt_number": 75
    },
    {
     "cell_type": "code",
     "collapsed": false,
     "input": [
      "a = zeros((100,100),'i')\n",
      "a[50,50] = 1\n",
      "animate(recur(a,gossip),steps=200,every=10)"
     ],
     "language": "python",
     "metadata": {},
     "outputs": [
      {
       "output_type": "display_data",
       "png": "[encoded data removed]",
       "text": [
        "<matplotlib.figure.Figure at 0x6062ed0>"
       ]
      }
     ],
     "prompt_number": 76
    },
    {
     "cell_type": "markdown",
     "metadata": {},
     "source": [
      "What can we learn?\n",
      "\n",
      "- real people don't live on grids and don't communicate only with neighbors\n",
      "- real people also don't behave like differential equations (because interactions are discrete)\n",
      "- qualitative results only\n",
      "- still interesting qualitative questions"
     ]
    },
    {
     "cell_type": "markdown",
     "metadata": {},
     "source": [
      "Qualitative questions (examples):\n",
      "\n",
      "- Are there thresholds for spreading / forgetting?\n",
      "- How do multiple spreading secrets interact?\n",
      "- Can we build firewalls that protect against low probability secrets spreading but still let high probability secrets spread?\n",
      "- How do different topologies affect the spread?"
     ]
    },
    {
     "cell_type": "heading",
     "level": 1,
     "metadata": {},
     "source": [
      "Alternatives to Gossip Model"
     ]
    },
    {
     "cell_type": "code",
     "collapsed": false,
     "input": [
      "# relaxation\n",
      "a = zeros((100,100))\n",
      "a[50,50] = 1.0\n",
      "def step(a):\n",
      "    b = 0.6*a+0.1*roll(a,-1,0)+0.1*roll(a,1,0)+0.1*roll(a,-1,1)+0.1*roll(a,1,1)\n",
      "    return b\n",
      "a = animate(recur(a,step),steps=2000,every=100)"
     ],
     "language": "python",
     "metadata": {},
     "outputs": [
      {
       "output_type": "display_data",
       "png": "[encoded data removed]",
       "text": [
        "<matplotlib.figure.Figure at 0x95a6850>"
       ]
      }
     ],
     "prompt_number": 77
    },
    {
     "cell_type": "code",
     "collapsed": false,
     "input": [
      "# diffusion\n",
      "particles = ones((10000,2))*50\n",
      "r = 100\n",
      "def render():\n",
      "    global particles,r\n",
      "    a = zeros((r,r))\n",
      "    p = array(particles,'i')\n",
      "    for x,y in particles:\n",
      "        a[x%r,y%r] += 1\n",
      "    return a\n",
      "def random_walks(n=1000):\n",
      "    global particles\n",
      "    for i in range(n):\n",
      "        yield render()\n",
      "        particles += randn(*particles.shape)\n",
      "animate(random_walks(),steps=200,every=10)"
     ],
     "language": "python",
     "metadata": {},
     "outputs": [
      {
       "output_type": "display_data",
       "png": "[encoded data removed]",
       "text": [
        "<matplotlib.figure.Figure at 0x6054150>"
       ]
      }
     ],
     "prompt_number": 78
    },
    {
     "cell_type": "markdown",
     "metadata": {},
     "source": [
      "Heat Equation:\n",
      "\n",
      "$$ \\frac{\\partial u}{\\partial t} = \\alpha \\nabla^2 u $$\n",
      "\n",
      "<img src='http://upload.wikimedia.org/wikipedia/commons/a/a9/Heat_eqn.gif'>"
     ]
    },
    {
     "cell_type": "heading",
     "level": 1,
     "metadata": {},
     "source": [
      "Greenberg-Hastings Model"
     ]
    },
    {
     "cell_type": "markdown",
     "metadata": {},
     "source": [
      "Belousov\u2013Zhabotinsky reaction:\n",
      "\n",
      "- General model of \"excitable media\".\n",
      "- Similar to action potential in neurons.\n",
      "- Nonlinear chemical oscillator.\n",
      "- Can be implemented with simple chemical components.\n",
      "\n",
      "http://www.youtube.com/watch?v=3JAqrRnKFHo"
     ]
    },
    {
     "cell_type": "markdown",
     "metadata": {},
     "source": [
      "Belousov\u2013Zhabotinsky reaction:\n",
      "\n",
      "Numerical simulation:\n",
      "\n",
      "<img src='http://upload.wikimedia.org/wikipedia/commons/thumb/d/d9/The_Belousov-Zhabotinsky_Reaction.gif/250px-The_Belousov-Zhabotinsky_Reaction.gif'>"
     ]
    },
    {
     "cell_type": "markdown",
     "metadata": {},
     "source": [
      "Reaction-Diffusion Models:\n",
      "\n",
      "- general class of mathematical models\n",
      "- important in pattern formation\n",
      "\n",
      "$$ \\partial_t \\boldsymbol{q} = \\boldsymbol{D} \\nabla^2 \\boldsymbol{q}\n",
      "+ \\boldsymbol{R}(\\boldsymbol{q}) $$"
     ]
    },
    {
     "cell_type": "code",
     "collapsed": false,
     "input": [
      "# CA version of reaction-diffusion model\n",
      "def step(a):\n",
      "    # 0=resting, -1=refractory, 1=excited\n",
      "    activate = count_neighbors4(a==1)\n",
      "    return where(AND(a==0,activate),1,\n",
      "              where(a==-1,0,\n",
      "                    where(a==1,-1,0)))\n",
      "    "
     ],
     "language": "python",
     "metadata": {},
     "outputs": [],
     "prompt_number": 102
    },
    {
     "cell_type": "code",
     "collapsed": false,
     "input": [
      "r = 30\n",
      "a = zeros((r,r),'i')\n",
      "a[r//2,r//2] = 1\n",
      "animate(recur(a,step),steps=30,cmap=cm.PuOr)"
     ],
     "language": "python",
     "metadata": {},
     "outputs": [
      {
       "output_type": "display_data",
       "png": "[encoded data removed]",
       "text": [
        "<matplotlib.figure.Figure at 0x979b390>"
       ]
      }
     ],
     "prompt_number": 125
    },
    {
     "cell_type": "code",
     "collapsed": false,
     "input": [
      "r = 100\n",
      "a = array(rand(r,r)>0.99,'i')\n",
      "animate(recur(a,step),steps=30,t=0.1,cmap=cm.PuOr)"
     ],
     "language": "python",
     "metadata": {},
     "outputs": [
      {
       "output_type": "display_data",
       "png": "[encoded data removed]",
       "text": [
        "<matplotlib.figure.Figure at 0x979b610>"
       ]
      }
     ],
     "prompt_number": 126
    },
    {
     "cell_type": "code",
     "collapsed": false,
     "input": [
      "r = 100\n",
      "a = zeros((r,r),'i')\n",
      "a[r//2,r//2:] = 1\n",
      "a[r//2-1,r//2:] = -1\n",
      "animate(recur(a,step),steps=30,cmap=cm.PuOr)"
     ],
     "language": "python",
     "metadata": {},
     "outputs": [
      {
       "output_type": "display_data",
       "png": "[encoded data removed]",
       "text": [
        "<matplotlib.figure.Figure at 0x9d22390>"
       ]
      }
     ],
     "prompt_number": 127
    },
    {
     "cell_type": "markdown",
     "metadata": {},
     "source": [
      "Observations:\n",
      "\n",
      "- the Greenberg-Hastings model can qualitatively reproduce reaction-diffusion effects\n",
      "- the GH model can be understood more easily qualitatively\n",
      "- quantitatively, we don't know which model is more \"like reality\""
     ]
    },
    {
     "cell_type": "heading",
     "level": 1,
     "metadata": {},
     "source": [
      "Majority Model"
     ]
    },
    {
     "cell_type": "markdown",
     "metadata": {},
     "source": [
      "Majority Model:\n",
      "\n",
      "- models conformance of people to their neighbors\n",
      "- model of the spread and acceptance of fashion, political opinions, etc.\n",
      "- simple rule: people adopt (wiht some probability) the fasions/opinions of the majority of neighbors"
     ]
    },
    {
     "cell_type": "code",
     "collapsed": false,
     "input": [
      "def majority(a):\n",
      "    n = count_neighbors(a)\n",
      "    return OR(n>=5,AND(n==4,a))"
     ],
     "language": "python",
     "metadata": {},
     "outputs": [],
     "prompt_number": 128
    },
    {
     "cell_type": "code",
     "collapsed": false,
     "input": [
      "a = (rand(100,100)>0.5)\n",
      "animate(recur(a,majority),steps=30)"
     ],
     "language": "python",
     "metadata": {},
     "outputs": [
      {
       "output_type": "display_data",
       "png": "[encoded data removed]",
       "text": [
        "<matplotlib.figure.Figure at 0x686a190>"
       ]
      }
     ],
     "prompt_number": 129
    },
    {
     "cell_type": "markdown",
     "metadata": {},
     "source": [
      "Note that patterns completely stabilize and become unchanging after a few steps:\n",
      "\n"
     ]
    },
    {
     "cell_type": "code",
     "collapsed": false,
     "input": [
      "animate(recur(a,majority),steps=10000,every=1000)"
     ],
     "language": "python",
     "metadata": {},
     "outputs": [
      {
       "output_type": "display_data",
       "png": "[encoded data removed]",
       "text": [
        "<matplotlib.figure.Figure at 0x9d17790>"
       ]
      }
     ],
     "prompt_number": 130
    },
    {
     "cell_type": "markdown",
     "metadata": {},
     "source": [
      "If we make the thresholds slightly random, we avoid this phenomenon:\n",
      "\n"
     ]
    },
    {
     "cell_type": "code",
     "collapsed": false,
     "input": [
      "def rmajority(a):\n",
      "    thresholds = array(4+2*rand(*a.shape),'i')\n",
      "    n = count_neighbors(a)\n",
      "    return (n>=thresholds)"
     ],
     "language": "python",
     "metadata": {},
     "outputs": [],
     "prompt_number": 133
    },
    {
     "cell_type": "markdown",
     "metadata": {},
     "source": [
      "Over time, we now obtain complete segregation of opinions:\n",
      "\n"
     ]
    },
    {
     "cell_type": "code",
     "collapsed": false,
     "input": [
      "a = (rand(100,100)>0.5)\n",
      "animate(recur(a,rmajority),steps=500,every=10)"
     ],
     "language": "python",
     "metadata": {},
     "outputs": [
      {
       "output_type": "display_data",
       "png": "[encoded data removed]",
       "text": [
        "<matplotlib.figure.Figure at 0x6bc1e50>"
       ]
      }
     ],
     "prompt_number": 134
    },
    {
     "cell_type": "markdown",
     "metadata": {},
     "source": [
      "Randomization:\n",
      "\n",
      "A small degree of randomization in interactions gives us behavior that is much more like that of a continuous system."
     ]
    },
    {
     "cell_type": "heading",
     "level": 1,
     "metadata": {},
     "source": [
      "Schelling's Model of Segregation"
     ]
    },
    {
     "cell_type": "markdown",
     "metadata": {},
     "source": [
      "Racism and Segregation:\n",
      "\n",
      "Observation:\n",
      "\n",
      "Racism causes segregation.\n",
      "\n",
      "Question:\n",
      "\n",
      "If we observe segregation, does it mean that there must be racism present?"
     ]
    },
    {
     "cell_type": "markdown",
     "metadata": {},
     "source": [
      "Racism and Segregation:\n",
      "\n",
      "Can we give examples of systems in which segregation occurs although racism isn't present?"
     ]
    },
    {
     "cell_type": "markdown",
     "metadata": {},
     "source": [
      "Schelling's model:\n",
      "\n",
      "- families of two races (-1=red, 1=blue) moving around\n",
      "- a migration model on a 2D grid"
     ]
    },
    {
     "cell_type": "markdown",
     "metadata": {},
     "source": [
      "Evolution of Schelling's model:\n",
      "\n",
      "- at each time step, pick a random family\n",
      "- if the number of neighbors of its own race is greater than some threshold, then it may want to mo\n",
      "ve\n",
      "- if there is a nearby cell where the threshold condition is satisfied, then the family moves"
     ]
    },
    {
     "cell_type": "code",
     "collapsed": false,
     "input": [
      "def init():\n",
      "    global r,n,a\n",
      "    r = 20\n",
      "    n = r*r\n",
      "    a = zeros(n,'i')\n",
      "    a[:n//3] = -1\n",
      "    a[n//3:2*n//3] = 1\n",
      "    shuffle(a)\n",
      "    a = a.reshape(r,r)\n",
      "init()\n",
      "imshow(a,cm.RdYlBu)"
     ],
     "language": "python",
     "metadata": {},
     "outputs": [
      {
       "output_type": "pyout",
       "prompt_number": 147,
       "text": [
        "<matplotlib.image.AxesImage at 0x9d1c3d0>"
       ]
      },
      {
       "output_type": "display_data",
       "png": "[encoded data removed]"
      }
     ],
     "prompt_number": 147
    },
    {
     "cell_type": "code",
     "collapsed": false,
     "input": [
      "def same_neighbors(color,x,y):\n",
      "    \"\"\"Count the number of neighbors in `a` at `x,y` with the given color\"\"\"\n",
      "    global a\n",
      "    total = 0\n",
      "    for i in range(-1,2):\n",
      "        for j in range(-1,2):\n",
      "            if i==0 and j==0: continue\n",
      "            if a[(x+i)%r,(y+j)%r]==color: total += 1\n",
      "    return total"
     ],
     "language": "python",
     "metadata": {},
     "outputs": [],
     "prompt_number": 148
    },
    {
     "cell_type": "code",
     "collapsed": false,
     "input": [
      "threshold = 3\n",
      "def content(color,x,y):\n",
      "    \"\"\"Determine whether a family of race `color` is content at `x,y`.\"\"\"\n",
      "    global threshold\n",
      "    return same_neighbors(color,x,y)>=threshold"
     ],
     "language": "python",
     "metadata": {},
     "outputs": [],
     "prompt_number": 149
    },
    {
     "cell_type": "code",
     "collapsed": false,
     "input": [
      "def step(a):\n",
      "    for i in range(n):\n",
      "        x = pyrand.randint(0,r-1)\n",
      "        y = pyrand.randint(0,r-1)\n",
      "        if content(a[x,y],x,y): continue\n",
      "        for j in range(20):\n",
      "            dx,dy = array(3.0*randn(2),'i')\n",
      "            nx,ny = (x+dx)%r,(y+dy)%r\n",
      "            if a[nx,ny]!=0: continue\n",
      "            if content(a[x,y],nx,ny):\n",
      "                a[nx,ny] = a[x,y]\n",
      "                a[x,y] = 0\n",
      "                return a\n",
      "    return a\n",
      "   "
     ],
     "language": "python",
     "metadata": {},
     "outputs": [],
     "prompt_number": 150
    },
    {
     "cell_type": "code",
     "collapsed": false,
     "input": [
      "init()\n",
      "imshow(a,cmap=cm.RdYlBu)"
     ],
     "language": "python",
     "metadata": {},
     "outputs": [
      {
       "output_type": "pyout",
       "prompt_number": 151,
       "text": [
        "<matplotlib.image.AxesImage at 0xa18fd10>"
       ]
      },
      {
       "output_type": "display_data",
       "png": "[encoded data removed]"
      }
     ],
     "prompt_number": 151
    },
    {
     "cell_type": "code",
     "collapsed": false,
     "input": [
      "animate(recur(a,step),steps=500,every=10,cmap=cm.RdYlBu)"
     ],
     "language": "python",
     "metadata": {},
     "outputs": [
      {
       "output_type": "display_data",
       "png": "[encoded data removed]",
       "text": [
        "<matplotlib.figure.Figure at 0x9d29c50>"
       ]
      }
     ],
     "prompt_number": 152
    },
    {
     "cell_type": "code",
     "collapsed": false,
     "input": [
      "init()\n",
      "threshold = 4\n",
      "animate(recur(a,step),steps=500,every=10,cmap=cm.RdYlBu)"
     ],
     "language": "python",
     "metadata": {},
     "outputs": [
      {
       "output_type": "display_data",
       "png": "[encoded data removed]",
       "text": [
        "<matplotlib.figure.Figure at 0x9f7cd10>"
       ]
      }
     ],
     "prompt_number": 153
    },
    {
     "cell_type": "code",
     "collapsed": false,
     "input": [],
     "language": "python",
     "metadata": {},
     "outputs": []
    }
   ],
   "metadata": {}
  }
 ]
}