{
 "metadata": {
  "name": "largerthanlife"
 },
 "nbformat": 3,
 "nbformat_minor": 0,
 "worksheets": [
  {
   "cells": [
    {
     "cell_type": "code",
     "collapsed": false,
     "input": [
      "from pylab import *\n",
      "from scipy.ndimage import filters\n",
      "import pygame\n",
      "from pygame import surfarray\n",
      "matplotlib.rc(\"image\",cmap=\"gray\")\n",
      "matplotlib.rc(\"image\",interpolation=\"nearest\")\n",
      "pygame.init()"
     ],
     "language": "python",
     "metadata": {},
     "outputs": [
      {
       "output_type": "pyout",
       "prompt_number": 1,
       "text": [
        "(6, 0)"
       ]
      }
     ],
     "prompt_number": 1
    },
    {
     "cell_type": "code",
     "collapsed": false,
     "input": [
      "def animate(update,init,n=20):\n",
      "    h,w = 600,800\n",
      "    screen = pygame.display.set_mode((w,h))\n",
      "    surface = pygame.Surface((w,h),depth=8)\n",
      "    s = surfarray.pixels2d(surface)\n",
      "    if init is not None: init(s)\n",
      "    else: s[:,:] = 0\n",
      "    del s\n",
      "    for i in range(n):\n",
      "        s = surfarray.pixels2d(surface)\n",
      "        update(s)\n",
      "        del s\n",
      "        screen.blit(surface,(0,0))\n",
      "        pygame.display.flip()\n",
      "    s = surfarray.pixels2d(surface)\n",
      "    result = s+0\n",
      "    del s\n",
      "    return result"
     ],
     "language": "python",
     "metadata": {},
     "outputs": [],
     "prompt_number": 14
    },
    {
     "cell_type": "code",
     "collapsed": false,
     "input": [
      "def random(p):\n",
      "    def f(s): s[:,:] = 255*(rand(*s.shape)<p)\n",
      "    return f\n",
      "animate(random(0.1))"
     ],
     "language": "python",
     "metadata": {},
     "outputs": [
      {
       "output_type": "pyout",
       "prompt_number": 3,
       "text": [
        "array([[  0,   0,   0, ...,   0,   0,   0],\n",
        "       [  0,   0,   0, ...,   0,   0,   0],\n",
        "       [  0,   0,   0, ...,   0,   0,   0],\n",
        "       ..., \n",
        "       [255,   0,   0, ...,   0,   0,   0],\n",
        "       [  0,   0,   0, ...,   0,   0, 255],\n",
        "       [  0,   0,   0, ...,   0,   0,   0]], dtype=uint8)"
       ]
      }
     ],
     "prompt_number": 3
    },
    {
     "cell_type": "code",
     "collapsed": false,
     "input": [
      "OR = maximum\n",
      "AND = minimum\n",
      "def update(s):\n",
      "    a = array(s!=0,'f')\n",
      "    n = 11*11*filters.uniform_filter(a,11,mode='wrap')\n",
      "    s[:,:] = 255*AND(n>=34,OR(n<=45,AND(n<=58,a)))"
     ],
     "language": "python",
     "metadata": {},
     "outputs": [],
     "prompt_number": 4
    },
    {
     "cell_type": "code",
     "collapsed": false,
     "input": [
      "animate(update,random(0.4),20000)"
     ],
     "language": "python",
     "metadata": {},
     "outputs": [
      {
       "output_type": "pyout",
       "prompt_number": 15,
       "text": [
        "array([[0, 0, 0, ..., 0, 0, 0],\n",
        "       [0, 0, 0, ..., 0, 0, 0],\n",
        "       [0, 0, 0, ..., 0, 0, 0],\n",
        "       ..., \n",
        "       [0, 0, 0, ..., 0, 0, 0],\n",
        "       [0, 0, 0, ..., 0, 0, 0],\n",
        "       [0, 0, 0, ..., 0, 0, 0]], dtype=uint8)"
       ]
      }
     ],
     "prompt_number": 15
    },
    {
     "cell_type": "code",
     "collapsed": false,
     "input": [],
     "language": "python",
     "metadata": {},
     "outputs": []
    }
   ],
   "metadata": {}
  }
 ]
}