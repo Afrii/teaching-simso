{
 "metadata": {
  "name": "110-tests-and-evaluations"
 },
 "nbformat": 3,
 "nbformat_minor": 0,
 "worksheets": [
  {
   "cells": [
    {
     "cell_type": "markdown",
     "metadata": {},
     "source": [
      "Title: Testing and Evaluation\n",
      "Author: Thomas Breuel\n",
      "Institution: UniKL"
     ]
    },
    {
     "cell_type": "code",
     "collapsed": false,
     "input": [
      "\n",
      "from pylab import *"
     ],
     "language": "python",
     "metadata": {},
     "outputs": [],
     "prompt_number": 45
    },
    {
     "cell_type": "heading",
     "level": 1,
     "metadata": {},
     "source": [
      "Statistical Testing"
     ]
    },
    {
     "cell_type": "markdown",
     "metadata": {},
     "source": [
      "In many areas of science and engineering, we are trying to answer questions like:\n",
      "\n",
      "- Does a medical treatment have an effect?\n",
      "- Is one population more susceptible to a disease than another population?\n",
      "- Has something changed that causes people to get sicker?\n",
      "- Is my new algorithm/method better than the old one?"
     ]
    },
    {
     "cell_type": "markdown",
     "metadata": {},
     "source": [
      "Examples:\n",
      "\n",
      "- Do sugary soft drinks cause obesity?\n",
      "- Does a low-carb diet reduce obesity?\n",
      "- Does living near a nuclear power plant cause cancer?\n",
      "- Is gun control effective in reducing gun violence?\n",
      "- Do health care subsidies lead to better health outcomes?\n",
      "- Do school districts that spend more on education do better than the rest?"
     ]
    },
    {
     "cell_type": "markdown",
     "metadata": {},
     "source": [
      "Usually, there are two questions / steps:\n",
      "\n",
      "*Correlation* Does a change / difference in a controlled variable correlate with a change / difference in an observable?\n",
      "\n",
      "*Causation* Is the change in the controlled variable the _cause_ of the change in the observable?"
     ]
    },
    {
     "cell_type": "markdown",
     "metadata": {},
     "source": [
      "Causation:\n",
      "\n",
      "What does causation mean? It's different from correlation.\n",
      "\n",
      "Causality is related to intervention. Variable $X$ causes variable $Y$ if intervening to change/fix only variable $X$ (keeping everything else constant) correlates with a change in variable $Y$."
     ]
    },
    {
     "cell_type": "markdown",
     "metadata": {},
     "source": [
      "Causal calculus:\n",
      "\n",
      "conditional probabilities: $P(\\hbox{cancer}|\\hbox{smoke})$\n",
      "\n",
      "interventional probabilities: $P(\\hbox{cancer}|\\hbox{do}(\\hbox{smoke}))$\n",
      "\n",
      "Under some circumstances, we can infer interventional probabilities from conditional probabilities."
     ]
    },
    {
     "cell_type": "markdown",
     "metadata": {},
     "source": [
      "Remember:\n",
      "\n",
      "Causality is complicated. Just remember that establishing an effect is not sufficient for establishing causation.\n",
      "\n",
      "Here, we are concerned with establishing the presence of an effect."
     ]
    },
    {
     "cell_type": "heading",
     "level": 1,
     "metadata": {},
     "source": [
      "Binomial Distributions"
     ]
    },
    {
     "cell_type": "markdown",
     "metadata": {},
     "source": [
      "Assume we want to find out who the next president is going to become.\n",
      "\n",
      "There is a large population of voters, a fraction of $p$ voting for Obama, a fraction of $1-p$ voting for Romney.\n",
      "\n",
      "From this population, we take a subsample of $N=1000$ voters.\n",
      "\n",
      "Let's say $p=0.51$."
     ]
    },
    {
     "cell_type": "markdown",
     "metadata": {},
     "source": [
      "Sampling Error:\n",
      "\n",
      "Different polls get different results simply due to the fact that we are taking a finite, random sample from a large population.\n",
      "\n",
      "This variation is referred to as the _sampling error_."
     ]
    },
    {
     "cell_type": "markdown",
     "metadata": {},
     "source": [
      "A thousand polls:\n",
      "\n",
      "Let's perform a thousand polls with $p=0.51$.\n",
      "\n"
     ]
    },
    {
     "cell_type": "code",
     "collapsed": false,
     "input": [
      "p = 0.51\n",
      "polls = array([sum(rand(1000)<p) for i in range(1000)])"
     ],
     "language": "python",
     "metadata": {},
     "outputs": [],
     "prompt_number": 46
    },
    {
     "cell_type": "code",
     "collapsed": false,
     "input": [
      "# poll results\n",
      "_=hist(polls,bins=40)"
     ],
     "language": "python",
     "metadata": {},
     "outputs": [
      {
       "output_type": "display_data",
       "png": "[encoded data removed]"
      }
     ],
     "prompt_number": 47
    },
    {
     "cell_type": "markdown",
     "metadata": {},
     "source": [
      "Each poll gives us an empirical estimate $\\hat{p}$ of the probability $p$.\n",
      "\n",
      "If $\\hat{p} \\le 0.5$, we erroneously conclude that Obama loses, even though his actual $p\\ge 0.5$.\n",
      "\n",
      "The probability of making an incorrect decision is therefore:\n",
      "\n"
     ]
    },
    {
     "cell_type": "code",
     "collapsed": false,
     "input": [
      "sum(polls/1000.0<0.5)*1.0/len(polls)"
     ],
     "language": "python",
     "metadata": {},
     "outputs": [
      {
       "output_type": "pyout",
       "prompt_number": 48,
       "text": [
        "0.218"
       ]
      }
     ],
     "prompt_number": 48
    },
    {
     "cell_type": "markdown",
     "metadata": {},
     "source": [
      "This is a simulation-based estimate of the probability of error in our decision.\n",
      "\n",
      "We can also make a frequentist and a Bayesian estimate."
     ]
    },
    {
     "cell_type": "markdown",
     "metadata": {},
     "source": [
      "Bayesian estimate:\n",
      "\n",
      "Let $n$ be the actual count of respondents. $\\hat{p} = n/N$.\n",
      "\n",
      "$$P(n|p) \\sim B(N,p)$$\n",
      "\n",
      "We are interested in the opposite question and can apply Bayes rule:\n",
      "\n",
      "$$p(p|n) = \\frac{P(n|p) p(p)}{P(n)}$$\n",
      "\n",
      "This distribution is known as the Beta distribution:\n",
      "\n",
      "$$p(p|n) = \\hbox{Beta}(p;n,N-n)$$"
     ]
    },
    {
     "cell_type": "code",
     "collapsed": false,
     "input": [
      "# distribution of p given n=510\n",
      "from scipy.stats import beta\n",
      "ps = linspace(0.45,0.55,100)\n",
      "N = 1000; k = 510\n",
      "bs = beta.pdf(ps,k+1,N-k+1)\n",
      "plot(ps,bs)"
     ],
     "language": "python",
     "metadata": {},
     "outputs": [
      {
       "output_type": "pyout",
       "prompt_number": 49,
       "text": [
        "[<matplotlib.lines.Line2D at 0x3fb1d90>]"
       ]
      },
      {
       "output_type": "display_data",
       "png": "[encoded data removed]"
      }
     ],
     "prompt_number": 49
    },
    {
     "cell_type": "markdown",
     "metadata": {},
     "source": [
      "Note that this is different from the original histogram:\n",
      "\n",
      "- repeat experiment many times with $p=0.51$\n",
      "- given some unknown $p$, measure $n=510$; what is the distribution of $p$?\n",
      "\n",
      "Note that we also assume a uniform prior."
     ]
    },
    {
     "cell_type": "markdown",
     "metadata": {},
     "source": [
      "Assuming we measure $n=510$, what is the probability that $p \\ge 0.5$, i.e. that Obama wins?\n",
      "\n"
     ]
    },
    {
     "cell_type": "code",
     "collapsed": false,
     "input": [
      "N = 1000; k = 510\n",
      "1-beta.cdf(0.50,k+1,N-k+1)"
     ],
     "language": "python",
     "metadata": {},
     "outputs": [
      {
       "output_type": "pyout",
       "prompt_number": 50,
       "text": [
        "0.73634180286281503"
       ]
      }
     ],
     "prompt_number": 50
    },
    {
     "cell_type": "markdown",
     "metadata": {},
     "source": [
      "Statistical Hypothesis Testing:\n",
      "\n",
      "- formulate the research hypothesis\n",
      "- state the null hypothesis (alternative)\n",
      "- compute some function of the measured data, the test statistic\n",
      "- derive the distribution of the test statistic under the null hypothesis\n",
      "- select a significance level (e.g., 5\\%)\n",
      "- reject the null hypothesis if the test statistic has a less than 5\\% probability of assuming its value under the test statistic"
     ]
    },
    {
     "cell_type": "markdown",
     "metadata": {},
     "source": [
      "Statistical Hypothesis Testing:\n",
      "\n",
      "- Obama wins, $p \\ge 0.5$ (hypothesis)\n",
      "- best case loss, $p = 0.5$ (null hypothesis)\n",
      "- measure $n$ (test statistic, same as for Bayesian in this case)\n",
      "- $n \\sim B(p,N)$ (distribution of the test statistic under the null hypothesis)\n",
      "- significance level of 5\\%"
     ]
    },
    {
     "cell_type": "markdown",
     "metadata": {},
     "source": [
      "Simple Statistical Hypothesis Test\n",
      "\n",
      "If we do this test, note that we use the binomial distribution. We get a result similar to the Bayesian test, but it gives us a significance level (in this case, too low).\n",
      "\n"
     ]
    },
    {
     "cell_type": "code",
     "collapsed": false,
     "input": [
      "from scipy.stats import binom\n",
      "print binom.cdf(510,1000,0.5)\n",
      "print 1-binom.sf(510,1000,0.5)"
     ],
     "language": "python",
     "metadata": {},
     "outputs": [
      {
       "output_type": "stream",
       "stream": "stdout",
       "text": [
        "0.746669978687\n",
        "0.746669978687\n"
       ]
      }
     ],
     "prompt_number": 51
    },
    {
     "cell_type": "markdown",
     "metadata": {},
     "source": [
      "Bayesian vs Frequentist Statements:\n",
      "\n",
      "**Bayesian** Assuming a uniform prior on $p$, the probability that Obama wins is 73.6\\% given that 510 out of 1000 respondents answered they would vote for him.\n",
      "\n",
      "**Frequentist** Given that 510 out of 1000 respondents answered that they would vote for him, we cannot conclude at the 5\\% significance level that he will win."
     ]
    },
    {
     "cell_type": "markdown",
     "metadata": {},
     "source": [
      "Statistical Hypothesis Testing:\n",
      "\n",
      "- the test statistic need not be a complete description of the data\n",
      "- the significance level is not a probability\n",
      "- a significant result strongly suggest an effect\n",
      "- lack of significance tells you nothing\n",
      "\n",
      "A statistical significance test is not a Bayesian probability estimate."
     ]
    },
    {
     "cell_type": "markdown",
     "metadata": {},
     "source": [
      "Confidence Intervals:\n",
      "\n",
      "Often, frequentists talk about _confidence intervals_.\n",
      "\n",
      "These are ranges of a measurement such that the actual value is with high probability (e.g., 95\\%) within that range given the actual measurement.\n",
      "\n",
      "For the Binomial distribution, a confidence interval based on the normal distribution is given by:\n",
      "\n",
      "$$ p \\pm Z_c \\sqrt{\\frac{p(1-p)}{n}} $$\n",
      "\n",
      "Here, $Z_c$ is the confidence interval for the normal density; $Z_c \\approx 2$ for a 95\\% confidence interval.\n"
     ]
    },
    {
     "cell_type": "markdown",
     "metadata": {},
     "source": [
      "If we calculate the confidence interval, we see that $p=0.5$ is contained in the confidence interval, therefore we cannot conclude with sufficient confidence which candidate is going to win:\n",
      "\n",
      "$$ \\hat{p} = 0.51 \\pm 2 \\sqrt{\\frac{0.51(1-0.51)}{1000}} = 0.51 \\pm 0.16$$\n",
      "\n",
      "$$ \\hat{p} \\in [0.494,0.526] \\hbox{  with probability 95\\%}$$"
     ]
    },
    {
     "cell_type": "markdown",
     "metadata": {},
     "source": [
      "Importance for Simulations, Machine Learning, Computer Science:\n",
      "\n",
      "Many experiments in computer science are of the form:\n",
      "\n",
      "Measure success/failure for a method on a set of inputs.\n",
      "\n",
      "- What's the actual rate of success/failure?\n",
      "- What's the probability that the actual failure rate is higher than some $p$?"
     ]
    },
    {
     "cell_type": "markdown",
     "metadata": {},
     "source": [
      "More binomial testing:\n",
      "\n",
      "Many more experiments are of the form:\n",
      "\n",
      "Measure success/failure for Method A vs Method B on a set of inputs.\n",
      "\n",
      "How is this different?\n",
      "\n",
      "- The hypothesis is $p_A \\gt p_B$ vs $p_A = p_B$.\n",
      "- Input samples are the same, so the performance of the methods may be correlated.\n",
      "- NB: the latter is usually not true in medical tests or biology; why?\n",
      "\n",
      "Tests:\n",
      "\n",
      "- unpaired tests (random samples, different methods)\n",
      "- paired tests (similar samples, different methods)\n",
      "- repeated measures tests (same sample, different methods)"
     ]
    },
    {
     "cell_type": "heading",
     "level": 1,
     "metadata": {},
     "source": [
      "Normal Distributions"
     ]
    },
    {
     "cell_type": "markdown",
     "metadata": {},
     "source": [
      "Frequently, we measure some continuous variable depending on conditions:\n",
      "\n",
      "- height vs vegetarianism\n",
      "- body fat percentage vs low carb diet\n",
      "- IQ vs eyewear"
     ]
    },
    {
     "cell_type": "markdown",
     "metadata": {},
     "source": [
      "Assumptions:\n",
      "\n",
      "- each dependent variable is normally distributed\n",
      "- the variances of both the treated and untreated conditions are approximately the same\n",
      "- we don't know either means or variances\n",
      "\n",
      "Then, we are asking the question:\n",
      "\n",
      "Given samples from ${\\cal N}(\\mu_1,\\sigma)$ and ${\\cal N}(\\mu_2,\\sigma)$:\n",
      "\n",
      "- hypothesis: $\\mu_1 \\neq \\mu_2$\n",
      "- null hypothesis: $\\mu_1 = \\mu_2$"
     ]
    },
    {
     "cell_type": "markdown",
     "metadata": {},
     "source": [
      "one sample t-test:\n",
      "\n",
      "We don't know $\\sigma$, so we need to estimate it as well.\n",
      "\n",
      "This gives rise to the $t$-statistic. In the simplest case, we test whether the empirical mean $\\hat{\\mu}$ is the same as some given number $\\mu_0$:\n",
      "\n",
      "$$ t = \\frac{\\hat{\\mu} - \\mu_0}{\\hat{\\sigma} / \\sqrt{n}} $$\n",
      "\n",
      "Here, $\\hat{\\sigma}$ is the sample standard distribution.\n",
      "\n",
      "Note that if the samples are normally distributed, $\\hat{\\sigma}^2$ is $\\chi$-squared distributed."
     ]
    },
    {
     "cell_type": "markdown",
     "metadata": {},
     "source": [
      "two-sample t-tests:\n",
      "\n",
      "There are many different two-sample $t$-test, depending on whether the sample sizes and variances are the same or different, and whether measurements are dependent or not.\n",
      "\n",
      "Generally:\n",
      "\n",
      "$$ t = \\frac{\\hat{\\mu_1}-\\hat{\\mu}_2}{s (n_1^{-1}+n_2^{-1})^{1/2}} $$\n",
      "\n",
      "$$ s = \\sqrt{\\frac{(n_1 - 1)\\hat{\\sigma}_1^2+(n_2-1)\\hat{\\sigma}_2^2}{n_1+n_2-2}} $$"
     ]
    },
    {
     "cell_type": "code",
     "collapsed": false,
     "input": [
      "n = 100\n",
      "s1 = randn(n)\n",
      "s2 = randn(n)+0.1\n",
      "print mean(s1),mean(s2)"
     ],
     "language": "python",
     "metadata": {},
     "outputs": [
      {
       "output_type": "stream",
       "stream": "stdout",
       "text": [
        "-0.171941806685 0.219090745372\n"
       ]
      }
     ],
     "prompt_number": 52
    },
    {
     "cell_type": "markdown",
     "metadata": {},
     "source": [
      "We can carry out a t-test using a library function in scipy:\n",
      "\n"
     ]
    },
    {
     "cell_type": "code",
     "collapsed": false,
     "input": [
      "from scipy.stats.mstats import ttest_ind\n",
      "ttest_ind(s1,s2)"
     ],
     "language": "python",
     "metadata": {},
     "outputs": [
      {
       "output_type": "pyout",
       "prompt_number": 53,
       "text": [
        "(array(-2.815419054455246),\n",
        " masked_array(data = 0.00536383874336,\n",
        "             mask = False,\n",
        "       fill_value = 1e+20)\n",
        ")"
       ]
      }
     ],
     "prompt_number": 53
    },
    {
     "cell_type": "markdown",
     "metadata": {},
     "source": [
      "Let's calculate everything by hand:\n",
      "\n"
     ]
    },
    {
     "cell_type": "code",
     "collapsed": false,
     "input": [
      "s = (((n-1)*var(s1)+(n-1)*var(s2))/(n+n-2))**.5\n",
      "t = (abs(mean(s1)-mean(s2)))/(s*(n**-1+n**-1)**.5)\n",
      "print \"s =\",s\n",
      "print \"t =\",t"
     ],
     "language": "python",
     "metadata": {},
     "outputs": [
      {
       "output_type": "stream",
       "stream": "stdout",
       "text": [
        "s = 0.977175267323\n",
        "t = 2.82960261553\n"
       ]
      }
     ],
     "prompt_number": 54
    },
    {
     "cell_type": "markdown",
     "metadata": {},
     "source": [
      "For a two-sided $t$-test, we need to add the two tails of the $t$ distribution together to get the final $p$-value:\n",
      "\n"
     ]
    },
    {
     "cell_type": "code",
     "collapsed": false,
     "input": [
      "from scipy.stats import t as tdist\n",
      "tdist.cdf(-t,2*n)+tdist.sf(t,2*n)"
     ],
     "language": "python",
     "metadata": {},
     "outputs": [
      {
       "output_type": "pyout",
       "prompt_number": 55,
       "text": [
        "0.0051357674725795513"
       ]
      }
     ],
     "prompt_number": 55
    },
    {
     "cell_type": "markdown",
     "metadata": {},
     "source": [
      "paired samples:\n",
      "\n",
      "The test for paired samples is actually particularly simple, since you just take a one-sample test of the differences of the paired results:\n",
      "\n",
      "$$ t = \\frac{\\hat{\\mu}_\\Delta}{\\hat{\\sigma}\\cdot n^{-1/2}} $$"
     ]
    },
    {
     "cell_type": "markdown",
     "metadata": {},
     "source": [
      "performing a t-test:\n",
      "\n",
      "- calculate the sample means and variances\n",
      "- compute the $t$ statistic\n",
      "- determine the significance level ($p$-value) from a table or calculator\n",
      "\n",
      "Also:\n",
      "\n",
      "- determine whether the variances are likely the same\n",
      "- verify that the distributions are approximately normal\n",
      "   - normal rank plot\n",
      "   - Kolmogorov-Smirnov test"
     ]
    },
    {
     "cell_type": "markdown",
     "metadata": {},
     "source": [
      "Bayesian view:\n",
      "\n",
      "- compute $p(\\mu_1|\\hbox{data})$ and $p(\\mu_2|\\hbox{data})$\n",
      "- compute $p(|\\mu_1-\\mu_2| > \\epsilon)$\n",
      "\n",
      "Note:\n",
      "\n",
      "- in a Bayesian framework, we must assume a prior\n",
      "- (frequentist tests actually do the same thing, implicitly)\n",
      "- it doesn't make sense to test for \"equality\", but we need to specify an effect size\n",
      "- (frequentist test implicitly pick different $\\epsilon$ for different $N$)"
     ]
    },
    {
     "cell_type": "heading",
     "level": 1,
     "metadata": {},
     "source": [
      "Non-Parametric Tests"
     ]
    },
    {
     "cell_type": "markdown",
     "metadata": {},
     "source": [
      "All the tests discussed so far assume a particular kind of distribution. \n",
      "\n",
      "What happens if we don't know the distribution?\n",
      "\n",
      "We can use a non-parametric test."
     ]
    },
    {
     "cell_type": "markdown",
     "metadata": {},
     "source": [
      "Mann-Whitney U Test:\n",
      "\n",
      "Determines whether two arbitrary distributions have the same median.\n",
      "\n",
      "Procedure:\n",
      "\n",
      "- for each sample in population 1, count the number of samples in population 2 that are smaller than it\n",
      "- sum up the total number of ranks and call it $U$\n",
      "\n",
      "For large sample sizes, $U$ is approximately normally distributed:\n",
      "\n",
      "\n",
      "$$m_U = \\frac{n_1 n_2}{2}$$\n",
      "\n",
      "$$\\sigma_U=\\sqrt{n_1 n_2 (n_1 + n_2+1) \\over 12}$$\n"
     ]
    },
    {
     "cell_type": "markdown",
     "metadata": {},
     "source": [
      "Why don't we always use the U test?\n",
      "\n",
      "If it shows a statistically significant result, you're fine.\n",
      "\n",
      "If not, you don't know.\n",
      "\n",
      "The $U$-test is weaker than a parametric test."
     ]
    },
    {
     "cell_type": "markdown",
     "metadata": {},
     "source": [
      "There is a library function performing the Mann-Whitney U test in scipy:\n",
      "\n",
      "Note that this is a one-sided test, so we need to compare it to the one-sided $t$ test:\n",
      "\n",
      "We see that the $t$ test gives us a higher $p$ value.\n",
      "\n"
     ]
    },
    {
     "cell_type": "code",
     "collapsed": false,
     "input": [
      "from scipy.stats import mannwhitneyu\n",
      "print \"one sided U-test\",mannwhitneyu(s1,s2)\n",
      "print \"one sided t-test\",tdist.sf(t,2*n)"
     ],
     "language": "python",
     "metadata": {},
     "outputs": [
      {
       "output_type": "stream",
       "stream": "stdout",
       "text": [
        "one sided U-test (3990.0, 0.0068201111772967496)\n",
        "one sided t-test 0.00256788373629\n"
       ]
      }
     ],
     "prompt_number": 56
    },
    {
     "cell_type": "heading",
     "level": 1,
     "metadata": {},
     "source": [
      "Box Plots"
     ]
    },
    {
     "cell_type": "code",
     "collapsed": false,
     "input": [
      "from scipy.stats import cauchy,uniform\n",
      "_=boxplot([randn(100),randn(1000),4*rand(100)-2],notch=1,bootstrap=10000)"
     ],
     "language": "python",
     "metadata": {},
     "outputs": [
      {
       "output_type": "display_data",
       "png": "[encoded data removed]"
      }
     ],
     "prompt_number": 57
    },
    {
     "cell_type": "markdown",
     "metadata": {},
     "source": [
      "Components of the boxplot:\n",
      "\n",
      "- red line shows median\n",
      "- boxes show quartiles\n",
      "- notches indicate 95% confidence interval (via bootstrap or Gaussian approximation)\n",
      "- whiskers go to most extreme point within 1.5 times outside the box\n",
      "- fliers are all outliers beyond the whiskers\n",
      "\n",
      "Notches allow quick nonparametric significance tests."
     ]
    },
    {
     "cell_type": "code",
     "collapsed": false,
     "input": [
      "# nonparametric signifiance test with boxplots\n",
      "_=boxplot([randn(100),randn(100)+0.5,randn(100)+1.0,randn(1000)+1.5],notch=1,bootstrap=10000)"
     ],
     "language": "python",
     "metadata": {},
     "outputs": [
      {
       "output_type": "display_data",
       "png": "[encoded data removed]"
      }
     ],
     "prompt_number": 58
    },
    {
     "cell_type": "markdown",
     "metadata": {},
     "source": [
      "Note the large number of outliers with the Cauchy distribution.\n",
      "\n"
     ]
    },
    {
     "cell_type": "code",
     "collapsed": false,
     "input": [
      "cs = cauchy.rvs(size=100)\n",
      "_=boxplot([randn(100),cs],notch=1)"
     ],
     "language": "python",
     "metadata": {},
     "outputs": [
      {
       "output_type": "display_data",
       "png": "[encoded data removed]"
      }
     ],
     "prompt_number": 59
    },
    {
     "cell_type": "heading",
     "level": 1,
     "metadata": {},
     "source": [
      "Publication Bias"
     ]
    },
    {
     "cell_type": "markdown",
     "metadata": {},
     "source": [
      "Experiment:\n",
      "\n",
      "Does compound X improve performance on IQ tests?\n",
      "\n",
      "Experiment: Give compound X to half of test takers.\n",
      "\n",
      "Null hypothesis: It does not, the two distributions are the same.\n",
      "\n",
      "- You do the experiment and don't get a significant result at the 5\\% level.\n",
      "- Lack of a significant result proves nothing by itself. (Why?)\n",
      "- You probably don't publish."
     ]
    },
    {
     "cell_type": "markdown",
     "metadata": {},
     "source": [
      "Research groups:\n",
      "\n",
      "Assume compound X is a really important new drug, so 20 research groups all do this experiment.\n",
      "\n",
      "What happens?\n",
      "\n",
      "- Significance at the 5\\% level means 1:20 chance of getting a significant result by chance.\n",
      "- One of the 20 research groups gets a significant result.\n",
      "- The significant result gets published.\n",
      "\n",
      "Press:\n",
      "\n",
      "\"Scientists have proven that compound X improves performance on IQ tests.\""
     ]
    },
    {
     "cell_type": "markdown",
     "metadata": {},
     "source": [
      "Machine learning:\n",
      "\n",
      "Lots of groups try out some new learning algorithm on lots of datasets.\n",
      "\n",
      "For each group and problem, numerous parameters are tried out to optimize algorithm performance.\n",
      "\n",
      "The old algorithm is simply run with standard parameters from the library.\n",
      "\n",
      "Preferentially results get published that show that the new algorithm is better than old algorithms."
     ]
    },
    {
     "cell_type": "code",
     "collapsed": false,
     "input": [
      "# false high p-values in simulations\n",
      "n = 10000\n",
      "p_values = array([ttest_ind(randn(n),randn(n))[1] for i in range(1000)])\n",
      "print sum(p_values<0.05)*1.0/len(p_values)\n",
      "_=hist(p_values,bins=40)"
     ],
     "language": "python",
     "metadata": {},
     "outputs": [
      {
       "output_type": "stream",
       "stream": "stdout",
       "text": [
        "0.047\n"
       ]
      },
      {
       "output_type": "display_data",
       "png": "[encoded data removed]"
      }
     ],
     "prompt_number": 60
    },
    {
     "cell_type": "markdown",
     "metadata": {},
     "source": [
      "Keep in mind:\n",
      "\n",
      "Just because someone publishes a statistically significant result doesn't mean that the result is likely to be true."
     ]
    },
    {
     "cell_type": "heading",
     "level": 1,
     "metadata": {},
     "source": [
      "Resampling Methods"
     ]
    },
    {
     "cell_type": "markdown",
     "metadata": {},
     "source": [
      "As you can see, traditional statistical tests can be pretty tricky to apply, and Bayesian methods require complicated modeling.\n",
      "\n",
      "Is there a better way?\n",
      "\n",
      "Yes: resampling methods."
     ]
    },
    {
     "cell_type": "heading",
     "level": 2,
     "metadata": {},
     "source": [
      "Bootstrap"
     ]
    },
    {
     "cell_type": "markdown",
     "metadata": {},
     "source": [
      "Bootstrapping:\n",
      "\n",
      "- estimate the distribution of an estimator\n",
      "- construct hypothesis tests\n",
      "\n",
      "How does it work?\n",
      "\n",
      "- take the original sample of size $N$\n",
      "- take from it another $N$ samples, using sampling _with replacement_\n",
      "- compute the statistic of interest on this new sample"
     ]
    },
    {
     "cell_type": "markdown",
     "metadata": {},
     "source": [
      "Generate a poll result in which exactly 510 respondents answered YES"
     ]
    },
    {
     "cell_type": "code",
     "collapsed": false,
     "input": [
      "sample = array(linspace(0.0,1.0,1000)<0.51)\n",
      "shuffle(sample)\n",
      "sum(sample)*1.0/len(sample)"
     ],
     "language": "python",
     "metadata": {},
     "outputs": [
      {
       "output_type": "pyout",
       "prompt_number": 61,
       "text": [
        "0.51000000000000001"
       ]
      }
     ],
     "prompt_number": 61
    },
    {
     "cell_type": "markdown",
     "metadata": {},
     "source": [
      "Now perform bootstrap resampling and recompute the test statistic (just the number of votes).\n",
      "\n"
     ]
    },
    {
     "cell_type": "code",
     "collapsed": false,
     "input": [
      "from numpy.random import choice\n",
      "counts = array([sum(choice(sample,size=1000,replace=True)) for i in range(10000)])"
     ],
     "language": "python",
     "metadata": {},
     "outputs": [],
     "prompt_number": 62
    },
    {
     "cell_type": "markdown",
     "metadata": {},
     "source": [
      "Let's look at the histogram again.\n",
      "\n"
     ]
    },
    {
     "cell_type": "code",
     "collapsed": false,
     "input": [
      "_=hist(counts,bins=40)"
     ],
     "language": "python",
     "metadata": {},
     "outputs": [
      {
       "output_type": "display_data",
       "png": "[encoded data removed]"
      }
     ],
     "prompt_number": 63
    },
    {
     "cell_type": "markdown",
     "metadata": {},
     "source": [
      "Finally, from this distribution, we can estimate the probability that Obama will lose given that 510 out of 1000 respondents actually said they would vote for him.\n",
      "\n"
     ]
    },
    {
     "cell_type": "code",
     "collapsed": false,
     "input": [
      "sum(counts/1000.0<0.5)*1.0/len(counts)"
     ],
     "language": "python",
     "metadata": {},
     "outputs": [
      {
       "output_type": "pyout",
       "prompt_number": 64,
       "text": [
        "0.25779999999999997"
       ]
      }
     ],
     "prompt_number": 64
    },
    {
     "cell_type": "markdown",
     "metadata": {},
     "source": [
      "Now that you know the principle, how would you apply this to the cases where we used parametric tests before?"
     ]
    },
    {
     "cell_type": "heading",
     "level": 2,
     "metadata": {},
     "source": [
      "Permutation Tests"
     ]
    },
    {
     "cell_type": "markdown",
     "metadata": {},
     "source": [
      "Basic idea:\n",
      "\n",
      "- We want to test whether two sample populations are \"the same\" with respect to some measurement.\n",
      "- If they are the same, then it shouldn't matter (on average) whether we assign elements at random to one or the other population.\n",
      "\n",
      "The original permutation test computes this over all permutations (i.e., all ways of assigning data to the two sets).\n",
      "\n",
      "We can do something similar by random sampling, giving us a procedure similar to the bootstrap."
     ]
    },
    {
     "cell_type": "code",
     "collapsed": false,
     "input": [
      "pop1 = randn(1000)\n",
      "pop2 = randn(1000)+0.05\n",
      "delta = abs(mean(pop1)-mean(pop2))\n",
      "print mean(pop1),mean(pop2),delta"
     ],
     "language": "python",
     "metadata": {},
     "outputs": [
      {
       "output_type": "stream",
       "stream": "stdout",
       "text": [
        "-0.0246806112386 0.0574570467328 0.0821376579714\n"
       ]
      }
     ],
     "prompt_number": 65
    },
    {
     "cell_type": "markdown",
     "metadata": {},
     "source": [
      "Here, we use a simple resampling scheme. We get different permutations by shuffling the selector array."
     ]
    },
    {
     "cell_type": "code",
     "collapsed": false,
     "input": [
      "pop = concatenate([pop1,pop2])\n",
      "select = (arange(len(pop))>=len(pop1))\n",
      "result = []\n",
      "for i in range(10000):\n",
      "    shuffle(select)\n",
      "    samp1 = pop[select]\n",
      "    samp2 = pop[select==0]\n",
      "    result.append((abs(mean(samp1)-mean(samp2))))\n",
      "result = array(result)"
     ],
     "language": "python",
     "metadata": {},
     "outputs": [],
     "prompt_number": 66
    },
    {
     "cell_type": "code",
     "collapsed": false,
     "input": [
      "_=hist(result,bins=40)"
     ],
     "language": "python",
     "metadata": {},
     "outputs": [
      {
       "output_type": "display_data",
       "png": "[encoded data removed]"
      }
     ],
     "prompt_number": 67
    },
    {
     "cell_type": "code",
     "collapsed": false,
     "input": [
      "sum(result>delta)*1.0/len(result)"
     ],
     "language": "python",
     "metadata": {},
     "outputs": [
      {
       "output_type": "pyout",
       "prompt_number": 68,
       "text": [
        "0.066000000000000003"
       ]
      }
     ],
     "prompt_number": 68
    },
    {
     "cell_type": "heading",
     "level": 2,
     "metadata": {},
     "source": [
      "Cross-Validation"
     ]
    },
    {
     "cell_type": "markdown",
     "metadata": {},
     "source": [
      "Cross-Validation:\n",
      "\n",
      "We have already covered cross-validation in pattern recognition.\n",
      "\n",
      "Cross-validation applies when we are building a _predictive model_ (e.g., a classifier):\n",
      "\n",
      "- divide the data set into a training and a test set\n",
      "- train the predictive model on the training portion and measure its performance on the test set\n",
      "\n",
      "The division is done as follows:\n",
      "\n",
      "- $S = \\biguplus_{i=1}^{n} S_i$ where $|S_i|\\approx |S|/n$\n",
      "- on run $i$, use $D = S-S_i$ for training and $T = S_i$ for testing\n"
     ]
    },
    {
     "cell_type": "markdown",
     "metadata": {},
     "source": [
      "Caveats for cross-validation:\n",
      "\n",
      "You could use resampling methods as well, but on each individual run, training and test sets must be disjoint.\n",
      "\n",
      "Often, training samples are _correlated_. E.g., there are multiple inputs in a single font, or  samples may even be repeated. In that case, you must make sure to account for those correlations in the split."
     ]
    },
    {
     "cell_type": "code",
     "collapsed": false,
     "input": [],
     "language": "python",
     "metadata": {},
     "outputs": [],
     "prompt_number": 68
    }
   ],
   "metadata": {}
  }
 ]
}