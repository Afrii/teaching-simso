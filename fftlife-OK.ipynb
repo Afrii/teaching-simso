{
 "metadata": {
  "name": "fftlife-OK"
 },
 "nbformat": 3,
 "nbformat_minor": 0,
 "worksheets": [
  {
   "cells": [
    {
     "cell_type": "code",
     "collapsed": false,
     "input": [
      "\n",
      "from pylab import *\n",
      "from scipy.ndimage import filters,measurements\n",
      "import pygame\n",
      "from pygame import surfarray\n",
      "matplotlib.rc(\"image\",cmap=\"gray\")\n",
      "matplotlib.rc(\"image\",interpolation=\"nearest\")\n",
      "pygame.init()\n",
      "OR = logical_or\n",
      "AND = logical_and\n",
      "def unif(lo,hi,size=1):\n",
      "    if size==1: return rand()*(hi-lo)+lo\n",
      "    if type(size)==int: return rand(size)*(hi-lo)+lo\n",
      "    return rand(*size)*(hi-lo)+lo"
     ],
     "language": "python",
     "metadata": {},
     "outputs": [],
     "prompt_number": "*"
    },
    {
     "cell_type": "heading",
     "level": 1,
     "metadata": {},
     "source": [
      "PyGame Animation"
     ]
    },
    {
     "cell_type": "code",
     "collapsed": false,
     "input": [
      "w,h = 512,512\n",
      "screen = pygame.display.set_mode((w,h))\n",
      "surface = pygame.Surface((w,h),depth=8)\n",
      "\n",
      "def animate(images,n=20):\n",
      "    for i,image in enumerate(images):\n",
      "        if i>=n: break\n",
      "        b = array(255*clip(image,0,1),'B')\n",
      "        pygame.surfarray.blit_array(surface,b)\n",
      "        screen.blit(surface,(0,0))\n",
      "        pygame.display.flip()\n",
      "    return image\n",
      "        \n",
      "def iterate(update,init,n=100000):\n",
      "    a = zeros((w,h),'d')\n",
      "    init(a)\n",
      "    for i in range(n):\n",
      "        yield a\n",
      "        update(a)\n",
      "    yield a"
     ],
     "language": "python",
     "metadata": {},
     "outputs": [],
     "prompt_number": 10
    },
    {
     "cell_type": "code",
     "collapsed": false,
     "input": [
      "def random(p):\n",
      "    def f(s): s[:,:] = 1.0*(rand(*s.shape)<p)\n",
      "    return f\n",
      "\n",
      "def blinker(s):\n",
      "    s[:,:] = 0\n",
      "    s[3:6,8] = 1\n",
      "\n",
      "def bugs(s):\n",
      "    a = array(s!=0,'f')\n",
      "    n = 11*11*filters.uniform_filter(a,11,mode='wrap')\n",
      "    s[:,:] = AND(n>=34,OR(n<=45,AND(n<=58,a)))"
     ],
     "language": "python",
     "metadata": {},
     "outputs": [],
     "prompt_number": 11
    },
    {
     "cell_type": "code",
     "collapsed": false,
     "input": [
      "animate(iterate(bugs,random(0.5)),20)"
     ],
     "language": "python",
     "metadata": {},
     "outputs": [
      {
       "output_type": "pyout",
       "prompt_number": 12,
       "text": [
        "array([[ 0.,  0.,  0., ...,  0.,  0.,  0.],\n",
        "       [ 0.,  0.,  0., ...,  0.,  0.,  0.],\n",
        "       [ 0.,  0.,  0., ...,  0.,  0.,  0.],\n",
        "       ..., \n",
        "       [ 0.,  0.,  0., ...,  0.,  0.,  0.],\n",
        "       [ 0.,  0.,  0., ...,  0.,  0.,  0.],\n",
        "       [ 0.,  0.,  0., ...,  0.,  0.,  0.]])"
       ]
      }
     ],
     "prompt_number": 12
    },
    {
     "cell_type": "heading",
     "level": 1,
     "metadata": {},
     "source": [
      "Conway's Life with FFT"
     ]
    },
    {
     "cell_type": "code",
     "collapsed": false,
     "input": [
      "center = zeros((w,h))\n",
      "center[0,0] = 1\n",
      "surround = zeros((w,h))\n",
      "surround[:3,:3] = 1\n",
      "surround = roll(roll(surround,-1,0),-1,1)\n",
      "image = 1.0*(rand(w,h)>0.5)"
     ],
     "language": "python",
     "metadata": {},
     "outputs": [],
     "prompt_number": 13
    },
    {
     "cell_type": "code",
     "collapsed": false,
     "input": [
      "center_fft = fft2(center)\n",
      "surround_fft = fft2(surround)\n",
      "def life(image):\n",
      "    c = abs(ifft2(center_fft*fft2(image)))\n",
      "    s = abs(ifft2(surround_fft*fft2(image)))-c\n",
      "    c = floor(0.5+c)\n",
      "    s = floor(0.5+s)\n",
      "    image[:,:] = AND(s>=2,AND(s<=3,OR(c,s==3)))"
     ],
     "language": "python",
     "metadata": {},
     "outputs": [],
     "prompt_number": 14
    },
    {
     "cell_type": "code",
     "collapsed": false,
     "input": [
      "image = zeros((w,h))\n",
      "blinker(image)\n",
      "subplot(121); imshow(image[:16,:16].copy())\n",
      "life(image)\n",
      "subplot(122); imshow(image[:16,:16].copy())"
     ],
     "language": "python",
     "metadata": {},
     "outputs": [
      {
       "output_type": "pyout",
       "prompt_number": 15,
       "text": [
        "<matplotlib.image.AxesImage at 0x3720c90>"
       ]
      },
      {
       "output_type": "display_data",
       "png": "[encoded data removed]"
      }
     ],
     "prompt_number": 15
    },
    {
     "cell_type": "code",
     "collapsed": false,
     "input": [
      "animate(iterate(life,random(0.5)),n=20)"
     ],
     "language": "python",
     "metadata": {},
     "outputs": [
      {
       "output_type": "pyout",
       "prompt_number": 16,
       "text": [
        "array([[ 0.,  0.,  0., ...,  0.,  0.,  0.],\n",
        "       [ 0.,  0.,  0., ...,  0.,  0.,  0.],\n",
        "       [ 0.,  0.,  0., ...,  0.,  0.,  0.],\n",
        "       ..., \n",
        "       [ 0.,  0.,  0., ...,  0.,  0.,  0.],\n",
        "       [ 0.,  0.,  0., ...,  0.,  0.,  0.],\n",
        "       [ 0.,  0.,  0., ...,  0.,  0.,  0.]])"
       ]
      }
     ],
     "prompt_number": 16
    },
    {
     "cell_type": "heading",
     "level": 1,
     "metadata": {},
     "source": [
      "SmoothLife with FFT"
     ]
    },
    {
     "cell_type": "code",
     "collapsed": false,
     "input": [
      "from scipy.ndimage import interpolation\n",
      "def make_circle(r):\n",
      "    s = 7\n",
      "    x,y = mgrid[s*-r:s*r+1,s*-r:s*r+1]\n",
      "    g = 1.0*(x**2+y**2<=(s*r)**2)\n",
      "    g = filters.uniform_filter(g,s)\n",
      "    return g[::s,::s]\n",
      "imshow(make_circle(10))"
     ],
     "language": "python",
     "metadata": {},
     "outputs": [
      {
       "output_type": "pyout",
       "prompt_number": 56,
       "text": [
        "<matplotlib.image.AxesImage at 0x8f5bbd0>"
       ]
      },
      {
       "output_type": "display_data",
       "png": "[encoded data removed]"
      }
     ],
     "prompt_number": 56
    },
    {
     "cell_type": "code",
     "collapsed": false,
     "input": [
      "def normalize(s):\n",
      "    return s/sum(s)\n",
      "\n",
      "def make_fft_circle(r,size=(w,h)):\n",
      "    w,h = size\n",
      "    out = zeros((w,h))\n",
      "    c = make_circle(r)\n",
      "    cw,ch = c.shape\n",
      "    out[:cw,:ch] = c\n",
      "    return roll(roll(out,-(cw//2),0),-(ch//2),1)\n",
      "\n",
      "def make_fft_annulus(r1,r2,size=(w,h)):\n",
      "    outer = make_fft_circle(r2)\n",
      "    inner = make_fft_circle(r1)\n",
      "    return clip(outer-inner,0,1)\n",
      "\n",
      "\n",
      "subplot(121); imshow(make_fft_circle(100))\n",
      "subplot(122); imshow(make_fft_annulus(100,200))"
     ],
     "language": "python",
     "metadata": {},
     "outputs": [
      {
       "output_type": "pyout",
       "prompt_number": 57,
       "text": [
        "<matplotlib.image.AxesImage at 0x957bd10>"
       ]
      },
      {
       "output_type": "display_data",
       "png": "[encoded data removed]"
      }
     ],
     "prompt_number": 57
    },
    {
     "cell_type": "code",
     "collapsed": false,
     "input": [
      "class Fail(Exception): pass\n",
      "ri = 1\n",
      "ro = 3\n",
      "scenter = normalize(make_fft_circle(ri))\n",
      "scenter_fft = fft2(scenter)\n",
      "ssurround = normalize(make_fft_annulus(ri,ro))\n",
      "ssurround_fft = fft2(ssurround)\n",
      "a0,b0,b1,a1 = 0.28,0.35,0.4,0.55\n",
      "def slife(image):\n",
      "    if amax(image)<1e-4: raise Fail()\n",
      "    c = abs(ifft2(scenter_fft*fft2(image)))\n",
      "    s = abs(ifft2(ssurround_fft*fft2(image)))\n",
      "    # print amin(c),amax(c),mean(c); print amin(s),amax(s),mean(s)\n",
      "    image[:,:] = OR(AND(c<0.5,AND(s>b0,s<b1)),AND(c>=0.5,AND(s>a0,s<a1)))\n",
      "    return c,s\n",
      "subplot(121); imshow(scenter[:10,:10])\n",
      "subplot(122); imshow(ssurround[:10,:10])"
     ],
     "language": "python",
     "metadata": {},
     "outputs": [
      {
       "output_type": "pyout",
       "prompt_number": 59,
       "text": [
        "<matplotlib.image.AxesImage at 0xa85c7d0>"
       ]
      },
      {
       "output_type": "display_data",
       "png": "[encoded data removed]"
      }
     ],
     "prompt_number": 59
    },
    {
     "cell_type": "code",
     "collapsed": false,
     "input": [
      "for i in range(1000):\n",
      "    params = sorted(rand(4))\n",
      "    a0 = unif(0.25,0.35)\n",
      "    a1 = unif(0.45,0.55)\n",
      "    b0 = unif(0.25,0.35)\n",
      "    b1 = unif(0.35,0.45)\n",
      "    try:\n",
      "        result = animate(iterate(slife,random(0.5)),n=50)\n",
      "    except Fail:\n",
      "        continue\n",
      "    if mean(result)<1e-3 or mean(result)>0.3: continue\n",
      "    print mean(result),params\n"
     ],
     "language": "python",
     "metadata": {},
     "outputs": [
      {
       "output_type": "stream",
       "stream": "stdout",
       "text": [
        "0.0164108276367 [0.35998150183427213, 0.55317837253795732, 0.67397549522716194, 0.74046583888312023]\n",
        "0.243339538574"
       ]
      },
      {
       "output_type": "stream",
       "stream": "stdout",
       "text": [
        " [0.10364586546135079, 0.44071341113347406, 0.7332389622073997, 0.74013939009697083]\n",
        "0.0137062072754"
       ]
      },
      {
       "output_type": "stream",
       "stream": "stdout",
       "text": [
        " [0.15788087676016738, 0.21678188459861547, 0.27582350423965329, 0.36035445094724872]\n",
        "0.00469207763672"
       ]
      },
      {
       "output_type": "stream",
       "stream": "stdout",
       "text": [
        " [0.19003044773058342, 0.32324065863619011, 0.34733356229303103, 0.43767702636264949]\n",
        "0.145214080811"
       ]
      },
      {
       "output_type": "stream",
       "stream": "stdout",
       "text": [
        " [0.22201812149411226, 0.2268390296076318, 0.73040403802083043, 0.86680810966903798]\n",
        "0.251663208008"
       ]
      },
      {
       "output_type": "stream",
       "stream": "stdout",
       "text": [
        " [0.038420595349678899, 0.1812623887863879, 0.25201946879810522, 0.34815710607184935]\n",
        "0.00128173828125"
       ]
      },
      {
       "output_type": "stream",
       "stream": "stdout",
       "text": [
        " [0.41897338063739276, 0.63907486413958536, 0.83060540775396319, 0.86819512549362676]\n",
        "0.00130462646484"
       ]
      },
      {
       "output_type": "stream",
       "stream": "stdout",
       "text": [
        " [0.2410984043377381, 0.34050405246929127, 0.36209748502186523, 0.4505971010177886]\n",
        "0.259113311768"
       ]
      }
     ],
     "prompt_number": "*"
    },
    {
     "cell_type": "code",
     "collapsed": false,
     "input": [],
     "language": "python",
     "metadata": {},
     "outputs": [
      {
       "output_type": "pyout",
       "prompt_number": 32,
       "text": [
        "<matplotlib.image.AxesImage at 0x80df090>"
       ]
      },
      {
       "output_type": "display_data",
       "png": "[encoded data removed]"
      }
     ],
     "prompt_number": 32
    },
    {
     "cell_type": "code",
     "collapsed": false,
     "input": [],
     "language": "python",
     "metadata": {},
     "outputs": []
    }
   ],
   "metadata": {}
  }
 ]
}