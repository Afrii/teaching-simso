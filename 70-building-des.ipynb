{
 "metadata": {
  "name": ""
 },
 "nbformat": 3,
 "nbformat_minor": 0,
 "worksheets": [
  {
   "cells": [
    {
     "cell_type": "markdown",
     "metadata": {},
     "source": [
      "Title: Building Differential Equation Models\n",
      "Author: Thomas Breuel\n",
      "Institution: UniKL"
     ]
    },
    {
     "cell_type": "heading",
     "level": 1,
     "metadata": {},
     "source": [
      "Building Differential Equation Models"
     ]
    },
    {
     "cell_type": "code",
     "collapsed": false,
     "input": [
      "\n",
      "from scipy.integrate import odeint\n",
      "def mathaxes():\n",
      "    ax = gca()\n",
      "    ax.spines['left'].set_position('zero')\n",
      "    ax.spines['right'].set_color('none')\n",
      "    ax.spines['bottom'].set_position('zero')\n",
      "    ax.spines['top'].set_color('none')"
     ],
     "language": "python",
     "metadata": {},
     "outputs": [],
     "prompt_number": 1
    },
    {
     "cell_type": "markdown",
     "metadata": {},
     "source": [
      "The Epidemic Curve:\n",
      "    \n",
      "Sir Ronald Ross observed infectious diseases come in three forms:\n",
      "\n",
      "- endemic - small number of cases, fluctuating, only slow increase/decrease\n",
      "- outbreak - constantly present but flaring up in epidemic outbreaks\n",
      "- epidemic - intense outbreaks followed by disappearance\n",
      "\n",
      "What's the reason?"
     ]
    },
    {
     "cell_type": "heading",
     "level": 1,
     "metadata": {},
     "source": [
      "SIR Models"
     ]
    },
    {
     "cell_type": "markdown",
     "metadata": {},
     "source": [
      "$$ S \\rightarrow I \\rightarrow R $$\n",
      "\n",
      "Susceptible:\n",
      "\n",
      "$$ \\dot S = -\\beta S I $$\n",
      "\n",
      "Infected:\n",
      "\n",
      "$$ \\dot I = \\beta S I - \\gamma I $$\n",
      "\n",
      "Removed (resistant or dead): \n",
      "\n",
      "$$ \\dot R = \\gamma I $$\n",
      "\n",
      "Total population: $N$\n",
      "\n",
      "Initial population: $S_0\\approx N$"
     ]
    },
    {
     "cell_type": "markdown",
     "metadata": {},
     "source": [
      "Interpretation:\n",
      "\n",
      "- each infected individual transmits the pathogen to $b$ others per unit time\n",
      "- number of new cases per unit time $bI(S/N) = \\beta SI$ where $\\beta = b/N$\n",
      "- $\\gamma$ is the rate of recovery, or equivalently, the mean duration of illness (Poisson process)"
     ]
    },
    {
     "cell_type": "markdown",
     "metadata": {},
     "source": [
      "Rescaling the model:\n",
      "\n",
      "Express values as fraction of total population: $X = S/N$, $Y = I/N$, $Z = R/N$.\n",
      "\n",
      "$$ b = \\beta N$$\n",
      "\n",
      "$$ \\dot X = -bYZ $$\n",
      "$$ \\dot Y = bXY-\\gamma Y $$\n",
      "$$ \\dot Z = \\gamma Y $$\n",
      "\n",
      "We have two parameters now: $b$ and $\\gamma$."
     ]
    },
    {
     "cell_type": "markdown",
     "metadata": {},
     "source": [
      "Rescaling in time:\n",
      "\n",
      "We can eliminate the $\\gamma$ parameter by rescaling in time as well:\n",
      "\n",
      "- $\\gamma$ is mean duration of infection\n",
      "- express time as a multiple of this $\\tau = t/\\gamma$\n",
      "- this reduces the equations to a single parameter $\\rho = \\beta N / \\gamma$\n",
      "- $\\rho$ is the _basic reproductive rate_ of the disease\n",
      "\n",
      "$$\\dot X = -\\rho XY $$\n",
      "$$\\dot Y = \\rho XY - Y $$\n",
      "$$\\dot Z = Y $$"
     ]
    },
    {
     "cell_type": "code",
     "collapsed": false,
     "input": [
      "def F(rho):\n",
      "    def f(v,_): x,y,z = tuple(v); return (-rho*x*y,rho*x*y-y,y)\n",
      "    return f"
     ],
     "language": "python",
     "metadata": {},
     "outputs": [],
     "prompt_number": 2
    },
    {
     "cell_type": "code",
     "collapsed": false,
     "input": [
      "t = linspace(0,1000.0,1000)\n",
      "plot(t,odeint(F(1),(0.99,0.01,0),t))"
     ],
     "language": "python",
     "metadata": {},
     "outputs": [
      {
       "metadata": {},
       "output_type": "pyout",
       "prompt_number": 3,
       "text": [
        "[<matplotlib.lines.Line2D at 0x7f36700773d0>,\n",
        " <matplotlib.lines.Line2D at 0x7f3670077650>,\n",
        " <matplotlib.lines.Line2D at 0x7f3670077890>]"
       ]
      },
      {
       "metadata": {},
       "output_type": "display_data",
       "png": "[encoded data removed]",
       "text": [
        "<matplotlib.figure.Figure at 0x7f36718366d0>"
       ]
      }
     ],
     "prompt_number": 3
    },
    {
     "cell_type": "code",
     "collapsed": false,
     "input": [
      "t = linspace(0,100.0,1000)\n",
      "plot(t,odeint(F(1.5),(0.99,0.01,0),t))"
     ],
     "language": "python",
     "metadata": {},
     "outputs": [
      {
       "metadata": {},
       "output_type": "pyout",
       "prompt_number": 4,
       "text": [
        "[<matplotlib.lines.Line2D at 0x7f3667a572d0>,\n",
        " <matplotlib.lines.Line2D at 0x7f3667a57550>,\n",
        " <matplotlib.lines.Line2D at 0x7f3667a57790>]"
       ]
      },
      {
       "metadata": {},
       "output_type": "display_data",
       "png": "[encoded data removed]",
       "text": [
        "<matplotlib.figure.Figure at 0x7f3670077f50>"
       ]
      }
     ],
     "prompt_number": 4
    },
    {
     "cell_type": "code",
     "collapsed": false,
     "input": [
      "t = linspace(0,10.0,1000)\n",
      "plot(t,odeint(F(5.0),(0.99,0.01,0),t))"
     ],
     "language": "python",
     "metadata": {},
     "outputs": [
      {
       "metadata": {},
       "output_type": "pyout",
       "prompt_number": 5,
       "text": [
        "[<matplotlib.lines.Line2D at 0x7f3667993e50>,\n",
        " <matplotlib.lines.Line2D at 0x7f36679a0110>,\n",
        " <matplotlib.lines.Line2D at 0x7f36679a0350>]"
       ]
      },
      {
       "metadata": {},
       "output_type": "display_data",
       "png": "[encoded data removed]",
       "text": [
        "<matplotlib.figure.Figure at 0x7f3667a0ac50>"
       ]
      }
     ],
     "prompt_number": 5
    },
    {
     "cell_type": "heading",
     "level": 1,
     "metadata": {},
     "source": [
      "SIS Models"
     ]
    },
    {
     "cell_type": "markdown",
     "metadata": {},
     "source": [
      "Some diseases have oscillations.\n",
      "\n",
      "For that to occur, there has to be a constant supply of new susceptible individuals:\n",
      "\n",
      "- disease don't confer immunity OR\n",
      "- new births in the community"
     ]
    },
    {
     "cell_type": "markdown",
     "metadata": {},
     "source": [
      "$$ S \\rightarrow I \\rightarrow S $$\n",
      "\n",
      "$$ \\dot S = -\\beta S I + \\gamma I $$\n",
      "$$ \\dot I = \\beta S I - \\gamma I $$"
     ]
    },
    {
     "cell_type": "markdown",
     "metadata": {},
     "source": [
      "Rescaling:\n",
      "\n",
      "$$ \\dot X = -\\rho X Y + Y $$\n",
      "$$ \\dot Y = \\rho X Y - Y $$\n",
      "\n",
      "Using $ X + Y = 1 $$:\n",
      "\n",
      "$$\\dot Y = r Y (1-Y/K) $$\n",
      "\n",
      "with $r = \\rho - 1$ and $K = (\\rho-1)/\\rho$\n",
      "\n",
      "This is just the logistic regression, so it doesn't oscillate."
     ]
    },
    {
     "cell_type": "heading",
     "level": 1,
     "metadata": {},
     "source": [
      "SIR Model with Birth"
     ]
    },
    {
     "cell_type": "markdown",
     "metadata": {},
     "source": [
      "Constant birth/death rates:\n",
      "\n",
      "- $\\mu N$ is the birth rate\n",
      "- $- \\mu S$ etc. are the death rates\n",
      "- they balance out\n",
      "- note that $R$ is not death\n",
      "- equations constantly take individuals out of each population and put them back into $S$\n",
      "\n",
      "$$ \\dot S = - \\beta S I + \\mu N - \\mu S $$\n",
      "$$ \\dot I = \\beta S I - \\gamma I - \\mu I $$\n",
      "$$ \\dot R = \\gamma I - \\mu R $$"
     ]
    },
    {
     "cell_type": "markdown",
     "metadata": {},
     "source": [
      "Rescaling:\n",
      "\n",
      "$X = S/N$, $L = \\beta I$, $S+I+R=N$\n",
      "\n",
      "New equations (work this out yourself):\n",
      "\n",
      "$$ \\dot X = \\mu(1-X)-L X $$\n",
      "$$ \\dot L = (\\gamma+\\mu) L (\\rho X - 1) $$"
     ]
    },
    {
     "cell_type": "markdown",
     "metadata": {},
     "source": [
      "Jacobian:\n",
      "\n",
      "$$ J(X,L) = \\left ( \\begin{matrix} \\frac{\\partial \\dot X}{\\partial X} & \\frac{\\partial \\dot X}{\\partial L} \\\\\\\\ \\frac{\\partial \\dot L}{\\partial X} & \\frac{\\partial \\dot L}{\\partial L} \\end{matrix} \\right ) = \\left ( \\begin{matrix} -\\mu-L & -X \\\\\\\\ (\\gamma+\\mu)L\\rho & (\\gamma+\\mu)(\\rho X-1) \\end{matrix} \\right ) $$\n",
      "\n",
      "This gives us the linearized pattern of nullclines around some stable point.\n",
      "\n",
      "- we can get stable steady states\n",
      "- dampened oscillations towards a steady state\n",
      "- continuous oscillations"
     ]
    },
    {
     "cell_type": "code",
     "collapsed": false,
     "input": [
      "def F(mu,rho,gamma):\n",
      "    def f(v,_): x,l = tuple(v); return(mu*(1-x)-l*x,(gamma+mu)*l*(rho*x-1))\n",
      "    return f"
     ],
     "language": "python",
     "metadata": {},
     "outputs": [],
     "prompt_number": 6
    },
    {
     "cell_type": "code",
     "collapsed": false,
     "input": [
      "t = linspace(0,100.0,1000)\n",
      "plot(t,odeint(F(0.05,1.7,1.2),(0.99,0.01),t))"
     ],
     "language": "python",
     "metadata": {},
     "outputs": [
      {
       "metadata": {},
       "output_type": "pyout",
       "prompt_number": 7,
       "text": [
        "[<matplotlib.lines.Line2D at 0x7f36678c5dd0>,\n",
        " <matplotlib.lines.Line2D at 0x7f36678d1090>]"
       ]
      },
      {
       "metadata": {},
       "output_type": "display_data",
       "png": "[encoded data removed]",
       "text": [
        "<matplotlib.figure.Figure at 0x7f3670a91f90>"
       ]
      }
     ],
     "prompt_number": 7
    },
    {
     "cell_type": "heading",
     "level": 1,
     "metadata": {},
     "source": [
      "Parameter Fitting for Models"
     ]
    },
    {
     "cell_type": "markdown",
     "metadata": {},
     "source": [
      "Next steps:\n",
      "\n",
      "- make reasonable guesses of ranges for $\\mu$, $\\gamma$, $\\beta$ based on first principles\n",
      "- try to fit parameters to match observed data"
     ]
    },
    {
     "cell_type": "markdown",
     "metadata": {},
     "source": [
      "Let's just simulate some observations: a steady state of 50% infected, but with some oscillations. Can we find parameters matching such data?\n",
      "\n"
     ]
    },
    {
     "cell_type": "code",
     "collapsed": false,
     "input": [
      "ylim((0,1))\n",
      "data = 0.5+0.1*sin(t/7.0)\n",
      "plot(t,data)"
     ],
     "language": "python",
     "metadata": {},
     "outputs": [
      {
       "metadata": {},
       "output_type": "pyout",
       "prompt_number": 8,
       "text": [
        "[<matplotlib.lines.Line2D at 0x7f3667873950>]"
       ]
      },
      {
       "metadata": {},
       "output_type": "display_data",
       "png": "[encoded data removed]",
       "text": [
        "<matplotlib.figure.Figure at 0x7f3667a659d0>"
       ]
      }
     ],
     "prompt_number": 8
    },
    {
     "cell_type": "markdown",
     "metadata": {},
     "source": [
      "We start parameter optimization by computing the error for a given set of parameters. Parameters are both initial conditions $(x,l)$ and the actual parameters of the equation.\n",
      "\n"
     ]
    },
    {
     "cell_type": "code",
     "collapsed": false,
     "input": [
      "def error(params):\n",
      "    mu,rho,gamma,x,l = tuple(params)\n",
      "    pred = odeint(F(mu,rho,gamma),(x,l),t,rtol=1e-8,atol=1e-8)\n",
      "    return sum((pred[:,0]-data)**2)"
     ],
     "language": "python",
     "metadata": {},
     "outputs": [],
     "prompt_number": 9
    },
    {
     "cell_type": "markdown",
     "metadata": {},
     "source": [
      "There are many different optimization algorithms possible. We prefer one that doesn't require computing derivatives. Nelder-Mead is a good and simple first choice.\n",
      "\n"
     ]
    },
    {
     "cell_type": "code",
     "collapsed": false,
     "input": [
      "from scipy.optimize import minimize\n",
      "initial = (0.05,1.7,1.2,0.9,0.1)\n",
      "result = minimize(error,initial,method='nelder-mead',options=dict(xtol=1e-4,disp=True,maxiter=10000))\n",
      "print result"
     ],
     "language": "python",
     "metadata": {},
     "outputs": [
      {
       "output_type": "stream",
       "stream": "stdout",
       "text": [
        "Optimization terminated successfully.\n",
        "         Current function value: 1.046567\n",
        "         Iterations: 599\n",
        "         Function evaluations: 970\n",
        "  status: 0\n",
        "    nfev: 970\n",
        " success: True\n",
        "     fun: 1.0465668211386552\n",
        "       x: array([  1.23405477e-02,   2.02340805e+00,   2.17068265e+00,\n",
        "         5.41178930e-01,   2.00555648e-05])\n",
        " message: 'Optimization terminated successfully.'\n",
        "     nit: 599\n"
       ]
      }
     ],
     "prompt_number": 10
    },
    {
     "cell_type": "markdown",
     "metadata": {},
     "source": [
      "Optimization with Nelder-Mead gives us a reasonably good match to the data.\n",
      "\n"
     ]
    },
    {
     "cell_type": "code",
     "collapsed": false,
     "input": [
      "mu,rho,gamma,x,l = result.x\n",
      "ylim((0,1))\n",
      "plot(t,odeint(F(mu,rho,gamma),(x,l),t))\n",
      "plot(t,data)"
     ],
     "language": "python",
     "metadata": {},
     "outputs": [
      {
       "metadata": {},
       "output_type": "pyout",
       "prompt_number": 11,
       "text": [
        "[<matplotlib.lines.Line2D at 0x7f3662c92c90>]"
       ]
      },
      {
       "metadata": {},
       "output_type": "display_data",
       "png": "[encoded data removed]",
       "text": [
        "<matplotlib.figure.Figure at 0x7f36633c6e10>"
       ]
      }
     ],
     "prompt_number": 11
    },
    {
     "cell_type": "code",
     "collapsed": false,
     "input": [
      "from scipy.ndimage import gaussian_filter as G\n",
      "data0 = 0.5+0.1*sin(t/7.0)\n",
      "ylim((0,1))\n",
      "data = data0 + 0.05*G(randn(len(data0)),10.0)\n",
      "plot(t,data)"
     ],
     "language": "python",
     "metadata": {},
     "outputs": [
      {
       "metadata": {},
       "output_type": "pyout",
       "prompt_number": 12,
       "text": [
        "[<matplotlib.lines.Line2D at 0x7f366270e2d0>]"
       ]
      },
      {
       "metadata": {},
       "output_type": "display_data",
       "png": "[encoded data removed]",
       "text": [
        "<matplotlib.figure.Figure at 0x7f3662c51e50>"
       ]
      }
     ],
     "prompt_number": 12
    },
    {
     "cell_type": "code",
     "collapsed": false,
     "input": [
      "results = []\n",
      "for i in range(10):\n",
      "    data = data0 + 0.05*randn(len(data0))\n",
      "    initial = (0.05,1.7,1.2,0.9,0.1)\n",
      "    result = minimize(error,initial,method='nelder-mead',options=dict(xtol=1e-6,disp=False,maxiter=1000))\n",
      "    print i,result.x\n",
      "    results.append(result)"
     ],
     "language": "python",
     "metadata": {},
     "outputs": [
      {
       "output_type": "stream",
       "stream": "stdout",
       "text": [
        "0 [  1.77771230e-02   1.91940186e+00   1.26026519e+00   5.41647636e-01\n",
        "   1.08717673e-03]\n",
        "Excess work done on this call (perhaps wrong Dfun type)."
       ]
      },
      {
       "output_type": "stream",
       "stream": "stdout",
       "text": [
        "\n",
        "Run with full_output = 1 to get quantitative information.\n",
        "Excess work done on this call (perhaps wrong Dfun type)."
       ]
      },
      {
       "output_type": "stream",
       "stream": "stdout",
       "text": [
        "\n",
        "Run with full_output = 1 to get quantitative information.\n",
        "1"
       ]
      },
      {
       "output_type": "stream",
       "stream": "stdout",
       "text": [
        " [  1.22596335e-02   2.03486400e+00   2.22983225e+00   5.41561495e-01\n",
        "   1.19776990e-05]\n",
        "2"
       ]
      },
      {
       "output_type": "stream",
       "stream": "stdout",
       "text": [
        " [ 0.0271978   2.02283721  0.76662133  0.52743595  0.00242178]\n",
        "3"
       ]
      },
      {
       "output_type": "stream",
       "stream": "stdout",
       "text": [
        " [  1.28348166e-02   2.02830586e+00   1.99387380e+00   5.41060119e-01\n",
        "   3.33761911e-05]\n",
        "Excess work done on this call (perhaps wrong Dfun type)."
       ]
      },
      {
       "output_type": "stream",
       "stream": "stdout",
       "text": [
        "\n",
        "Run with full_output = 1 to get quantitative information.\n",
        "Excess work done on this call (perhaps wrong Dfun type)."
       ]
      },
      {
       "output_type": "stream",
       "stream": "stdout",
       "text": [
        "\n",
        "Run with full_output = 1 to get quantitative information.\n",
        "Excess work done on this call (perhaps wrong Dfun type).\n",
        "Run with full_output = 1 to get quantitative information.\n",
        "4"
       ]
      },
      {
       "output_type": "stream",
       "stream": "stdout",
       "text": [
        " [  1.31120116e-02   2.02763269e+00   1.89086296e+00   5.41416342e-01\n",
        "   4.84499529e-05]\n",
        "5"
       ]
      },
      {
       "output_type": "stream",
       "stream": "stdout",
       "text": [
        " [  1.20019229e-02   2.02566686e+00   2.26732110e+00   5.35906007e-01\n",
        "   1.99535626e-05]\n",
        "6"
       ]
      },
      {
       "output_type": "stream",
       "stream": "stdout",
       "text": [
        " [  1.31996414e-02   2.02800335e+00   1.85282992e+00   5.41425390e-01\n",
        "   6.20897089e-05]\n",
        "7"
       ]
      },
      {
       "output_type": "stream",
       "stream": "stdout",
       "text": [
        " [ 0.02731664  2.11440855  0.68608672  0.50586803  0.00311115]\n",
        "8"
       ]
      },
      {
       "output_type": "stream",
       "stream": "stdout",
       "text": [
        " [  1.30275492e-02   2.02540651e+00   2.07476985e+00   5.36216576e-01\n",
        "   2.14635960e-05]\n",
        "Excess work done on this call (perhaps wrong Dfun type)."
       ]
      },
      {
       "output_type": "stream",
       "stream": "stdout",
       "text": [
        "\n",
        "Run with full_output = 1 to get quantitative information.\n",
        "Excess work done on this call (perhaps wrong Dfun type).\n",
        "Run with full_output = 1 to get quantitative information.\n",
        "9"
       ]
      },
      {
       "output_type": "stream",
       "stream": "stdout",
       "text": [
        " [  1.42108977e-02   2.04040196e+00   1.66962787e+00   5.47652298e-01\n",
        "   6.41482260e-05]\n"
       ]
      }
     ],
     "prompt_number": 13
    },
    {
     "cell_type": "code",
     "collapsed": false,
     "input": [
      "xs = array([r.x for r in results])\n",
      "_=boxplot(xs)"
     ],
     "language": "python",
     "metadata": {},
     "outputs": [
      {
       "metadata": {},
       "output_type": "display_data",
       "png": "[encoded data removed]",
       "text": [
        "<matplotlib.figure.Figure at 0x7f3662743ed0>"
       ]
      }
     ],
     "prompt_number": 14
    },
    {
     "cell_type": "heading",
     "level": 1,
     "metadata": {},
     "source": [
      "Disease? Computer Science?"
     ]
    },
    {
     "cell_type": "heading",
     "level": 2,
     "metadata": {},
     "source": [
      "Facebook vs Google"
     ]
    },
    {
     "cell_type": "markdown",
     "metadata": {},
     "source": [
      "User growth:\n",
      "\n",
      "- If you know nothing else, what kind of curve would you predict for introducing a new service like Google+?\n",
      "- How does growth actually work? How does it relate to the actual social network?\n",
      "- (We'll return to the dimensionality of social graphs later.)"
     ]
    },
    {
     "cell_type": "markdown",
     "metadata": {},
     "source": [
      "Facebook vs. Google Plus:\n",
      "\n",
      "$$ \\dot I = - \\phi F - \\gamma G $$\n",
      "$$ \\dot F = \\phi I - \\epsilon F + \\delta G $$\n",
      "$$ \\dot G = \\gamma G + \\epsilon F - \\delta G $$"
     ]
    },
    {
     "cell_type": "markdown",
     "metadata": {},
     "source": [
      "Questions:\n",
      "\n",
      "- Assuming $G = 0.1F$ and some other parameters, can Google catch up at all?\n",
      "- Assuming $\\phi$ and $\\gamma$ are about the same, how much bigger does $\\epsilon$ have to be than $\\delta$?\n",
      "- What are reasonable parameter values?\n",
      "- Are oscillations possible?\n",
      "- If users return to an inactive state at some rate $\\lambda$, how does that change things?"
     ]
    },
    {
     "cell_type": "heading",
     "level": 2,
     "metadata": {},
     "source": [
      "Network Users"
     ]
    },
    {
     "cell_type": "markdown",
     "metadata": {},
     "source": [
      "Network Users:\n",
      "\n",
      "- inactive users $I$ become active at some rate\n",
      "- active users $A$ become inactive at some base rate\n",
      "- network slowdown is proportional to $s = 1-(A/M)^2$, where $M$ is the maximum user population\n",
      "- active users become inactive due to frustration at some rate $\\phi(s)$, where $\\phi(0)=0$ and $\\phi(1)=1$"
     ]
    },
    {
     "cell_type": "markdown",
     "metadata": {},
     "source": [
      "Questions:\n",
      "\n",
      "- Is this a reasonable model?\n",
      "- Are oscillations possible?"
     ]
    },
    {
     "cell_type": "heading",
     "level": 1,
     "metadata": {},
     "source": [
      "Chemical Reactions and Hypercycle"
     ]
    },
    {
     "cell_type": "markdown",
     "metadata": {},
     "source": [
      "Basic question of evolution:\n",
      "\n",
      "- Biological organisms are self-replicating networks of chemicals?\n",
      "- How did complex networks evolve from simple networks?\n",
      "- Similar networks in ecology and sociology.\n",
      "\n",
      "$$ A \\rightarrow A $$\n",
      "$$ A \\rightarrow B \\rightarrow A $$\n",
      "$$ A \\rightarrow B \\rightarrow C \\rightarrow A $$"
     ]
    },
    {
     "cell_type": "markdown",
     "metadata": {},
     "source": [
      "Replication:\n",
      "\n",
      "$$ A \\rightarrow B \\rightarrow C \\rightarrow A $$\n",
      "\n",
      "- $B$ is replicated by $A$\n",
      "- $A$ is the _replicase_, $B$ is the _template_ (cf DNA)\n",
      "- rate of replication is proportional to the concentration of $A$ and the concentration of $B$"
     ]
    },
    {
     "cell_type": "code",
     "collapsed": false,
     "input": [
      "vs = []\n",
      "v = 0.1*rand(5); v /= sum(v)\n",
      "r = 0.01 * ones(5)\n",
      "for i in range(10000):\n",
      "    v += r*v*roll(v,1)\n",
      "    v = v/sum(v)\n",
      "    vs.append(v)\n",
      "_=plot(vs)"
     ],
     "language": "python",
     "metadata": {},
     "outputs": [
      {
       "metadata": {},
       "output_type": "display_data",
       "png": "[encoded data removed]",
       "text": [
        "<matplotlib.figure.Figure at 0x7f3662743f50>"
       ]
      }
     ],
     "prompt_number": 15
    },
    {
     "cell_type": "markdown",
     "metadata": {},
     "source": [
      "Hypercycle results:\n",
      "\n",
      "Dynamics:\n",
      "\n",
      "- such cyclic dependencies results in large oscillations over time\n",
      "\n",
      "What happens when mutations arise?\n",
      "\n",
      "- We would like it when better hypercycles outcompete worse hypercycles.\n",
      "- Replicases that replicate other species better act as _altruists_, this is not rewarded.\n",
      "- Chemical species that are better targets of replicases are rewarded by an increase in numbers.\n",
      "- As is, better cycles do not outcompete worse cycles, evolution of complexity does not happen.\n",
      "\n",
      "Solution:\n",
      "\n",
      "- The unit of selection/competition needs to be the entire hypercycle.\n",
      "- This is accomplished via compartmentalization or spatial localization."
     ]
    },
    {
     "cell_type": "heading",
     "level": 1,
     "metadata": {},
     "source": [
      "Delay Differential Equations"
     ]
    },
    {
     "cell_type": "markdown",
     "metadata": {},
     "source": [
      "Another form of differential equation that can be important in modeling real systems is delay differential equations.\n",
      "\n",
      "Here is a simple example of a delay differential equation:\n",
      "\n",
      "$$ \\dot x(t) = \\alpha x(t-\\tau) $$"
     ]
    },
    {
     "cell_type": "markdown",
     "metadata": {},
     "source": [
      "Let's simulate this equation with a very simple difference equation.\n",
      "\n"
     ]
    },
    {
     "cell_type": "code",
     "collapsed": false,
     "input": [
      "alpha = -0.04\n",
      "values = []\n",
      "queue = 0.0001*randn(100); qi = 0\n",
      "x = 0.0\n",
      "for i in range(10000):\n",
      "    values.append(x)\n",
      "    x += clip(alpha*queue[qi],-10,10)\n",
      "    queue[qi] = x; qi = (qi+1)%len(queue)"
     ],
     "language": "python",
     "metadata": {},
     "outputs": [],
     "prompt_number": 16
    },
    {
     "cell_type": "markdown",
     "metadata": {},
     "source": [
      "Note that delays in a differential equation tend to lead to oscillations even for very simple differential equations.\n",
      "\n"
     ]
    },
    {
     "cell_type": "code",
     "collapsed": false,
     "input": [
      "plot(values)"
     ],
     "language": "python",
     "metadata": {},
     "outputs": [
      {
       "metadata": {},
       "output_type": "pyout",
       "prompt_number": 17,
       "text": [
        "[<matplotlib.lines.Line2D at 0x7f3662c0bd50>]"
       ]
      },
      {
       "metadata": {},
       "output_type": "display_data",
       "png": "[encoded data removed]",
       "text": [
        "<matplotlib.figure.Figure at 0x7f36678db0d0>"
       ]
      }
     ],
     "prompt_number": 17
    },
    {
     "cell_type": "markdown",
     "metadata": {},
     "source": [
      "Very important example of delay differential equations: vehicle following, autonomous driving.\n",
      "\n",
      "velocity $v_i(t)$, headway (distance to next vehicle) $h_i(t)$, reaction time $\\tau$\n",
      "\n",
      "$$ \\dot v_i(t) = a_i(t) ( V(h_i(t-\\tau)) - v_i(t) ) $$\n",
      "$$ \\dot h_i(t) = v_{i+1}(t) - v_i(t) \\hbox{circular}$$\n",
      "$$ \\sum h_i(t) = L $$\n",
      "\n",
      "$V$ is a control strategy. \n",
      "\n",
      "- Control strategies using only $V(h_i(t-\\tau))$ tend to be unstable\n",
      "- Oscillations show up as traffic jams.\n",
      "- Control becomes easier if you look one more car ahead $h_i(t), $h_{i-1}(t)$\n"
     ]
    }
   ],
   "metadata": {}
  }
 ]
}