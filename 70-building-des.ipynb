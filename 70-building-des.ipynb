{
 "metadata": {
  "name": "70-building-des"
 },
 "nbformat": 3,
 "nbformat_minor": 0,
 "worksheets": [
  {
   "cells": [
    {
     "cell_type": "heading",
     "level": 1,
     "metadata": {},
     "source": [
      "Building Differential Equation Models"
     ]
    },
    {
     "cell_type": "code",
     "collapsed": false,
     "input": [
      "\n",
      "from scipy.integrate import odeint\n",
      "def mathaxes():\n",
      "    ax = gca()\n",
      "    ax.spines['left'].set_position('zero')\n",
      "    ax.spines['right'].set_color('none')\n",
      "    ax.spines['bottom'].set_position('zero')\n",
      "    ax.spines['top'].set_color('none')"
     ],
     "language": "python",
     "metadata": {},
     "outputs": [],
     "prompt_number": 1
    },
    {
     "cell_type": "markdown",
     "metadata": {},
     "source": [
      "The Epidemic Curve:\n",
      "    \n",
      "Sir Ronald Ross observed infectious diseases come in three forms:\n",
      "\n",
      "- endemic - small number of cases, fluctuating, only slow increase/decrease\n",
      "- outbreak - constantly present but flaring up in epidemic outbreaks\n",
      "- epidemic - intense outbreaks followed by disappearance\n",
      "\n",
      "What's the reason?"
     ]
    },
    {
     "cell_type": "heading",
     "level": 1,
     "metadata": {},
     "source": [
      "SIR Models"
     ]
    },
    {
     "cell_type": "markdown",
     "metadata": {},
     "source": [
      "$$ S \\rightarrow I \\rightarrow R $$\n",
      "\n",
      "Susceptible:\n",
      "\n",
      "$$ \\dot S = -\\beta S I $$\n",
      "\n",
      "Infected:\n",
      "\n",
      "$$ \\dot I = \\beta S I - \\gamma I $$\n",
      "\n",
      "Removed (resistant or dead): \n",
      "\n",
      "$$ \\dot R = \\gamma I $$\n",
      "\n",
      "Total population: $N$\n",
      "\n",
      "Initial population: $S_0\\approx N$"
     ]
    },
    {
     "cell_type": "markdown",
     "metadata": {},
     "source": [
      "Interpretation:\n",
      "\n",
      "- each infected individual transmits the pathogen to $b$ others per unit time\n",
      "- number of new cases per unit time $bI(S/N) = \\beta SI$ where $\\beta = b/N$\n",
      "- $\\gamma$ is the rate of recovery, or equivalently, the mean duration of illness (Poisson process)"
     ]
    },
    {
     "cell_type": "markdown",
     "metadata": {},
     "source": [
      "Rescaling the model:\n",
      "\n",
      "Express values as fraction of total population: $X = S/N$, $Y = I/N$, $Z = R/N$.\n",
      "\n",
      "$$ b = \\beta N$$\n",
      "\n",
      "$$ \\dot X = -bYZ $$\n",
      "$$ \\dot Y = bXY-\\gamma Y $$\n",
      "$$ \\dot Z = \\gamma Y $$\n",
      "\n",
      "We have two parameters now: $b$ and $\\gamma$."
     ]
    },
    {
     "cell_type": "markdown",
     "metadata": {},
     "source": [
      "Rescaling in time:\n",
      "\n",
      "We can eliminate the $\\gamma$ parameter by rescaling in time as well:\n",
      "\n",
      "- $\\gamma$ is mean duration of infection\n",
      "- express time as a multiple of this $\\tau = t/\\gamma$\n",
      "- this reduces the equations to a single parameter $\\rho = \\beta N / \\gamma$\n",
      "- $\\rho$ is the _basic reproductive rate_ of the disease\n",
      "\n",
      "$$\\dot X = -\\rho XY $$\n",
      "$$\\dot Y = \\rho XY - Y $$\n",
      "$$\\dot Z = Y $$"
     ]
    },
    {
     "cell_type": "code",
     "collapsed": false,
     "input": [
      "def F(rho):\n",
      "    def f(v,_): x,y,z = tuple(v); return (-rho*x*y,rho*x*y-y,y)\n",
      "    return f"
     ],
     "language": "python",
     "metadata": {},
     "outputs": [],
     "prompt_number": 2
    },
    {
     "cell_type": "code",
     "collapsed": false,
     "input": [
      "t = linspace(0,1000.0,1000)\n",
      "plot(t,odeint(F(1),(0.99,0.01,0),t))"
     ],
     "language": "python",
     "metadata": {},
     "outputs": [
      {
       "output_type": "pyout",
       "prompt_number": 3,
       "text": [
        "[<matplotlib.lines.Line2D at 0x44d32d0>,\n",
        " <matplotlib.lines.Line2D at 0x44d3510>,\n",
        " <matplotlib.lines.Line2D at 0x44d3710>]"
       ]
      },
      {
       "output_type": "display_data",
       "png": "[encoded data removed]"
      }
     ],
     "prompt_number": 3
    },
    {
     "cell_type": "code",
     "collapsed": false,
     "input": [
      "t = linspace(0,100.0,1000)\n",
      "plot(t,odeint(F(1.5),(0.99,0.01,0),t))"
     ],
     "language": "python",
     "metadata": {},
     "outputs": [
      {
       "output_type": "pyout",
       "prompt_number": 4,
       "text": [
        "[<matplotlib.lines.Line2D at 0x45e9810>,\n",
        " <matplotlib.lines.Line2D at 0x45e9a50>,\n",
        " <matplotlib.lines.Line2D at 0x45e9c50>]"
       ]
      },
      {
       "output_type": "display_data",
       "png": "[encoded data removed]"
      }
     ],
     "prompt_number": 4
    },
    {
     "cell_type": "code",
     "collapsed": false,
     "input": [
      "t = linspace(0,10.0,1000)\n",
      "plot(t,odeint(F(5.0),(0.99,0.01,0),t))"
     ],
     "language": "python",
     "metadata": {},
     "outputs": [
      {
       "output_type": "pyout",
       "prompt_number": 5,
       "text": [
        "[<matplotlib.lines.Line2D at 0x493fb10>,\n",
        " <matplotlib.lines.Line2D at 0x493fd50>,\n",
        " <matplotlib.lines.Line2D at 0x493ff50>]"
       ]
      },
      {
       "output_type": "display_data",
       "png": "[encoded data removed]"
      }
     ],
     "prompt_number": 5
    },
    {
     "cell_type": "heading",
     "level": 1,
     "metadata": {},
     "source": [
      "SIS Models"
     ]
    },
    {
     "cell_type": "markdown",
     "metadata": {},
     "source": [
      "Some diseases have oscillations.\n",
      "\n",
      "For that to occur, there has to be a constant supply of new susceptible individuals:\n",
      "\n",
      "- disease don't confer immunity OR\n",
      "- new births in the community"
     ]
    },
    {
     "cell_type": "markdown",
     "metadata": {},
     "source": [
      "$$ S \\rightarrow I \\rightarrow S $$\n",
      "\n",
      "$$ \\dot S = -\\beta S I + \\gamma I $$\n",
      "$$ \\dot I = \\beta S I - \\gamma I $$"
     ]
    },
    {
     "cell_type": "markdown",
     "metadata": {},
     "source": [
      "Rescaling:\n",
      "\n",
      "$$ \\dot X = -\\rho X Y + Y $$\n",
      "$$ \\dot Y = \\rho X Y - Y $$\n",
      "\n",
      "Using $ X + Y = 1 $$:\n",
      "\n",
      "$$\\dot Y = r Y (1-Y/K) $$\n",
      "\n",
      "with $r = \\rho - 1$ and $K = (\\rho-1)/\\rho$\n",
      "\n",
      "This is just the logistic regression, so it doesn't oscillate."
     ]
    },
    {
     "cell_type": "heading",
     "level": 1,
     "metadata": {},
     "source": [
      "SIR Model with Birth"
     ]
    },
    {
     "cell_type": "markdown",
     "metadata": {},
     "source": [
      "Constant birth/death rates:\n",
      "\n",
      "- $\\mu N$ is the birth rate\n",
      "- $- \\mu S$ etc. are the death rates\n",
      "- they balance out\n",
      "- note that $R$ is not death\n",
      "- equations constantly take individuals out of each population and put them back into $S$\n",
      "\n",
      "$$ \\dot S = - \\beta S I + \\mu N - \\mu S $$\n",
      "$$ \\dot I = \\beta S I - \\gamma I - \\mu I $$\n",
      "$$ \\dot R = \\gamma I - \\mu R $$"
     ]
    },
    {
     "cell_type": "markdown",
     "metadata": {},
     "source": [
      "Rescaling:\n",
      "\n",
      "$X = S/N$, $L = \\beta I$, $S+I+R=N$\n",
      "\n",
      "New equations (work this out yourself):\n",
      "\n",
      "$$ \\dot X = \\mu(1-X)-L X $$\n",
      "$$ \\dot L = (\\gamma+\\mu) L (\\rho X - 1) $$"
     ]
    },
    {
     "cell_type": "markdown",
     "metadata": {},
     "source": [
      "Jacobian:\n",
      "\n",
      "$$ J(X,L) = \\left ( \\begin{matrix} \\frac{\\partial \\dot X}{\\partial X} & \\frac{\\partial \\dot X}{\\partial L} \\\\\\\\ \\frac{\\partial \\dot L}{\\partial X} & \\frac{\\partial \\dot L}{\\partial L} \\end{matrix} \\right ) = \\left ( \\begin{matrix} -\\mu-L & -X \\\\\\\\ (\\gamma+\\mu)L\\rho & (\\gamma+\\mu)(\\rho X-1) \\end{matrix} \\right ) $$\n",
      "\n",
      "This gives us the linearized pattern of nullclines around some stable point.\n",
      "\n",
      "- we can get stable steady states\n",
      "- dampened oscillations towards a steady state\n",
      "- continuous oscillations"
     ]
    },
    {
     "cell_type": "code",
     "collapsed": false,
     "input": [
      "def F(mu,rho,gamma):\n",
      "    def f(v,_): x,l = tuple(v); return(mu*(1-x)-l*x,(gamma+mu)*l*(rho*x-1))\n",
      "    return f"
     ],
     "language": "python",
     "metadata": {},
     "outputs": [],
     "prompt_number": 6
    },
    {
     "cell_type": "code",
     "collapsed": false,
     "input": [
      "t = linspace(0,100.0,1000)\n",
      "plot(t,odeint(F(0.05,1.7,1.2),(0.99,0.01),t))"
     ],
     "language": "python",
     "metadata": {},
     "outputs": [
      {
       "output_type": "pyout",
       "prompt_number": 7,
       "text": [
        "[<matplotlib.lines.Line2D at 0x4a5e610>,\n",
        " <matplotlib.lines.Line2D at 0x4a5e850>]"
       ]
      },
      {
       "output_type": "display_data",
       "png": "[encoded data removed]"
      }
     ],
     "prompt_number": 7
    },
    {
     "cell_type": "heading",
     "level": 1,
     "metadata": {},
     "source": [
      "Parameter Fitting for Models"
     ]
    },
    {
     "cell_type": "markdown",
     "metadata": {},
     "source": [
      "Next steps:\n",
      "\n",
      "- make reasonable guesses of ranges for $\\mu$, $\\gamma$, $\\beta$ based on first principles\n",
      "- try to fit parameters to match observed data"
     ]
    },
    {
     "cell_type": "markdown",
     "metadata": {},
     "source": [
      "Let's just simulate some observations: a steady state of 50% infected, but with some oscillations. Can we find parameters matching such data?\n",
      "\n"
     ]
    },
    {
     "cell_type": "code",
     "collapsed": false,
     "input": [
      "ylim((0,1))\n",
      "data = 0.5+0.1*sin(t/7.0)\n",
      "plot(t,data)"
     ],
     "language": "python",
     "metadata": {},
     "outputs": [
      {
       "output_type": "pyout",
       "prompt_number": 8,
       "text": [
        "[<matplotlib.lines.Line2D at 0x4a87b90>]"
       ]
      },
      {
       "output_type": "display_data",
       "png": "[encoded data removed]"
      }
     ],
     "prompt_number": 8
    },
    {
     "cell_type": "markdown",
     "metadata": {},
     "source": [
      "We start parameter optimization by computing the error for a given set of parameters. Parameters are both initial conditions $(x,l)$ and the actual parameters of the equation.\n",
      "\n"
     ]
    },
    {
     "cell_type": "code",
     "collapsed": false,
     "input": [
      "def error(params):\n",
      "    mu,rho,gamma,x,l = tuple(params)\n",
      "    pred = odeint(F(mu,rho,gamma),(x,l),t,rtol=1e-8,atol=1e-8)\n",
      "    return sum((pred[:,0]-data)**2)"
     ],
     "language": "python",
     "metadata": {},
     "outputs": [],
     "prompt_number": 9
    },
    {
     "cell_type": "markdown",
     "metadata": {},
     "source": [
      "There are many different optimization algorithms possible. We prefer one that doesn't require computing derivatives. Nelder-Mead is a good and simple first choice.\n",
      "\n"
     ]
    },
    {
     "cell_type": "code",
     "collapsed": false,
     "input": [
      "from scipy.optimize import minimize\n",
      "initial = (0.05,1.7,1.2,0.9,0.1)\n",
      "result = minimize(error,initial,method='nelder-mead',options=dict(xtol=1e-4,disp=True,maxiter=10000))\n",
      "print result"
     ],
     "language": "python",
     "metadata": {},
     "outputs": [
      {
       "output_type": "stream",
       "stream": "stdout",
       "text": [
        "Optimization terminated successfully.\n",
        "         Current function value: 1.046567\n",
        "         Iterations: 599\n",
        "         Function evaluations: 970\n",
        "  status: 0\n",
        "    nfev: 970\n",
        " success: True\n",
        "     fun: 1.0465668211386552\n",
        "       x: array([  1.23405477e-02,   2.02340805e+00,   2.17068265e+00,\n",
        "         5.41178930e-01,   2.00555648e-05])\n",
        " message: 'Optimization terminated successfully.'\n",
        "     nit: 599\n"
       ]
      }
     ],
     "prompt_number": 10
    },
    {
     "cell_type": "markdown",
     "metadata": {},
     "source": [
      "Optimization with Nelder-Mead gives us a reasonably good match to the data.\n",
      "\n"
     ]
    },
    {
     "cell_type": "code",
     "collapsed": false,
     "input": [
      "mu,rho,gamma,x,l = result.x\n",
      "ylim((0,1))\n",
      "plot(t,odeint(F(mu,rho,gamma),(x,l),t))\n",
      "plot(t,data)"
     ],
     "language": "python",
     "metadata": {},
     "outputs": [
      {
       "output_type": "pyout",
       "prompt_number": 11,
       "text": [
        "[<matplotlib.lines.Line2D at 0x50ddbd0>]"
       ]
      },
      {
       "output_type": "display_data",
       "png": "[encoded data removed]"
      }
     ],
     "prompt_number": 11
    },
    {
     "cell_type": "code",
     "collapsed": false,
     "input": [
      "from scipy.ndimage import gaussian_filter as G\n",
      "data0 = 0.5+0.1*sin(t/7.0)\n",
      "ylim((0,1))\n",
      "data = data0 + 0.05*G(randn(len(data0)),10.0)\n",
      "plot(t,data)"
     ],
     "language": "python",
     "metadata": {},
     "outputs": [
      {
       "output_type": "pyout",
       "prompt_number": 15,
       "text": [
        "[<matplotlib.lines.Line2D at 0x5815250>]"
       ]
      },
      {
       "output_type": "display_data",
       "png": "[encoded data removed]"
      }
     ],
     "prompt_number": 15
    },
    {
     "cell_type": "code",
     "collapsed": false,
     "input": [
      "results = []\n",
      "for i in range(10):\n",
      "    data = data0 + 0.05*randn(len(data0))\n",
      "    initial = (0.05,1.7,1.2,0.9,0.1)\n",
      "    result = minimize(error,initial,method='nelder-mead',options=dict(xtol=1e-6,disp=False,maxiter=1000))\n",
      "    print i,result.x\n",
      "    results.append(result)"
     ],
     "language": "python",
     "metadata": {},
     "outputs": [
      {
       "output_type": "stream",
       "stream": "stdout",
       "text": [
        "Excess work done on this call (perhaps wrong Dfun type).\n",
        "Run with full_output = 1 to get quantitative information.\n",
        "Excess work done on this call (perhaps wrong Dfun type)."
       ]
      },
      {
       "output_type": "stream",
       "stream": "stdout",
       "text": [
        "\n",
        "Run with full_output = 1 to get quantitative information.\n",
        "0"
       ]
      },
      {
       "output_type": "stream",
       "stream": "stdout",
       "text": [
        " [  1.47686975e-02   2.01836690e+00   1.60763901e+00   5.46792955e-01\n",
        "   9.65241455e-05]\n",
        "Excess work done on this call (perhaps wrong Dfun type)."
       ]
      },
      {
       "output_type": "stream",
       "stream": "stdout",
       "text": [
        "\n",
        "Run with full_output = 1 to get quantitative information.\n",
        "1"
       ]
      },
      {
       "output_type": "stream",
       "stream": "stdout",
       "text": [
        " [  1.38389585e-02   2.03003167e+00   1.74244059e+00   5.38638692e-01\n",
        "   7.23567143e-05]\n",
        "2"
       ]
      },
      {
       "output_type": "stream",
       "stream": "stdout",
       "text": [
        " [  1.20035613e-02   2.02890751e+00   2.22055043e+00   5.37187389e-01\n",
        "   2.34597792e-05]\n",
        "Excess work done on this call (perhaps wrong Dfun type)."
       ]
      },
      {
       "output_type": "stream",
       "stream": "stdout",
       "text": [
        "\n",
        "Run with full_output = 1 to get quantitative information.\n",
        "Excess work done on this call (perhaps wrong Dfun type)."
       ]
      },
      {
       "output_type": "stream",
       "stream": "stdout",
       "text": [
        "\n",
        "Run with full_output = 1 to get quantitative information.\n",
        "Excess work done on this call (perhaps wrong Dfun type).\n",
        "Run with full_output = 1 to get quantitative information.\n",
        "Excess work done on this call (perhaps wrong Dfun type)."
       ]
      },
      {
       "output_type": "stream",
       "stream": "stdout",
       "text": [
        "\n",
        "Run with full_output = 1 to get quantitative information.\n",
        "Excess work done on this call (perhaps wrong Dfun type).\n",
        "Run with full_output = 1 to get quantitative information.\n",
        "Excess work done on this call (perhaps wrong Dfun type)."
       ]
      },
      {
       "output_type": "stream",
       "stream": "stdout",
       "text": [
        "\n",
        "Run with full_output = 1 to get quantitative information.\n",
        "Excess work done on this call (perhaps wrong Dfun type)."
       ]
      },
      {
       "output_type": "stream",
       "stream": "stdout",
       "text": [
        "\n",
        "Run with full_output = 1 to get quantitative information.\n",
        "Excess work done on this call (perhaps wrong Dfun type)."
       ]
      },
      {
       "output_type": "stream",
       "stream": "stdout",
       "text": [
        "\n",
        "Run with full_output = 1 to get quantitative information.\n",
        "3"
       ]
      },
      {
       "output_type": "stream",
       "stream": "stdout",
       "text": [
        " [  1.28264072e-02   2.01949652e+00   2.05271984e+00   5.39099404e-01\n",
        "   3.13429560e-05]\n",
        "4"
       ]
      },
      {
       "output_type": "stream",
       "stream": "stdout",
       "text": [
        " [  1.39676423e-02   2.03361734e+00   1.74213384e+00   5.43501459e-01\n",
        "   5.17034513e-05]\n",
        "Excess work done on this call (perhaps wrong Dfun type)."
       ]
      },
      {
       "output_type": "stream",
       "stream": "stdout",
       "text": [
        "\n",
        "Run with full_output = 1 to get quantitative information.\n",
        "5"
       ]
      },
      {
       "output_type": "stream",
       "stream": "stdout",
       "text": [
        " [  1.46976823e-02   2.02355149e+00   1.52485958e+00   5.41710814e-01\n",
        "   2.08350241e-04]\n",
        "Excess work done on this call (perhaps wrong Dfun type)."
       ]
      },
      {
       "output_type": "stream",
       "stream": "stdout",
       "text": [
        "\n",
        "Run with full_output = 1 to get quantitative information.\n",
        "6"
       ]
      },
      {
       "output_type": "stream",
       "stream": "stdout",
       "text": [
        " [  1.30846533e-02   2.03355772e+00   1.98394520e+00   5.37674003e-01\n",
        "   2.60507739e-05]\n",
        "Excess work done on this call (perhaps wrong Dfun type)."
       ]
      },
      {
       "output_type": "stream",
       "stream": "stdout",
       "text": [
        "\n",
        "Run with full_output = 1 to get quantitative information.\n",
        "7"
       ]
      },
      {
       "output_type": "stream",
       "stream": "stdout",
       "text": [
        " [  1.22786676e-02   2.03098636e+00   2.20034472e+00   5.43232987e-01\n",
        "   1.41386954e-05]\n",
        "Excess work done on this call (perhaps wrong Dfun type)."
       ]
      },
      {
       "output_type": "stream",
       "stream": "stdout",
       "text": [
        "\n",
        "Run with full_output = 1 to get quantitative information.\n",
        "Excess work done on this call (perhaps wrong Dfun type)."
       ]
      },
      {
       "output_type": "stream",
       "stream": "stdout",
       "text": [
        "\n",
        "Run with full_output = 1 to get quantitative information.\n",
        "8"
       ]
      },
      {
       "output_type": "stream",
       "stream": "stdout",
       "text": [
        " [  1.21041822e-02   2.02991465e+00   2.21981275e+00   5.39325589e-01\n",
        "   1.81061522e-05]\n",
        "9"
       ]
      },
      {
       "output_type": "stream",
       "stream": "stdout",
       "text": [
        " [  1.20469514e-02   2.02787696e+00   2.13171763e+00   5.44498268e-01\n",
        "   2.66320564e-05]\n"
       ]
      }
     ],
     "prompt_number": 16
    },
    {
     "cell_type": "code",
     "collapsed": false,
     "input": [
      "xs = array([r.x for r in results])\n",
      "_=boxplot(xs)"
     ],
     "language": "python",
     "metadata": {},
     "outputs": [
      {
       "output_type": "display_data",
       "png": "[encoded data removed]"
      }
     ],
     "prompt_number": 17
    },
    {
     "cell_type": "heading",
     "level": 1,
     "metadata": {},
     "source": [
      "Disease? Computer Science?"
     ]
    },
    {
     "cell_type": "markdown",
     "metadata": {},
     "source": [
      "User growth:\n",
      "\n",
      "- If you know nothing else, what kind of curve would you predict for introducing a new service like Google+?\n",
      "- How does growth actually work? How does it relate to the actual social network?\n",
      "- (We'll return to the dimensionality of social graphs later.)"
     ]
    },
    {
     "cell_type": "markdown",
     "metadata": {},
     "source": [
      "Facebook vs. Google Plus:\n",
      "\n",
      "$$ \\dot I = - \\phi F - \\gamma G $$\n",
      "$$ \\dot F = \\phi I - \\epsilon F + \\delta G $$\n",
      "$$ \\dot G = \\gamma G + \\epsilon F - \\delta G $$"
     ]
    },
    {
     "cell_type": "markdown",
     "metadata": {},
     "source": [
      "Questions:\n",
      "\n",
      "- Assuming $G = 0.1F$ and some other parameters, can Google catch up at all?\n",
      "- Assuming $\\phi$ and $\\gamma$ are about the same, how much bigger does $\\epsilon$ have to be than $\\delta$?\n",
      "- What are reasonable parameter values?\n",
      "- Are oscillations possible?\n",
      "- If users return to an inactive state at some rate $\\lambda$, how does that change things?"
     ]
    },
    {
     "cell_type": "markdown",
     "metadata": {},
     "source": [
      "Network Users:\n",
      "\n",
      "- inactive users $I$ become active at some rate $\\alpha$\n",
      "- active users $A$ become inactive at some base rate $\\beta$\n",
      "- network slowdown is proportional to $s = 1-(A/M)^2$, where $M$ is the maximum user population\n",
      "- active users become inactive due to frustration at some rate $\\phi(s)$, where $\\phi(0)=0$ and $\\phi(1)=1$"
     ]
    }
   ],
   "metadata": {}
  }
 ]
}