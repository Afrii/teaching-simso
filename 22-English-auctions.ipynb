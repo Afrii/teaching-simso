{
 "metadata": {
  "name": "22-English-auctions"
 },
 "nbformat": 3,
 "nbformat_minor": 0,
 "worksheets": [
  {
   "cells": [
    {
     "cell_type": "code",
     "collapsed": false,
     "input": [
      "from pylab import *"
     ],
     "language": "python",
     "metadata": {},
     "outputs": [],
     "prompt_number": 66
    },
    {
     "cell_type": "heading",
     "level": 1,
     "metadata": {},
     "source": [
      "English Auctions"
     ]
    },
    {
     "cell_type": "markdown",
     "metadata": {},
     "source": [
      "English auctions:\n",
      "\n",
      "English auctions are the kind of auctions we are most familiar with.\n",
      "\n",
      "- an item is shown\n",
      "- the auctioneer solitics bids from all participants\n",
      "- participants can choose to make a bid higher by some increment or can choose not to bid\n",
      "- the highest bid wins"
     ]
    },
    {
     "cell_type": "markdown",
     "metadata": {},
     "source": [
      "Dropping out vs Not Bidding:\n",
      "\n",
      "Rational agents in a setting with no adaptation or interaction would simply bid until they reach some limit.\n",
      "\n",
      "Not bidding when polled bears the risk that the auction is won by someone else (opportunity cost).\n",
      "\n",
      "However, agents might sit out one round if they assume that other agents are observing their actions, or because the last bids caused them to conclude that the value of the item is lower, but they revise that estimate in light of later bids."
     ]
    },
    {
     "cell_type": "markdown",
     "metadata": {},
     "source": [
      "Private Value Model:\n",
      "\n",
      "How is the value of the item determined?\n",
      "\n",
      "- We assume that there is a base value normally distributed according to $V \\tilde~ G(\\mu,\\sigma)$\n",
      "- There is an additional (optional) private value variation with distribution $V_p = V + Q$ where $Q \\tilde~ G(0,\\sigma_p)$\n",
      "- Each participant receives an estimate of their private value $\\tilde{V_p} = V_p + \\nu$ where $\\nu \\tilde~ G(0,\\sigma_u)$"
     ]
    },
    {
     "cell_type": "markdown",
     "metadata": {},
     "source": [
      "Information sources:\n",
      "\n",
      "There are two source of information about the value of an item:\n",
      "\n",
      "- the private estimate $\\tilde{V_p}$\n",
      "- the collection of bids made by other participants in the auction"
     ]
    },
    {
     "cell_type": "markdown",
     "metadata": {},
     "source": [
      "Profit:\n",
      "\n",
      "The profit of every participant over time is the difference of:\n",
      "\n",
      "- the private value gained\n",
      "- the money paid in bids"
     ]
    },
    {
     "cell_type": "code",
     "collapsed": false,
     "input": [
      "# auctioneer for an English auction\n",
      "class Auctioneer:\n",
      "    def __init__(self,participants,mu=100.0,sigma=20.0,psigma=0.0,uncertainty=10.0):\n",
      "        self.participants = participants\n",
      "        self.mu = mu\n",
      "        self.sigma = sigma\n",
      "        self.psigma = psigma\n",
      "        self.uncertainty = uncertainty\n",
      "        self.increment = 1.0\n",
      "    def genvalue(self):\n",
      "        return clip(self.mu+randn()*self.sigma,0.0,1e6)\n",
      "    def auction(self,verbose=0):\n",
      "        value = self.genvalue()\n",
      "        for p in self.participants:\n",
      "            pvalue = clip(value + randn() * self.psigma,0.0,1e6)\n",
      "            estimate = pvalue + randn() * self.uncertainty\n",
      "            p.pvalue = pvalue\n",
      "            p.giveEstimate(estimate)\n",
      "        last = -self.increment\n",
      "        winner = None\n",
      "        for p in self.participants:\n",
      "            p.startBidding(len(self.participants))\n",
      "        for round in range(1000):\n",
      "            success = 0            \n",
      "            for i,p in enumerate(self.participants):\n",
      "                bid = p.solicitBid(last,self.increment)\n",
      "                for q in self.participants:\n",
      "                    q.announce(bid,i) # NB: difference between no bid and dropping out\n",
      "                if bid is None: continue\n",
      "                if verbose: print bid,winner\n",
      "                assert bid>=last+self.increment\n",
      "                last = bid\n",
      "                winner = i\n",
      "                success = 1\n",
      "            if not success: break\n",
      "        w = self.participants[winner]\n",
      "        w.balance -= last\n",
      "        w.value += w.pvalue\n",
      "        return winner,last,w.pvalue\n",
      "    def gains(self,N=100):\n",
      "        for i in range(N): self.auction()\n",
      "        return tuple([p.gain()/N for p in self.participants])"
     ],
     "language": "python",
     "metadata": {},
     "outputs": [],
     "prompt_number": 71
    },
    {
     "cell_type": "markdown",
     "metadata": {},
     "source": [
      "The simple bidder just bids up to a fraction of their estimate of the private value of the item."
     ]
    },
    {
     "cell_type": "code",
     "collapsed": false,
     "input": [
      "# simple bidder\n",
      "class Bidder:\n",
      "    def __init__(self,maxbid=0.8):\n",
      "        self.balance = 0.0\n",
      "        self.value = 0.0\n",
      "        self.maxbid = maxbid\n",
      "    def giveEstimate(self,estimate):\n",
      "        self.estimate = estimate\n",
      "    def startBidding(self,n):\n",
      "        self.bidders = [-1.0]*n\n",
      "    def announce(self,bid,bidder):\n",
      "        self.bidders[bidder] = bid\n",
      "    def solicitBid(self,last,incr):\n",
      "        if last+incr<self.maxbid*self.estimate:\n",
      "            return last+incr\n",
      "    def gain(self):\n",
      "        return self.value+self.balance"
     ],
     "language": "python",
     "metadata": {},
     "outputs": [],
     "prompt_number": 73
    },
    {
     "cell_type": "code",
     "collapsed": false,
     "input": [
      "participants = [Bidder() for i in range(5)]\n",
      "auctioneer = Auctioneer(participants)\n",
      "auctioneer.gains()"
     ],
     "language": "python",
     "metadata": {},
     "outputs": [
      {
       "output_type": "pyout",
       "prompt_number": 74,
       "text": [
        "(2.205314868771302,\n",
        " 1.2098102298952653,\n",
        " 2.0889592570658557,\n",
        " 2.263475877601504,\n",
        " 2.4863658494225045)"
       ]
      }
     ],
     "prompt_number": 74
    },
    {
     "cell_type": "heading",
     "level": 1,
     "metadata": {},
     "source": [
      "Winner's Curse"
     ]
    },
    {
     "cell_type": "markdown",
     "metadata": {},
     "source": [
      "In a symmetric setting, `maxbid` for this choice of distributions should be set somewhat below the true value of the item, otherwise the winner is afflicted by the _winner's curse_. That's because the auction select for people who accidentally overestimate the private value of the item.\n"
     ]
    },
    {
     "cell_type": "code",
     "collapsed": false,
     "input": [
      "for m in linspace(0.5,1.0,6):\n",
      "    participants = [Bidder(maxbid=m) for i in range(5)]\n",
      "    auctioneer = Auctioneer(participants)\n",
      "    print m,mean(auctioneer.gains(N=1000))"
     ],
     "language": "python",
     "metadata": {},
     "outputs": [
      {
       "output_type": "stream",
       "stream": "stdout",
       "text": [
        "0.5 "
       ]
      },
      {
       "output_type": "stream",
       "stream": "stdout",
       "text": [
        "8.9460120351\n",
        "0.6 "
       ]
      },
      {
       "output_type": "stream",
       "stream": "stdout",
       "text": [
        "6.65084953128\n",
        "0.7 "
       ]
      },
      {
       "output_type": "stream",
       "stream": "stdout",
       "text": [
        "4.49585360683\n",
        "0.8 "
       ]
      },
      {
       "output_type": "stream",
       "stream": "stdout",
       "text": [
        "2.17616941795\n",
        "0.9 "
       ]
      },
      {
       "output_type": "stream",
       "stream": "stdout",
       "text": [
        "0.0209089858165\n",
        "1.0 "
       ]
      },
      {
       "output_type": "stream",
       "stream": "stdout",
       "text": [
        "-2.16911006642\n"
       ]
      }
     ],
     "prompt_number": 76
    },
    {
     "cell_type": "heading",
     "level": 1,
     "metadata": {},
     "source": [
      "Using Information of Other Participants"
     ]
    },
    {
     "cell_type": "markdown",
     "metadata": {},
     "source": [
      "A smart bidder uses information from other participants in the auction. Let's create a simple smart bidder:\n",
      "\n",
      "- the bidder has a safe limit and a risky limit\n",
      "- he stays in the auction if below the safe limit, or if below the risky limit and there are still enough other participants to make it seem safe\n"
     ]
    },
    {
     "cell_type": "code",
     "collapsed": false,
     "input": [
      "class SmartBidder:\n",
      "    def __init__(self,maxbid=0.8,risky=1.0):\n",
      "        self.balance = 0.0\n",
      "        self.value = 0.0\n",
      "        self.maxbid = maxbid\n",
      "        self.risky = risky\n",
      "    def giveEstimate(self,estimate):\n",
      "        self.estimate = estimate\n",
      "    def startBidding(self,n):\n",
      "        self.bidders = [0.0]*n\n",
      "        self.active = n\n",
      "    def announce(self,bid,bidder):\n",
      "        if bid is None and self.bidders[bidder] is not None:\n",
      "            self.active -= 1\n",
      "        self.bidders[bidder] = bid\n",
      "    def solicitBid(self,last,incr):\n",
      "        if last+incr<self.maxbid*self.estimate:\n",
      "            return last+incr\n",
      "        if last+incr<self.risky*self.estimate and self.active>=3:\n",
      "            return last+incr\n",
      "        return None\n",
      "    def gain(self):\n",
      "        return self.value+self.balance"
     ],
     "language": "python",
     "metadata": {},
     "outputs": [],
     "prompt_number": 63
    },
    {
     "cell_type": "code",
     "collapsed": false,
     "input": [
      "for m in linspace(0.5,1.0,6):\n",
      "    participants = [SmartBidder(maxbid=m,risky=m+0.2)]+[Bidder(maxbid=m) for i in range(4)]\n",
      "    auctioneer = Auctioneer(participants)\n",
      "    g = auctioneer.gains(N=10000)\n",
      "    participants = [Bidder(maxbid=m+0.2)]+[Bidder(maxbid=m) for i in range(4)]\n",
      "    auctioneer = Auctioneer(participants)\n",
      "    h = auctioneer.gains(N=10000)\n",
      "    print m,\"smart\",g[0],\"risky\",h[0],\"smart-others\",mean(g[1:]),\"risky-others\",mean(h[1:])\n",
      "    "
     ],
     "language": "python",
     "metadata": {},
     "outputs": [
      {
       "output_type": "stream",
       "stream": "stdout",
       "text": [
        "0.5 smart 15.0150922895 risky 28.624387843 smart-others 7.38789361547 risky-others 0.391666584084\n",
        "0.6"
       ]
      },
      {
       "output_type": "stream",
       "stream": "stdout",
       "text": [
        " smart 10.3083580541 risky 18.1339082998 smart-others 5.82506507554 risky-others 0.506531142002\n",
        "0.7"
       ]
      },
      {
       "output_type": "stream",
       "stream": "stdout",
       "text": [
        " smart 6.8578690038 risky 7.8654160059 smart-others 3.86668288789 risky-others 0.512760510501\n",
        "0.8"
       ]
      },
      {
       "output_type": "stream",
       "stream": "stdout",
       "text": [
        " smart 3.31861787529 risky -1.62269257178 smart-others 1.95440353669 risky-others 0.252102293826\n",
        "0.9"
       ]
      },
      {
       "output_type": "stream",
       "stream": "stdout",
       "text": [
        " smart 0.258843172478 risky -10.3465441388 smart-others -0.0890251015037 risky-others -0.204970402965\n",
        "1.0"
       ]
      },
      {
       "output_type": "stream",
       "stream": "stdout",
       "text": [
        " smart -2.6061725043 risky -18.0559950088 smart-others -2.14888575995 risky-others -0.900765803449\n"
       ]
      }
     ],
     "prompt_number": 78
    },
    {
     "cell_type": "heading",
     "level": 1,
     "metadata": {},
     "source": [
      "Population Dependency of Strategies"
     ]
    },
    {
     "cell_type": "markdown",
     "metadata": {},
     "source": [
      "Note that a smart bidder beats a risky bidder vs regular bidders."
     ]
    },
    {
     "cell_type": "code",
     "collapsed": false,
     "input": [
      "for m in linspace(0.5,1.0,6):\n",
      "    participants = [SmartBidder(maxbid=m,risky=m+0.2) for i in range(5)]\n",
      "    auctioneer = Auctioneer(participants)\n",
      "    g = auctioneer.gains(N=10000)\n",
      "    participants = [Bidder(maxbid=m) for i in range(5)]\n",
      "    auctioneer = Auctioneer(participants)\n",
      "    h = auctioneer.gains(N=10000)\n",
      "    print m,\"smart\",mean(g),\"dumb\",mean(h)\n"
     ],
     "language": "python",
     "metadata": {},
     "outputs": [
      {
       "output_type": "stream",
       "stream": "stdout",
       "text": [
        "0.5 smart 5.88616474396 dumb 8.91795009093\n",
        "0.6"
       ]
      },
      {
       "output_type": "stream",
       "stream": "stdout",
       "text": [
        " smart 3.90990204248 dumb 6.69898707353\n",
        "0.7"
       ]
      },
      {
       "output_type": "stream",
       "stream": "stdout",
       "text": [
        " smart 1.89614093175 dumb 4.47528150276\n",
        "0.8"
       ]
      },
      {
       "output_type": "stream",
       "stream": "stdout",
       "text": [
        " smart -0.136330204419 dumb 2.23436647775\n",
        "0.9"
       ]
      },
      {
       "output_type": "stream",
       "stream": "stdout",
       "text": [
        " smart -2.18623821023 dumb 0.00722432760355\n",
        "1.0"
       ]
      },
      {
       "output_type": "stream",
       "stream": "stdout",
       "text": [
        " smart -4.23641026388 dumb -2.2471004348\n"
       ]
      }
     ],
     "prompt_number": 83
    },
    {
     "cell_type": "markdown",
     "metadata": {},
     "source": [
      "When populations of smart bidders are compared with populations of simple bidders, we find:\n",
      "\n",
      "- smart bidders do worse than simple bidders in that context\n",
      "- performance therefore does not just depend on the individual strategy, but the collection of strategies\n",
      "- smart bidders do better for the _seller_ in this context"
     ]
    },
    {
     "cell_type": "markdown",
     "metadata": {},
     "source": [
      "What strategy can you adopt to influence smart bidders?"
     ]
    },
    {
     "cell_type": "markdown",
     "metadata": {},
     "source": [
      "Shills:\n",
      "\n",
      "- Sellers of items secretly bid on their own items to above their expected value.\n",
      "- Bidders see the price signal from these shills and bid higher than they otherwise would.\n",
      "- If all bidders drop out, the seller buys his own item and has no loss (or a small loss from transaction costs)."
     ]
    },
    {
     "cell_type": "code",
     "collapsed": false,
     "input": [],
     "language": "python",
     "metadata": {},
     "outputs": []
    }
   ],
   "metadata": {}
  }
 ]
}