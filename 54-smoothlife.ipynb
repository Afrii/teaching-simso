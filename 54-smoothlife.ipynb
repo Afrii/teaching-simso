{
 "metadata": {
  "name": "54-smoothlife"
 },
 "nbformat": 3,
 "nbformat_minor": 0,
 "worksheets": [
  {
   "cells": [
    {
     "cell_type": "code",
     "collapsed": false,
     "input": [
      "\n",
      "from pylab import *\n",
      "from scipy.ndimage import filters,measurements\n",
      "import pygame\n",
      "from pygame import surfarray\n",
      "matplotlib.rc(\"image\",cmap=\"gray\")\n",
      "matplotlib.rc(\"image\",interpolation=\"nearest\")\n",
      "pygame.init()\n",
      "OR = logical_or\n",
      "AND = logical_and\n",
      "def unif(lo,hi,size=1):\n",
      "    if size==1: return rand()*(hi-lo)+lo\n",
      "    if type(size)==int: return rand(size)*(hi-lo)+lo\n",
      "    return rand(*size)*(hi-lo)+lo"
     ],
     "language": "python",
     "metadata": {},
     "outputs": [],
     "prompt_number": 1
    },
    {
     "cell_type": "code",
     "collapsed": false,
     "input": [
      "\n",
      "w,h = 512,512\n",
      "screen = pygame.display.set_mode((w,h))\n",
      "surface = pygame.Surface((w,h),depth=8)\n",
      "# for i in range(256): surface.set_palette_at(i,(i,i,i))\n",
      "\n",
      "def animate(images,n=20):\n",
      "    for i,image in enumerate(images):\n",
      "        if i>=n: break\n",
      "        b = array(255*clip(image,0,1),'B')\n",
      "        pygame.surfarray.blit_array(surface,b[:w,:h])\n",
      "        screen.blit(surface,(0,0))\n",
      "        pygame.display.flip()\n",
      "    return image\n",
      "        \n",
      "def iterate(f,a,n=100000):\n",
      "    for i in range(n):\n",
      "        yield a\n",
      "        a = f(a)\n",
      "    yield a\n",
      "    \n",
      "def random(p):\n",
      "    return 1.0*(rand(w,h)<p)"
     ],
     "language": "python",
     "metadata": {},
     "outputs": [],
     "prompt_number": 2
    },
    {
     "cell_type": "heading",
     "level": 1,
     "metadata": {},
     "source": [
      "Conway's Life with FFT"
     ]
    },
    {
     "cell_type": "code",
     "collapsed": false,
     "input": [
      "center = zeros((w,h))\n",
      "center[0,0] = 1\n",
      "surround = zeros((w,h))\n",
      "surround[:3,:3] = 1\n",
      "surround = roll(roll(surround,-1,0),-1,1)\n",
      "image = 1.0*(rand(w,h)>0.5)"
     ],
     "language": "python",
     "metadata": {},
     "outputs": [],
     "prompt_number": 3
    },
    {
     "cell_type": "code",
     "collapsed": false,
     "input": [
      "center_fft = fft2(center)\n",
      "surround_fft = fft2(surround)\n",
      "def life(image):\n",
      "    c = abs(ifft2(center_fft*fft2(image)))\n",
      "    s = abs(ifft2(surround_fft*fft2(image)))-c\n",
      "    c = floor(0.5+c)\n",
      "    s = floor(0.5+s)\n",
      "    return AND(s>=2,AND(s<=3,OR(c,s==3)))"
     ],
     "language": "python",
     "metadata": {},
     "outputs": [],
     "prompt_number": 4
    },
    {
     "cell_type": "code",
     "collapsed": false,
     "input": [
      "def blinker(size=(w,h)):\n",
      "    s = zeros(size); s[:,:] = 0; s[3:6,8] = 1; return s\n",
      "\n",
      "image = blinker()\n",
      "subplot(121); imshow(image[:16,:16].copy())\n",
      "image = life(image)\n",
      "subplot(122); imshow(image[:16,:16].copy())"
     ],
     "language": "python",
     "metadata": {},
     "outputs": [
      {
       "output_type": "pyout",
       "prompt_number": 5,
       "text": [
        "<matplotlib.image.AxesImage at 0x4510050>"
       ]
      },
      {
       "output_type": "display_data",
       "png": "[encoded data removed]"
      }
     ],
     "prompt_number": 5
    },
    {
     "cell_type": "code",
     "collapsed": false,
     "input": [
      "_=animate(iterate(life,random(0.5)),n=50)"
     ],
     "language": "python",
     "metadata": {},
     "outputs": [],
     "prompt_number": 6
    },
    {
     "cell_type": "heading",
     "level": 1,
     "metadata": {},
     "source": [
      "SmoothLife with FFT"
     ]
    },
    {
     "cell_type": "code",
     "collapsed": false,
     "input": [
      "from scipy.ndimage import interpolation\n",
      "def make_circle(r):\n",
      "    s = 7\n",
      "    x,y = mgrid[s*-r:s*r+1,s*-r:s*r+1]\n",
      "    g = 1.0*(x**2+y**2<=(s*r)**2)\n",
      "    g = filters.uniform_filter(g,s)\n",
      "    return g[::s,::s]\n",
      "imshow(make_circle(10))"
     ],
     "language": "python",
     "metadata": {},
     "outputs": [
      {
       "output_type": "pyout",
       "prompt_number": 7,
       "text": [
        "<matplotlib.image.AxesImage at 0x483df10>"
       ]
      },
      {
       "output_type": "display_data",
       "png": "[encoded data removed]"
      }
     ],
     "prompt_number": 7
    },
    {
     "cell_type": "code",
     "collapsed": false,
     "input": [
      "def normalize(s):\n",
      "    return s/sum(s)\n",
      "\n",
      "def make_fft_circle(r,size=(w,h)):\n",
      "    w,h = size\n",
      "    out = zeros((w,h))\n",
      "    c = make_circle(r)\n",
      "    cw,ch = c.shape\n",
      "    out[:cw,:ch] = c\n",
      "    return roll(roll(out,-(cw//2),0),-(ch//2),1)\n",
      "\n",
      "def make_fft_annulus(r1,r2,size=(w,h)):\n",
      "    outer = make_fft_circle(r2)\n",
      "    inner = make_fft_circle(r1)\n",
      "    return clip(outer-inner,0,1)\n",
      "\n",
      "\n",
      "subplot(121); imshow(make_fft_circle(100))\n",
      "subplot(122); imshow(make_fft_annulus(100,200))"
     ],
     "language": "python",
     "metadata": {},
     "outputs": [
      {
       "output_type": "pyout",
       "prompt_number": 8,
       "text": [
        "<matplotlib.image.AxesImage at 0x4671990>"
       ]
      },
      {
       "output_type": "display_data",
       "png": "[encoded data removed]"
      }
     ],
     "prompt_number": 8
    },
    {
     "cell_type": "code",
     "collapsed": false,
     "input": [
      "def between(x,a,b,r):\n",
      "    return 1/((1+exp((a-x)/r))*(1+exp((x-b)/r)))\n",
      "plot(between(linspace(0,1,1000),0.3,0.5,0.015))"
     ],
     "language": "python",
     "metadata": {},
     "outputs": [
      {
       "output_type": "pyout",
       "prompt_number": 9,
       "text": [
        "[<matplotlib.lines.Line2D at 0x5b50850>]"
       ]
      },
      {
       "output_type": "display_data",
       "png": "[encoded data removed]"
      }
     ],
     "prompt_number": 9
    },
    {
     "cell_type": "code",
     "collapsed": false,
     "input": [
      "class Fail(Exception): pass\n",
      "ri = 3\n",
      "ro = 9\n",
      "scenter = normalize(make_fft_circle(ri))\n",
      "scenter_fft = fft2(scenter)\n",
      "ssurround = normalize(make_fft_annulus(ri,ro))\n",
      "ssurround_fft = fft2(ssurround)\n",
      "a0,b0,b1,a1 = 0.28,0.35,0.4,0.55\n",
      "alpha = 0.003\n",
      "def slife(image):\n",
      "    if amax(image)<1e-4: raise Fail()\n",
      "    c = abs(ifft2(scenter_fft*fft2(image)))\n",
      "    s = abs(ifft2(ssurround_fft*fft2(image)))\n",
      "    #image[:,:] = OR(AND(c<0.5,AND(s>b0,s<b1)),AND(c>=0.5,AND(s>a0,s<a1)))\n",
      "    return where(c<0.5,between(s,b0,b1,alpha),between(s,a0,a1,alpha))\n",
      "subplot(121); imshow(scenter[:10,:10])\n",
      "subplot(122); imshow(ssurround[:10,:10])"
     ],
     "language": "python",
     "metadata": {},
     "outputs": [
      {
       "output_type": "pyout",
       "prompt_number": 10,
       "text": [
        "<matplotlib.image.AxesImage at 0x5b84050>"
       ]
      },
      {
       "output_type": "display_data",
       "png": "[encoded data removed]"
      }
     ],
     "prompt_number": 10
    },
    {
     "cell_type": "code",
     "collapsed": false,
     "input": [
      "for i in range(20):\n",
      "    a0,b0,b1,a1 = sorted(rand(4))\n",
      "    params = array([a0,b0,b1,a1])\n",
      "    try:\n",
      "        result = animate(iterate(slife,random(0.5)),n=50)\n",
      "    except Fail:\n",
      "        continue\n",
      "    if mean(result)<1e-3 or mean(result)>0.3: continue\n",
      "    print mean(result),params\n"
     ],
     "language": "python",
     "metadata": {},
     "outputs": [
      {
       "output_type": "stream",
       "stream": "stdout",
       "text": [
        "0.280994128522 [ 0.09895294  0.47083993  0.69783548  0.84106295]\n",
        "0.135445131454"
       ]
      },
      {
       "output_type": "stream",
       "stream": "stdout",
       "text": [
        " [ 0.39031611  0.51773147  0.82920138  0.87024696]\n"
       ]
      }
     ],
     "prompt_number": 11
    },
    {
     "cell_type": "code",
     "collapsed": false,
     "input": [
      "for i in range(20):\n",
      "    a0 = unif(0.245,0.255)\n",
      "    b0 = unif(0.280,0.290)\n",
      "    b1 = unif(0.39,0.42)\n",
      "    a1 = unif(0.44,0.47)\n",
      "    params = array([a0,b0,b1,a1])\n",
      "    try:\n",
      "        result = animate(iterate(slife,random(0.5)),n=50)\n",
      "    except Fail:\n",
      "        continue\n",
      "    if mean(result)<1e-3 or mean(result)>0.3: continue\n",
      "    print mean(result),params\n"
     ],
     "language": "python",
     "metadata": {},
     "outputs": [
      {
       "output_type": "stream",
       "stream": "stdout",
       "text": [
        "0.00449450150111 [ 0.24731086  0.28674115  0.41918876  0.46596997]\n",
        "0.00447084281993"
       ]
      },
      {
       "output_type": "stream",
       "stream": "stdout",
       "text": [
        " [ 0.24587848  0.2883219   0.40875997  0.44475573]\n",
        "0.17862272475"
       ]
      },
      {
       "output_type": "stream",
       "stream": "stdout",
       "text": [
        " [ 0.25023591  0.28159165  0.41948315  0.46710367]\n",
        "0.0699507929075"
       ]
      },
      {
       "output_type": "stream",
       "stream": "stdout",
       "text": [
        " [ 0.24543855  0.2809812   0.40231587  0.46784915]\n",
        "0.0122509081013"
       ]
      },
      {
       "output_type": "stream",
       "stream": "stdout",
       "text": [
        " [ 0.25090391  0.2870259   0.41002448  0.4592481 ]\n",
        "0.0242362225804"
       ]
      },
      {
       "output_type": "stream",
       "stream": "stdout",
       "text": [
        " [ 0.25096094  0.28544712  0.41058859  0.46782726]\n",
        "0.00280063783049"
       ]
      },
      {
       "output_type": "stream",
       "stream": "stdout",
       "text": [
        " [ 0.24782123  0.28918379  0.41602429  0.4631311 ]\n"
       ]
      }
     ],
     "prompt_number": 12
    },
    {
     "cell_type": "code",
     "collapsed": false,
     "input": [],
     "language": "python",
     "metadata": {},
     "outputs": [],
     "prompt_number": 12
    }
   ],
   "metadata": {}
  }
 ]
}