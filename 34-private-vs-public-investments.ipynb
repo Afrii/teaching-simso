{
 "metadata": {
  "name": ""
 },
 "nbformat": 3,
 "nbformat_minor": 0,
 "worksheets": [
  {
   "cells": [
    {
     "cell_type": "markdown",
     "metadata": {},
     "source": [
      "Title: Public vs Private Investments\n",
      "Author: Thomas Breuel\n",
      "Institution: UniKL"
     ]
    },
    {
     "cell_type": "heading",
     "level": 1,
     "metadata": {},
     "source": [
      "Optimizing Markets through Investments"
     ]
    },
    {
     "cell_type": "markdown",
     "metadata": {},
     "source": [
      "Previously:\n",
      "\n",
      "In the manufacturing simulation, we had:\n",
      "\n",
      "- a set of manufacturers with a consistent range of efficiencies\n",
      "- profits being reinvested into manufacturing capacities\n",
      "\n",
      "The result:\n",
      "\n",
      "- matching supply and demand at the lowest unit cost"
     ]
    },
    {
     "cell_type": "markdown",
     "metadata": {},
     "source": [
      "Investments:\n",
      "\n",
      "Setting:\n",
      "\n",
      "- annual \"projects\" (manufacturing in rapidly changing markets)\n",
      "- investors predicting the yield on each project\n",
      "- predicted yield is normally distributed around actual yield\n",
      "- different investors have different error terms\n",
      "\n",
      "Simplifications:\n",
      "\n",
      "- each investor picks exactly one project each year and invests a fixed fraction of their wealth in it"
     ]
    },
    {
     "cell_type": "code",
     "collapsed": false,
     "input": [
      "N = 10\n",
      "# uncertainty = 0.3*abs(randn(N))**.5\n",
      "uncertainty = linspace(0.1,0.7,N)\n",
      "uncertainty = numpy.sort(uncertainty)\n",
      "plot(uncertainty)"
     ],
     "language": "python",
     "metadata": {},
     "outputs": [
      {
       "output_type": "pyout",
       "prompt_number": 365,
       "text": [
        "[<matplotlib.lines.Line2D at 0xd7c0f10>]"
       ]
      },
      {
       "output_type": "display_data",
       "png": "[encoded data removed]"
      }
     ],
     "prompt_number": 365
    },
    {
     "cell_type": "heading",
     "level": 1,
     "metadata": {},
     "source": [
      "Private Investors"
     ]
    },
    {
     "cell_type": "markdown",
     "metadata": {},
     "source": [
      "For private investors, the entire benefit (return on investment) accrues to the investor.\n",
      "\n",
      "This means that investors making good decisions will have more money to invest next time."
     ]
    },
    {
     "cell_type": "code",
     "collapsed": false,
     "input": [
      "wealth = ones(N)\n",
      "wealth_over_time = []\n",
      "frac = 0.5\n",
      "for y in range(50):\n",
      "    M = 15\n",
      "    yields = randn(M)*0.3\n",
      "    predicted = yields[:,newaxis] + randn(M,N)*uncertainty[newaxis,:]\n",
      "    selected = argmax(predicted,axis=0)\n",
      "    wealth = (1.0-frac)*wealth + frac*(1.0+yields[selected])*wealth\n",
      "    wealth_over_time.append(wealth.copy())\n",
      "wealth_over_time = array(wealth_over_time)"
     ],
     "language": "python",
     "metadata": {},
     "outputs": [],
     "prompt_number": 366
    },
    {
     "cell_type": "code",
     "collapsed": false,
     "input": [
      "for i in range(N):\n",
      "    plot(wealth_over_time[:,i])"
     ],
     "language": "python",
     "metadata": {},
     "outputs": [
      {
       "output_type": "display_data",
       "png": "[encoded data removed]"
      }
     ],
     "prompt_number": 367
    },
    {
     "cell_type": "markdown",
     "metadata": {},
     "source": [
      "Observations:\n",
      "\n",
      "- Wealth of the investor with the best ability to predict yield increases fastest.\n",
      "- The market rewards ability to predict well.\n",
      "- Predictive ability is similar to lower unit costs in manufacturing."
     ]
    },
    {
     "cell_type": "heading",
     "level": 1,
     "metadata": {},
     "source": [
      "Public Investors"
     ]
    },
    {
     "cell_type": "markdown",
     "metadata": {},
     "source": [
      "A second model of investments is public investments.\n",
      "\n",
      "Here, a set of experts are given an annual budget to invest in the market based on their yield predictions.\n",
      "\n",
      "At the end of the year, all the returns on the investments are gathered together into a single budget and equally distributed again for next year."
     ]
    },
    {
     "cell_type": "code",
     "collapsed": false,
     "input": [
      "wealth = ones(N)\n",
      "wealth_over_time2 = []\n",
      "frac = 0.5\n",
      "for y in range(50):\n",
      "    M = 15\n",
      "    yields = randn(M)*0.3\n",
      "    predicted = yields[:,newaxis] + randn(M,N)*uncertainty[newaxis,:]\n",
      "    selected = argmax(predicted,axis=0)\n",
      "    wealth = (1.0-frac)*wealth + frac*(1.0+yields[selected])*wealth\n",
      "    wealth[:] = mean(wealth)\n",
      "    wealth_over_time2.append(wealth.copy())\n",
      "wealth_over_time2 = array(wealth_over_time2)"
     ],
     "language": "python",
     "metadata": {},
     "outputs": [],
     "prompt_number": 371
    },
    {
     "cell_type": "markdown",
     "metadata": {},
     "source": [
      "Let us plot the total wealth generated by the two approaches.\n",
      "\n"
     ]
    },
    {
     "cell_type": "code",
     "collapsed": false,
     "input": [
      "plot((sum(wealth_over_time,axis=1)),color='blue')\n",
      "plot((sum(wealth_over_time2,axis=1)),color='green')"
     ],
     "language": "python",
     "metadata": {},
     "outputs": [
      {
       "output_type": "pyout",
       "prompt_number": 374,
       "text": [
        "[<matplotlib.lines.Line2D at 0xde2b0d0>]"
       ]
      },
      {
       "output_type": "display_data",
       "png": "[encoded data removed]"
      }
     ],
     "prompt_number": 374
    },
    {
     "cell_type": "markdown",
     "metadata": {},
     "source": [
      "Observations:\n",
      "\n",
      "- rewarding private investors results in best predictors becoming wealthiest\n",
      "- rewarding best predictors results in higher overall growth"
     ]
    },
    {
     "cell_type": "markdown",
     "metadata": {},
     "source": [
      "**QUESTION**\n",
      "\n",
      "Why do we compare total wealth in the two schemes? What does that actually reflect?\n",
      "\n",
      "With private investments, the best investors accumulate the wealth. Is this a good thing?"
     ]
    },
    {
     "cell_type": "markdown",
     "metadata": {},
     "source": [
      "Attacks on public investors:\n",
      "\n",
      "The public investement schemes are easy to attack.\n",
      "\n",
      "- Investors are rewarded by something other (and of smaller value) than ROI.\n",
      "- Possible attacks:\n",
      "  - bribery: pay public investors to make suboptimal decisions\n",
      "  - fraud: misrepresent yields\n",
      "  - rent seeking, lobbying: convince politicians to alter yield estimates\n",
      "- These attacks are difficult/impossible in the private investor scheme, since companies actually need to realize the ROI in payouts."
     ]
    },
    {
     "cell_type": "markdown",
     "metadata": {},
     "source": [
      "**QUESTION**\n",
      "\n",
      "Can you design a public investement scheme that mimics the success of the private investment scheme?\n",
      "\n",
      "How can you make it attack proof?"
     ]
    },
    {
     "cell_type": "code",
     "collapsed": false,
     "input": [],
     "language": "python",
     "metadata": {},
     "outputs": []
    }
   ],
   "metadata": {}
  }
 ]
}