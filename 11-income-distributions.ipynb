{
 "metadata": {
  "name": "11-income-distributions"
 },
 "nbformat": 3,
 "nbformat_minor": 0,
 "worksheets": [
  {
   "cells": [
    {
     "cell_type": "markdown",
     "metadata": {},
     "source": [
      "Title: Simulating Income Distributions (2)\n",
      "Author: Thomas M. Breuel"
     ]
    },
    {
     "cell_type": "code",
     "collapsed": false,
     "input": [
      "\n",
      "from pylab import *\n",
      "from urllib2 import urlopen\n",
      "from bisect import bisect\n",
      "N = 100000"
     ],
     "language": "python",
     "metadata": {},
     "outputs": [],
     "prompt_number": 5
    },
    {
     "cell_type": "code",
     "collapsed": false,
     "input": [
      "\n",
      "data = genfromtxt(\"usage.csv\",skip_header=2,delimiter=\",\",names=\"lo,both,m,f\")\n",
      "adist = [row[1] for row in data]\n",
      "adist /= sum(adist)\n",
      "ages = (empsample(adist,n=N)+rand(N))*5.0"
     ],
     "language": "python",
     "metadata": {},
     "outputs": [],
     "prompt_number": 20
    },
    {
     "cell_type": "code",
     "collapsed": false,
     "input": [
      "\n",
      "def gini(samples):\n",
      "    lorenz_curve = add.accumulate(1.0*numpy.sort(samples))\n",
      "    lorenz_curve /= amax(lorenz_curve)\n",
      "    return 2*sum(linspace(0.0,1.0,len(lorenz_curve))-lorenz_curve)/len(lorenz_curve)"
     ],
     "language": "python",
     "metadata": {},
     "outputs": [],
     "prompt_number": 32
    },
    {
     "cell_type": "heading",
     "level": 1,
     "metadata": {},
     "source": [
      "Gini Coefficients in Variable Economies"
     ]
    },
    {
     "cell_type": "markdown",
     "metadata": {},
     "source": [
      "**HYPOTHESIS**: The variability in economic conditions over time (boom/bust cycles) together with different times when people are born increases the Gini coefficient of the income distribution of a society."
     ]
    },
    {
     "cell_type": "markdown",
     "metadata": {},
     "source": [
      "An additional source of variation could be that growth rates are themselves variable over time, as the economy undergoes busts and booms."
     ]
    },
    {
     "cell_type": "code",
     "collapsed": false,
     "input": [
      "from scipy.ndimage import filters\n",
      "\n",
      "def ecycles(target=4.0,sd=8.0,smooth=3.0,n=100):\n",
      "    rates = randn(n)*sd+target\n",
      "    rates = filters.gaussian_filter(rates,smooth)\n",
      "    rates += target-mean(rates)\n",
      "    return rates"
     ],
     "language": "python",
     "metadata": {},
     "outputs": [],
     "prompt_number": 21
    },
    {
     "cell_type": "code",
     "collapsed": false,
     "input": [
      "rates = ecycles(n=200)\n",
      "plot(rates)\n",
      "print mean(rates)"
     ],
     "language": "python",
     "metadata": {},
     "outputs": [
      {
       "output_type": "stream",
       "stream": "stdout",
       "text": [
        "4.0\n"
       ]
      },
      {
       "output_type": "display_data",
       "png": "[encoded data removed]"
      }
     ],
     "prompt_number": 22
    },
    {
     "cell_type": "markdown",
     "metadata": {},
     "source": [
      "For the simulation, things now get trickier, since we actually need to keep track of populations over time, aging, etc.\n",
      "This is actually turning into _agent based modeling_.\n",
      "Each agent has a number of variables:\n",
      "\n",
      "- a lifetime\n",
      "- an age\n",
      "- a current income\n",
      "\n",
      "In an OOL, we might actually make each individual an object, but in an array language, we can also write this naturally using array.\n",
      "\n",
      "Furthermore, we start the simulation up with everbody at the same age, but then let the population equillibrate over time."
     ]
    },
    {
     "cell_type": "code",
     "collapsed": false,
     "input": [
      "def random_lifetimes(N=N):\n",
      "    return (empsample(adist,n=N)+rand(N))*5.0"
     ],
     "language": "python",
     "metadata": {},
     "outputs": [],
     "prompt_number": 23
    },
    {
     "cell_type": "code",
     "collapsed": false,
     "input": [
      "def empsample(dist,n=1):\n",
      "    \"\"\"Given an array representing a histogram, return a random bin number\n",
      "    according to that histogram.\"\"\"\n",
      "    cdist = add.accumulate(dist)\n",
      "    cdist = cdist*1.0/amax(cdist)\n",
      "    result = [bisect(cdist,rand()) for i in range(n)]\n",
      "    if n==1: return result[0]\n",
      "    else: return array(result,'f')"
     ],
     "language": "python",
     "metadata": {},
     "outputs": [],
     "prompt_number": 24
    },
    {
     "cell_type": "code",
     "collapsed": false,
     "input": [
      "starting_income = 10000.0\n",
      "lifetimes = random_lifetimes()\n",
      "ages = zeros(N)\n",
      "incomes = starting_income*ones(N)"
     ],
     "language": "python",
     "metadata": {},
     "outputs": [],
     "prompt_number": 25
    },
    {
     "cell_type": "code",
     "collapsed": false,
     "input": [
      "for y,g in enumerate(rates):\n",
      "    die = find(ages>lifetimes)\n",
      "    ages[die] = 0\n",
      "    lifetimes[die] = random_lifetimes(len(die))\n",
      "    incomes[die] = starting_income\n",
      "    incomes *= 1.0+g/100.0\n",
      "    ages += 1"
     ],
     "language": "python",
     "metadata": {},
     "outputs": [],
     "prompt_number": 26
    },
    {
     "cell_type": "code",
     "collapsed": false,
     "input": [
      "incomes"
     ],
     "language": "python",
     "metadata": {},
     "outputs": [
      {
       "output_type": "pyout",
       "prompt_number": 27,
       "text": [
        "array([ 270688.08170829,   17288.27032543,   46999.59975542, ...,\n",
        "         76203.0166551 ,   17288.27032543,   34790.09095561])"
       ]
      }
     ],
     "prompt_number": 27
    },
    {
     "cell_type": "code",
     "collapsed": false,
     "input": [
      "_=hist(incomes,bins=30)\n",
      "print gini(incomes)"
     ],
     "language": "python",
     "metadata": {},
     "outputs": [
      {
       "ename": "NameError",
       "evalue": "name 'gini' is not defined",
       "output_type": "pyerr",
       "traceback": [
        "\u001b[0;31m---------------------------------------------------------------------------\u001b[0m\n\u001b[0;31mNameError\u001b[0m                                 Traceback (most recent call last)",
        "\u001b[0;32m<ipython-input-28-cf5a02c2abf6>\u001b[0m in \u001b[0;36m<module>\u001b[0;34m()\u001b[0m\n\u001b[1;32m      1\u001b[0m \u001b[0m_\u001b[0m\u001b[0;34m=\u001b[0m\u001b[0mhist\u001b[0m\u001b[0;34m(\u001b[0m\u001b[0mincomes\u001b[0m\u001b[0;34m,\u001b[0m\u001b[0mbins\u001b[0m\u001b[0;34m=\u001b[0m\u001b[0;36m30\u001b[0m\u001b[0;34m)\u001b[0m\u001b[0;34m\u001b[0m\u001b[0m\n\u001b[0;32m----> 2\u001b[0;31m \u001b[0;32mprint\u001b[0m \u001b[0mgini\u001b[0m\u001b[0;34m(\u001b[0m\u001b[0mincomes\u001b[0m\u001b[0;34m)\u001b[0m\u001b[0;34m\u001b[0m\u001b[0m\n\u001b[0m",
        "\u001b[0;31mNameError\u001b[0m: name 'gini' is not defined"
       ]
      },
      {
       "output_type": "display_data",
       "png": "[encoded data removed]"
      }
     ],
     "prompt_number": 28
    },
    {
     "cell_type": "code",
     "collapsed": false,
     "input": [
      "def experiment(target=2.0,smooth=3.0,sd=8.0,n=200):\n",
      "    rates = ecycles(target=target,smooth=smooth,sd=sd,n=n)\n",
      "    starting_income = 10000.0\n",
      "    lifetimes = random_lifetimes()\n",
      "    ages = zeros(N)\n",
      "    incomes = starting_income*ones(N)\n",
      "    for y,g in enumerate(rates):\n",
      "        die = find(ages>lifetimes)\n",
      "        ages[die] = 0\n",
      "        lifetimes[die] = random_lifetimes(len(die))\n",
      "        incomes[die] = starting_income\n",
      "        incomes *= 1.0+g/100.0\n",
      "        ages += 1\n",
      "    return gini(incomes)"
     ],
     "language": "python",
     "metadata": {},
     "outputs": [],
     "prompt_number": 29
    },
    {
     "cell_type": "code",
     "collapsed": false,
     "input": [
      "ginihv = []\n",
      "for i in range(200): \n",
      "    ginihv += [experiment(target=4.0,sd=8.0)]\n",
      "    print i,ginihv[-1]\n",
      "\n",
      "ginilv = []\n",
      "for i in range(200): \n",
      "    ginilv += [experiment(target=4.0,sd=8.0)]\n",
      "    print i,ginilv[-1]"
     ],
     "language": "python",
     "metadata": {},
     "outputs": [
      {
       "ename": "NameError",
       "evalue": "global name 'gini' is not defined",
       "output_type": "pyerr",
       "traceback": [
        "\u001b[0;31m---------------------------------------------------------------------------\u001b[0m\n\u001b[0;31mNameError\u001b[0m                                 Traceback (most recent call last)",
        "\u001b[0;32m<ipython-input-30-ea2ca5ee0c84>\u001b[0m in \u001b[0;36m<module>\u001b[0;34m()\u001b[0m\n\u001b[1;32m      1\u001b[0m \u001b[0mginihv\u001b[0m \u001b[0;34m=\u001b[0m \u001b[0;34m[\u001b[0m\u001b[0;34m]\u001b[0m\u001b[0;34m\u001b[0m\u001b[0m\n\u001b[1;32m      2\u001b[0m \u001b[0;32mfor\u001b[0m \u001b[0mi\u001b[0m \u001b[0;32min\u001b[0m \u001b[0mrange\u001b[0m\u001b[0;34m(\u001b[0m\u001b[0;36m200\u001b[0m\u001b[0;34m)\u001b[0m\u001b[0;34m:\u001b[0m\u001b[0;34m\u001b[0m\u001b[0m\n\u001b[0;32m----> 3\u001b[0;31m     \u001b[0mginihv\u001b[0m \u001b[0;34m+=\u001b[0m \u001b[0;34m[\u001b[0m\u001b[0mexperiment\u001b[0m\u001b[0;34m(\u001b[0m\u001b[0mtarget\u001b[0m\u001b[0;34m=\u001b[0m\u001b[0;36m4.0\u001b[0m\u001b[0;34m,\u001b[0m\u001b[0msd\u001b[0m\u001b[0;34m=\u001b[0m\u001b[0;36m8.0\u001b[0m\u001b[0;34m)\u001b[0m\u001b[0;34m]\u001b[0m\u001b[0;34m\u001b[0m\u001b[0m\n\u001b[0m\u001b[1;32m      4\u001b[0m     \u001b[0;32mprint\u001b[0m \u001b[0mi\u001b[0m\u001b[0;34m,\u001b[0m\u001b[0mginihv\u001b[0m\u001b[0;34m[\u001b[0m\u001b[0;34m-\u001b[0m\u001b[0;36m1\u001b[0m\u001b[0;34m]\u001b[0m\u001b[0;34m\u001b[0m\u001b[0m\n\u001b[1;32m      5\u001b[0m \u001b[0;34m\u001b[0m\u001b[0m\n",
        "\u001b[0;32m<ipython-input-29-f7a077730896>\u001b[0m in \u001b[0;36mexperiment\u001b[0;34m(target, smooth, sd, n)\u001b[0m\n\u001b[1;32m     12\u001b[0m         \u001b[0mincomes\u001b[0m \u001b[0;34m*=\u001b[0m \u001b[0;36m1.0\u001b[0m\u001b[0;34m+\u001b[0m\u001b[0mg\u001b[0m\u001b[0;34m/\u001b[0m\u001b[0;36m100.0\u001b[0m\u001b[0;34m\u001b[0m\u001b[0m\n\u001b[1;32m     13\u001b[0m         \u001b[0mages\u001b[0m \u001b[0;34m+=\u001b[0m \u001b[0;36m1\u001b[0m\u001b[0;34m\u001b[0m\u001b[0m\n\u001b[0;32m---> 14\u001b[0;31m     \u001b[0;32mreturn\u001b[0m \u001b[0mgini\u001b[0m\u001b[0;34m(\u001b[0m\u001b[0mincomes\u001b[0m\u001b[0;34m)\u001b[0m\u001b[0;34m\u001b[0m\u001b[0m\n\u001b[0m",
        "\u001b[0;31mNameError\u001b[0m: global name 'gini' is not defined"
       ]
      }
     ],
     "prompt_number": 30
    },
    {
     "cell_type": "code",
     "collapsed": false,
     "input": [
      "_=hist([ginilv,ginihv])\n",
      "print mean(ginilv),mean(ginihv)"
     ],
     "language": "python",
     "metadata": {},
     "outputs": [
      {
       "output_type": "stream",
       "stream": "stdout",
       "text": [
        "0.434198721774 0.433194689808\n"
       ]
      },
      {
       "output_type": "display_data",
       "png": "[encoded data removed]"
      }
     ],
     "prompt_number": 358
    },
    {
     "cell_type": "markdown",
     "metadata": {},
     "source": [
      "Observations:\n",
      "\n",
      "- The hypothesis is false.\n",
      "- Gini indexes have high variance in both cases\n",
      "- this means that differences in Gini index for countries with different economic histories may not be meaningful\n",
      "- there is (surprisingly) no significant difference in average Gini index"
     ]
    },
    {
     "cell_type": "heading",
     "level": 1,
     "metadata": {},
     "source": [
      "Competitive Economies"
     ]
    },
    {
     "cell_type": "markdown",
     "metadata": {},
     "source": [
      "**HYPOTHESIS**: Competition together with slight differences in skill can produce large inequality."
     ]
    },
    {
     "cell_type": "markdown",
     "metadata": {},
     "source": [
      "Let's look at a completely different economic model.\n",
      "\n",
      "- Here, everybody starts out with the same starting capital (USD 10000).\n",
      "- People have slightly different skills at multiplying that capital, a normal distribution with a small spread.\n",
      "- They now exist in a competitive environment, where the return on investment is proportional to their skill. \n",
      "- Overall growth of the economy is limited to an annual 4%.\n",
      "- Note that this limit is usually achieved through a combination of inflation and other mechanisms."
     ]
    },
    {
     "cell_type": "code",
     "collapsed": false,
     "input": [
      "wealth = 10000.0 * ones(N)\n",
      "global_growth = 0.04\n",
      "skill = maximum(1.01,1.04+0.01*randn(N))\n",
      "\n",
      "gs = []\n",
      "for i in range(100):\n",
      "    rgrowth = (1.0-skill)*wealth\n",
      "    growth = global_growth*sum(wealth)*rgrowth/sum(rgrowth)\n",
      "    wealth += growth\n",
      "    gs.append(gini(wealth))\n",
      "    \n",
      "plot(gs)"
     ],
     "language": "python",
     "metadata": {},
     "outputs": [
      {
       "output_type": "pyout",
       "prompt_number": 33,
       "text": [
        "[<matplotlib.lines.Line2D at 0x4690c90>]"
       ]
      },
      {
       "output_type": "display_data",
       "png": "[encoded data removed]"
      }
     ],
     "prompt_number": 33
    },
    {
     "cell_type": "markdown",
     "metadata": {},
     "source": [
      "Here we see that slight differences in starting conditions (skills) produce great differences in wealth over the long term.\n"
     ]
    },
    {
     "cell_type": "code",
     "collapsed": false,
     "input": [
      "_=hist(skill,bins=200,range=(0,1.5))"
     ],
     "language": "python",
     "metadata": {},
     "outputs": [
      {
       "output_type": "display_data",
       "png": "[encoded data removed]"
      }
     ],
     "prompt_number": 34
    },
    {
     "cell_type": "markdown",
     "metadata": {},
     "source": [
      "(Fairness)\n",
      "\n",
      "- Is the resulting inequality \"fair\"?\n",
      "- Regardless of whether it is fair or not, very high inequality may cause problems.\n",
      "- What would be \"fair\" solutions to limiting inequality?"
     ]
    },
    {
     "cell_type": "markdown",
     "metadata": {},
     "source": [
      "(Question)\n"
     ]
    },
    {
     "cell_type": "markdown",
     "metadata": {},
     "source": [
      "- Can you design tax or redistribution policies that \"fix\" this?\n",
      "- Can you do so fairly?"
     ]
    },
    {
     "cell_type": "code",
     "collapsed": false,
     "input": [],
     "language": "python",
     "metadata": {},
     "outputs": [],
     "prompt_number": 34
    },
    {
     "cell_type": "code",
     "collapsed": false,
     "input": [],
     "language": "python",
     "metadata": {},
     "outputs": []
    }
   ],
   "metadata": {}
  }
 ]
}